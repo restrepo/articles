{
 "cells": [
  {
   "cell_type": "markdown",
   "metadata": {},
   "source": [
    "# Combination Web of Science (WOS) and Scimago with SJR"
   ]
  },
  {
   "cell_type": "code",
   "execution_count": 3,
   "metadata": {
    "collapsed": false
   },
   "outputs": [],
   "source": [
    "%load_ext autoreload"
   ]
  },
  {
   "cell_type": "code",
   "execution_count": 4,
   "metadata": {
    "collapsed": true
   },
   "outputs": [],
   "source": [
    "%autoreload"
   ]
  },
  {
   "cell_type": "code",
   "execution_count": 5,
   "metadata": {
    "collapsed": false
   },
   "outputs": [],
   "source": [
    "import pandas as pd\n",
    "import re\n",
    "import sys\n",
    "import numpy as np\n",
    "import time\n",
    "from publications import *\n",
    "from unidecode import unidecode\n",
    "\n",
    "### Load save data at the end\n",
    "pd.set_option('display.max_rows', 500)\n",
    "pd.set_option('display.max_columns', 500)\n",
    "pd.set_option('display.max_colwidth',200)"
   ]
  },
  {
   "cell_type": "markdown",
   "metadata": {},
   "source": [
    "## Load save data at the end\n",
    "but first load following functions"
   ]
  },
  {
   "cell_type": "code",
   "execution_count": 7,
   "metadata": {
    "collapsed": false
   },
   "outputs": [],
   "source": [
    "def check_hash(df,hashseries,in_hash,min_match=10):\n",
    "    ''' hashseries obtained from dataframe df, e.g\n",
    "          hashseris=df.some_column.str.replace('\\W+','').str.lower().map(unicode)\n",
    "        within which in_hash will be searched for match at least min_match characters  \n",
    "    '''\n",
    "    comparision=True\n",
    "    for si in reversed(range(0,len(in_hash)+1)):\n",
    "        chk=df[hashseries.str.match(in_hash[:si])]\n",
    "        if chk.shape[0]>0:\n",
    "            return comparision,chk\n",
    "            break    \n",
    "        if si<min_match:\n",
    "            comparision=False\n",
    "            return comparision,pd.DataFrame()\n",
    "        \n",
    "            \n",
    "def columns_add_prefix(df,prefix):\n",
    "    return df.rename_axis( dict( (key,prefix+'_'+key) for key in df.columns.values) , axis=1)\n",
    "\n",
    "def fill_NaN(df):\n",
    "    '''Fill NaN entries with proper empty values\n",
    "     Type  : dtype: Fill with\n",
    "     string: \"0\"  : ''\n",
    "     float : \"float64\" \n",
    "    '''\n",
    "    for key in df.columns:\n",
    "        if df[key].dtype=='O':\n",
    "            df[key]=df[key].str.strip()\n",
    "            df[key]=df[key].fillna('')\n",
    "        elif df[key].dtype=='float64':\n",
    "            df[key]=df[key].fillna(0.0)\n",
    "    return df\n",
    "def read_excel_fill_NaN(*args, **kwargs):\n",
    "    '''Fill NaN entries with proper empty values\n",
    "     Type  : dtype: Fill with\n",
    "     string: \"0\"  : ''\n",
    "     float : \"float64\" \n",
    "    '''\n",
    "    df=pd.read_excel(*args, **kwargs)\n",
    "    df=fill_NaN(df)\n",
    "    return df\n",
    "    \n",
    "#To add to main publications object:\n",
    "def add_sjr_info_from_issn(self,SJR,column_issn='SN',SJR_column_journal='SJR_Title',SJR_column_issn='SJR_Issn'):\n",
    "    '''self is an publication object and SJR is the info for a journal in column SJR_Issn'''\n",
    "    if not SJR_column_journal in self.articles.columns:\n",
    "        sys.exit(\"Run first the the more exact and fast add_sjr_info\")\n",
    "            \n",
    "    self.articles=fill_NaN(self.articles)\n",
    "    kk=self.articles[self.articles[SJR_column_journal]=='']\n",
    "    for issn in kk[column_issn].str.replace('-','').unique():\n",
    "        mtch=SJR[SJR[SJR_column_issn].str.contains(issn)].reset_index(drop=True)\n",
    "        if mtch.shape[0]==1:\n",
    "            moa=kk[ kk[column_issn].str.replace('-','')==issn ]\n",
    "            if moa.shape[0]>=1:\n",
    "                #DEBUG: more filters if \n",
    "                for key in SJR.columns.values:\n",
    "                    self.articles.loc[moa.index.values,key]=mtch.ix[0][key]\n",
    "                    \n",
    "    return self\n",
    "\n",
    "def add_sjr_info_from_journal(self,SJR,column_journal='SO',SJR_column_journal='SJR_Title'):\n",
    "    '''self is an publication object and SJR is the info for a journal in column SJR_Issn'''\n",
    "    if not SJR_column_journal in self.articles.columns:\n",
    "        sys.exit(\"Run first the more exact and fast add_sjr_info\")\n",
    "        \n",
    "    self.articles=fill_NaN(self.articles)\n",
    "    kk=self.articles[self.articles[SJR_column_journal]=='']\n",
    "    #kk_hash_SO=kk[column_journal].str.replace('\\W+','').str.lower().str.strip().map(unidecode)\n",
    "    SJR_hash_Title=SJR[SJR_column_journal].str.replace('\\W+','').str.lower().str.strip().map(unidecode)\n",
    "    for title in kk[column_journal].str.lower().str.strip().unique():\n",
    "        hash_match,mtch=check_hash(SJR,SJR_hash_Title,re.sub('\\W+','',title).lower().strip() )\n",
    "        if hash_match:\n",
    "            mtch=mtch.reset_index(drop=True)\n",
    "            if mtch.shape[0]>1:\n",
    "                newtitle=re.sub('\\W+',' ',title)\n",
    "                mtch=SJR[SJR[SJR_column_journal].str.lower().str.strip().str.match('%s ' %newtitle)]\n",
    "                if mtch.shape[0]:\n",
    "                    mtch=mtch.reset_index(drop=True)\n",
    "             \n",
    "            if mtch.shape[0]==1:\n",
    "                moa=kk[ kk[column_journal].str.lower().str.strip()==title ]\n",
    "                if moa.shape[0]>=1:\n",
    "                    for key in SJR.columns.values:\n",
    "                        self.articles.loc[moa.index.values,key]=mtch.ix[0][key]\n",
    "    return self\n",
    "\n",
    "def add_sjr_info(self,SJR,column_journal='SO',SJR_column_journal='SJR_Title'):\n",
    "    '''self is an publication object and SJR is the info for a journal in column SJR_Title'''\n",
    "    self.articles=self.articles.reset_index(drop=True)\n",
    "    for joa in np.intersect1d( self.articles[column_journal].str.lower().str.strip().unique(),\\\n",
    "                                   SJR[SJR_column_journal].str.lower().str.strip().unique() ):\n",
    "        moa=self.articles[ self.articles[column_journal].str.lower() == joa ]\n",
    "        if moa.shape[0]:\n",
    "            mtch=SJR[SJR[SJR_column_journal].str.lower().str.strip()==joa].reset_index(drop=True)\n",
    "            if mtch.shape[0]==1:\n",
    "                #DEBUG: filter by ISSN if >1:\n",
    "                for key in SJR.columns.values:\n",
    "                    self.articles.loc[moa.index.values,key]=mtch.ix[0][key]\n",
    "    \n",
    "    return self\n",
    "        \n"
   ]
  },
  {
   "cell_type": "markdown",
   "metadata": {},
   "source": [
    "Design:\n",
    "Creates new full data frame joining information from several databases. \n",
    "The initial data frame is in Web of Science format, with tge prefix `wos_` in the column names:\n",
    "The new data is added as addtional columns in either an existing row identified by\n",
    "* DOI\n",
    "* Title and if necessary vol, first author surname, journal etc.\n",
    "In the current implementation only DOI will be working."
   ]
  },
  {
   "cell_type": "code",
   "execution_count": 5,
   "metadata": {
    "collapsed": true
   },
   "outputs": [],
   "source": [
    "sjr_oa=pd.read_excel('scimago/journals_scimago_open_access.xlsx')\n",
    "sjr=pd.read_excel('scimago/journals_scimago_all.xlsx')"
   ]
  },
  {
   "cell_type": "code",
   "execution_count": 6,
   "metadata": {
    "collapsed": false
   },
   "outputs": [
    {
     "data": {
      "text/plain": [
       "(6644, 55)"
      ]
     },
     "execution_count": 6,
     "metadata": {},
     "output_type": "execute_result"
    }
   ],
   "source": [
    "wos=articles(excel_file='wos_full_with_CR.xlsx')\n",
    "wos.articles=fill_NaN(wos.articles)\n",
    "wos.articles.shape"
   ]
  },
  {
   "cell_type": "code",
   "execution_count": 7,
   "metadata": {
    "collapsed": false
   },
   "outputs": [
    {
     "data": {
      "text/html": [
       "<div style=\"max-height:1000px;max-width:1500px;overflow:auto;\">\n",
       "<table border=\"1\" class=\"dataframe\">\n",
       "  <thead>\n",
       "    <tr style=\"text-align: right;\">\n",
       "      <th></th>\n",
       "      <th>AB</th>\n",
       "      <th>AF</th>\n",
       "      <th>AR</th>\n",
       "      <th>AU</th>\n",
       "      <th>BP</th>\n",
       "      <th>CR</th>\n",
       "      <th>DE</th>\n",
       "      <th>DT</th>\n",
       "      <th>EM</th>\n",
       "      <th>EP</th>\n",
       "      <th>FU</th>\n",
       "      <th>FX</th>\n",
       "      <th>GA</th>\n",
       "      <th>ID</th>\n",
       "      <th>IS</th>\n",
       "      <th>JI</th>\n",
       "      <th>LA</th>\n",
       "      <th>NR</th>\n",
       "      <th>PA</th>\n",
       "      <th>PD</th>\n",
       "      <th>PG</th>\n",
       "      <th>PI</th>\n",
       "      <th>PT</th>\n",
       "      <th>PU</th>\n",
       "      <th>PY</th>\n",
       "      <th>RP</th>\n",
       "      <th>SC</th>\n",
       "      <th>SN</th>\n",
       "      <th>SO</th>\n",
       "      <th>TC</th>\n",
       "      <th>TI</th>\n",
       "      <th>UT</th>\n",
       "      <th>VL</th>\n",
       "      <th>WC</th>\n",
       "      <th>DI</th>\n",
       "      <th>PM</th>\n",
       "      <th>RI</th>\n",
       "      <th>EI</th>\n",
       "      <th>OI</th>\n",
       "      <th>CL</th>\n",
       "      <th>CT</th>\n",
       "      <th>CY</th>\n",
       "      <th>SP</th>\n",
       "      <th>SU</th>\n",
       "      <th>BE</th>\n",
       "      <th>BN</th>\n",
       "      <th>HO</th>\n",
       "      <th>PN</th>\n",
       "      <th>SE</th>\n",
       "      <th>MA</th>\n",
       "      <th>SI</th>\n",
       "      <th>GP</th>\n",
       "      <th>CA</th>\n",
       "      <th>BA</th>\n",
       "      <th>BF</th>\n",
       "    </tr>\n",
       "  </thead>\n",
       "  <tbody>\n",
       "    <tr>\n",
       "      <th>0</th>\n",
       "      <td> Objectives: This work is intended to establish the prevalence of reverse smokers at the villages of Hato Nuevo, San Francisco and Cayo de Palma, Department of Sucre, Colombia, characterizing their...</td>\n",
       "      <td> Alvarez Gomez, Gloria J.\\nAlvarez Martinez, Efrain\\nJimenez Gomez, Raul\\nMosquera Silva, Yolanda\\nGaviria Nunez, Angela Maria\\nGarces Agudelo, Adriana\\nAlonso Duque, Alexander\\nZabala Castano, Ale...</td>\n",
       "      <td> 1111111172</td>\n",
       "      <td> Gomez, GJA\\nMartinez, EA\\nGomez, RJ\\nSilva, YM\\nNunez, AMG\\nAgudelo, AG\\nDuque, AA\\nCastano, AZ\\nGonzalez, EE\\nMillan, MI\\nOssa, DR</td>\n",
       "      <td> E1</td>\n",
       "      <td> Axell T, 1996, J ORAL PATHOL MED, V25, P49, DOI 10.1111/j.1600-0714.1996.tb00191.x\\nBARIC JM, 1982, ORAL SURG ORAL MED O, V54, P424, DOI 10.1016/0030-4220(82)90389-9\\nChang YC, 2001, J ORAL PATHOL...</td>\n",
       "      <td> oral cancer; oral premalignant lesions; reverse smoker; tobacco</td>\n",
       "      <td> Article</td>\n",
       "      <td> gloria@alvarez.nu</td>\n",
       "      <td> E8</td>\n",
       "      <td> CODI</td>\n",
       "      <td> To the habitants of Hato Nuevo, San Francisco and Cayo de Palma, Sucre,\\nColombia; to the field advisors for their help and attention in the\\naccomplishment of this study and to the CODI by the pr...</td>\n",
       "      <td> 352NW</td>\n",
       "      <td> SUBMUCOUS FIBROSIS; ANDHRA-PRADESH; SMOKING; LESIONS; INDIA;\\nLEUKOPLAKIA; EPITHELIUM; CARCINOMA; CIGARETTE; NICOTINE</td>\n",
       "      <td> 1</td>\n",
       "      <td> Med. Oral Patol. Oral Cir. Bucal</td>\n",
       "      <td> English</td>\n",
       "      <td> 28</td>\n",
       "      <td> CALLE DANIEL BALACIART N 4 PTA 17, VALENCIA, 46020, SPAIN</td>\n",
       "      <td> JAN</td>\n",
       "      <td> 8</td>\n",
       "      <td> VALENCIA</td>\n",
       "      <td> J</td>\n",
       "      <td> MEDICINA ORAL S L</td>\n",
       "      <td> 2008</td>\n",
       "      <td> Gomez, GJA (reprint author), Univ Antioquia, Fac Dent, Calle 64 52-59, Medellin, Colombia.</td>\n",
       "      <td> Dentistry, Oral Surgery &amp; Medicine</td>\n",
       "      <td> 1698-4447</td>\n",
       "      <td> MEDICINA ORAL PATOLOGIA ORAL Y CIRUGIA BUCAL</td>\n",
       "      <td> 4</td>\n",
       "      <td> Reverse smokers's and changes in oral mucosa. Department of Sucre,\\nColombia</td>\n",
       "      <td> WOS:000259504900001</td>\n",
       "      <td> 13</td>\n",
       "      <td> Dentistry, Oral Surgery &amp; Medicine</td>\n",
       "      <td> </td>\n",
       "      <td> 0</td>\n",
       "      <td> </td>\n",
       "      <td> </td>\n",
       "      <td> </td>\n",
       "      <td> </td>\n",
       "      <td> </td>\n",
       "      <td> </td>\n",
       "      <td> </td>\n",
       "      <td> </td>\n",
       "      <td> </td>\n",
       "      <td> </td>\n",
       "      <td> </td>\n",
       "      <td> </td>\n",
       "      <td> </td>\n",
       "      <td> </td>\n",
       "      <td> </td>\n",
       "      <td> </td>\n",
       "      <td> </td>\n",
       "      <td> </td>\n",
       "      <td> </td>\n",
       "    </tr>\n",
       "  </tbody>\n",
       "</table>\n",
       "</div>"
      ],
      "text/plain": [
       "                                                                                                                                                                                                        AB  \\\n",
       "0  Objectives: This work is intended to establish the prevalence of reverse smokers at the villages of Hato Nuevo, San Francisco and Cayo de Palma, Department of Sucre, Colombia, characterizing their...   \n",
       "\n",
       "                                                                                                                                                                                                        AF  \\\n",
       "0  Alvarez Gomez, Gloria J.\\nAlvarez Martinez, Efrain\\nJimenez Gomez, Raul\\nMosquera Silva, Yolanda\\nGaviria Nunez, Angela Maria\\nGarces Agudelo, Adriana\\nAlonso Duque, Alexander\\nZabala Castano, Ale...   \n",
       "\n",
       "           AR  \\\n",
       "0  1111111172   \n",
       "\n",
       "                                                                                                                                    AU  \\\n",
       "0  Gomez, GJA\\nMartinez, EA\\nGomez, RJ\\nSilva, YM\\nNunez, AMG\\nAgudelo, AG\\nDuque, AA\\nCastano, AZ\\nGonzalez, EE\\nMillan, MI\\nOssa, DR   \n",
       "\n",
       "   BP  \\\n",
       "0  E1   \n",
       "\n",
       "                                                                                                                                                                                                        CR  \\\n",
       "0  Axell T, 1996, J ORAL PATHOL MED, V25, P49, DOI 10.1111/j.1600-0714.1996.tb00191.x\\nBARIC JM, 1982, ORAL SURG ORAL MED O, V54, P424, DOI 10.1016/0030-4220(82)90389-9\\nChang YC, 2001, J ORAL PATHOL...   \n",
       "\n",
       "                                                                DE       DT  \\\n",
       "0  oral cancer; oral premalignant lesions; reverse smoker; tobacco  Article   \n",
       "\n",
       "                  EM  EP    FU  \\\n",
       "0  gloria@alvarez.nu  E8  CODI   \n",
       "\n",
       "                                                                                                                                                                                                        FX  \\\n",
       "0  To the habitants of Hato Nuevo, San Francisco and Cayo de Palma, Sucre,\\nColombia; to the field advisors for their help and attention in the\\naccomplishment of this study and to the CODI by the pr...   \n",
       "\n",
       "      GA  \\\n",
       "0  352NW   \n",
       "\n",
       "                                                                                                                      ID  \\\n",
       "0  SUBMUCOUS FIBROSIS; ANDHRA-PRADESH; SMOKING; LESIONS; INDIA;\\nLEUKOPLAKIA; EPITHELIUM; CARCINOMA; CIGARETTE; NICOTINE   \n",
       "\n",
       "  IS                                JI       LA  NR  \\\n",
       "0  1  Med. Oral Patol. Oral Cir. Bucal  English  28   \n",
       "\n",
       "                                                          PA   PD  PG  \\\n",
       "0  CALLE DANIEL BALACIART N 4 PTA 17, VALENCIA, 46020, SPAIN  JAN   8   \n",
       "\n",
       "         PI PT                 PU    PY  \\\n",
       "0  VALENCIA  J  MEDICINA ORAL S L  2008   \n",
       "\n",
       "                                                                                           RP  \\\n",
       "0  Gomez, GJA (reprint author), Univ Antioquia, Fac Dent, Calle 64 52-59, Medellin, Colombia.   \n",
       "\n",
       "                                   SC         SN  \\\n",
       "0  Dentistry, Oral Surgery & Medicine  1698-4447   \n",
       "\n",
       "                                             SO  TC  \\\n",
       "0  MEDICINA ORAL PATOLOGIA ORAL Y CIRUGIA BUCAL   4   \n",
       "\n",
       "                                                                             TI  \\\n",
       "0  Reverse smokers's and changes in oral mucosa. Department of Sucre,\\nColombia   \n",
       "\n",
       "                    UT  VL                                  WC DI  PM RI EI  \\\n",
       "0  WOS:000259504900001  13  Dentistry, Oral Surgery & Medicine      0         \n",
       "\n",
       "  OI CL CT CY SP SU BE BN HO PN SE MA SI GP CA BA BF  \n",
       "0                                                     "
      ]
     },
     "execution_count": 7,
     "metadata": {},
     "output_type": "execute_result"
    }
   ],
   "source": [
    "wos.articles[:1]"
   ]
  },
  {
   "cell_type": "markdown",
   "metadata": {},
   "source": [
    "## Includes papers from Scopus\n",
    "* Add articles with doi into WOS: loop with the intersection between DOIs\n",
    "* Creates a reduced pandas dataframe with not DOI and the DOIs not in intersection\n",
    "* Add articles with title+author into reduced WOS: loop with the intersection between title+author\n",
    "* append reduced pandas dataframe with title+author not in intersection\n"
   ]
  },
  {
   "cell_type": "code",
   "execution_count": 13,
   "metadata": {
    "collapsed": false
   },
   "outputs": [],
   "source": [
    "#sc=pd.read_csv('scopus/scopus2006-1977.csv').fillna('').drop('References',1)\n",
    "#for fs in ['scopus/scopus2007.csv','scopus/scopus2010-2009-2008.csv',\\\n",
    "#          'scopus/scopus2012-2011.csv','scopus/scopus2014-2013.csv','scopus/scopus2016-2015.csv']:\n",
    "#    print(fs)\n",
    "#    sc=sc.append(pd.read_csv(fs,error_bad_lines=False))\n",
    "#sc.to_excel('scp_full_with_Reference.xlsx',index=False)"
   ]
  },
  {
   "cell_type": "code",
   "execution_count": 13,
   "metadata": {
    "collapsed": false
   },
   "outputs": [],
   "source": [
    "scp=articles(excel_file='scp_full_with_Reference.xlsx')\n",
    "scp.articles=scp.articles.rename_axis({'﻿Authors':'Authors'},1)\n",
    "scp.articles=fill_NaN(scp.articles)"
   ]
  },
  {
   "cell_type": "code",
   "execution_count": 14,
   "metadata": {
    "collapsed": false,
    "scrolled": false
   },
   "outputs": [
    {
     "data": {
      "text/html": [
       "<div style=\"max-height:1000px;max-width:1500px;overflow:auto;\">\n",
       "<table border=\"1\" class=\"dataframe\">\n",
       "  <thead>\n",
       "    <tr style=\"text-align: right;\">\n",
       "      <th></th>\n",
       "      <th>Abbreviated Source Title</th>\n",
       "      <th>Abstract</th>\n",
       "      <th>Affiliations</th>\n",
       "      <th>Art. No.</th>\n",
       "      <th>Author Keywords</th>\n",
       "      <th>Authors with affiliations</th>\n",
       "      <th>CODEN</th>\n",
       "      <th>Chemicals/CAS</th>\n",
       "      <th>Cited by</th>\n",
       "      <th>Conference code</th>\n",
       "      <th>Conference date</th>\n",
       "      <th>Conference location</th>\n",
       "      <th>Conference name</th>\n",
       "      <th>Correspondence Address</th>\n",
       "      <th>DOI</th>\n",
       "      <th>Document Type</th>\n",
       "      <th>EID</th>\n",
       "      <th>Editors</th>\n",
       "      <th>Funding Details</th>\n",
       "      <th>ISBN</th>\n",
       "      <th>ISSN</th>\n",
       "      <th>Index Keywords</th>\n",
       "      <th>Issue</th>\n",
       "      <th>Language of Original Document</th>\n",
       "      <th>Link</th>\n",
       "      <th>Manufacturers</th>\n",
       "      <th>Molecular Sequence Numbers</th>\n",
       "      <th>Page count</th>\n",
       "      <th>Page end</th>\n",
       "      <th>Page start</th>\n",
       "      <th>PubMed ID</th>\n",
       "      <th>Publisher</th>\n",
       "      <th>References</th>\n",
       "      <th>Source</th>\n",
       "      <th>Source title</th>\n",
       "      <th>Sponsors</th>\n",
       "      <th>Title</th>\n",
       "      <th>Tradenames</th>\n",
       "      <th>Volume</th>\n",
       "      <th>Year</th>\n",
       "      <th>Authors</th>\n",
       "    </tr>\n",
       "  </thead>\n",
       "  <tbody>\n",
       "    <tr>\n",
       "      <th>0</th>\n",
       "      <td> Gaceta Sanit.</td>\n",
       "      <td> The Millennium Development Goals, and within these the Millennium Targets, constitute a working plan that strives to achieve basic goals within the field of health, eradicate poverty, and ensure c...</td>\n",
       "      <td> Área de Medicina Preventiva Y Salud Pública, Universidad de Alicante, Alicante, Spain; Facultad de Medicina, Universidad Autónoma de Yucatán, Yucatán, Mexico; Facultad Nacional de Salud Pública, U...</td>\n",
       "      <td> </td>\n",
       "      <td> Development; Millenium Goals; Political epidemiology; WHO</td>\n",
       "      <td> González, D.G., Área de Medicina Preventiva Y Salud Pública, Universidad de Alicante, Alicante, Spain, Observatorio de Políticas Públicas Y Salud (OPPS), Spain, Área de Medicina Preventiva Y Salud...</td>\n",
       "      <td> </td>\n",
       "      <td> </td>\n",
       "      <td> 5</td>\n",
       "      <td> 0</td>\n",
       "      <td> </td>\n",
       "      <td> </td>\n",
       "      <td> </td>\n",
       "      <td> González, D.G.; Área de Medicina Preventiva Y Salud Pública, Universidad de AlicanteSpain; email: Diana.Gil@ua.es</td>\n",
       "      <td> 10.1157/13101091</td>\n",
       "      <td> Review</td>\n",
       "      <td> 2-s2.0-34547700023</td>\n",
       "      <td> </td>\n",
       "      <td> </td>\n",
       "      <td> </td>\n",
       "      <td> 02139111</td>\n",
       "      <td> epidemiology; motivation; politics; public health; review; social change; Epidemiology; Goals; Politics; Public Health; Social Change</td>\n",
       "      <td> SUPPL. 3</td>\n",
       "      <td> Spanish</td>\n",
       "      <td> https://www.scopus.com/inward/record.uri?eid=2-s2.0-34547700023&amp;partnerID=40&amp;md5=2155e0c6cdb235efd8a1953c4b49c370</td>\n",
       "      <td> </td>\n",
       "      <td> </td>\n",
       "      <td> 0</td>\n",
       "      <td> 65</td>\n",
       "      <td> 61</td>\n",
       "      <td> 17433202</td>\n",
       "      <td> </td>\n",
       "      <td> </td>\n",
       "      <td> Scopus</td>\n",
       "      <td> Gaceta Sanitaria</td>\n",
       "      <td> </td>\n",
       "      <td> The challenge to public health of the Millenium Development Goals: An approach from political epidemiology [El reto para la salud pública de los Objetivos de Desarrollo del Milenio: Un enfoque des...</td>\n",
       "      <td> </td>\n",
       "      <td> 20</td>\n",
       "      <td> 2006</td>\n",
       "      <td> González D.G., Solís M.P., Cantero M.T.R., Moncada M.D.R.O., Giraldo Á.F., Stein A., Díaz C.Á.-D.</td>\n",
       "    </tr>\n",
       "  </tbody>\n",
       "</table>\n",
       "</div>"
      ],
      "text/plain": [
       "  Abbreviated Source Title  \\\n",
       "0            Gaceta Sanit.   \n",
       "\n",
       "                                                                                                                                                                                                  Abstract  \\\n",
       "0  The Millennium Development Goals, and within these the Millennium Targets, constitute a working plan that strives to achieve basic goals within the field of health, eradicate poverty, and ensure c...   \n",
       "\n",
       "                                                                                                                                                                                              Affiliations  \\\n",
       "0  Área de Medicina Preventiva Y Salud Pública, Universidad de Alicante, Alicante, Spain; Facultad de Medicina, Universidad Autónoma de Yucatán, Yucatán, Mexico; Facultad Nacional de Salud Pública, U...   \n",
       "\n",
       "  Art. No.                                            Author Keywords  \\\n",
       "0           Development; Millenium Goals; Political epidemiology; WHO   \n",
       "\n",
       "                                                                                                                                                                                 Authors with affiliations  \\\n",
       "0  González, D.G., Área de Medicina Preventiva Y Salud Pública, Universidad de Alicante, Alicante, Spain, Observatorio de Políticas Públicas Y Salud (OPPS), Spain, Área de Medicina Preventiva Y Salud...   \n",
       "\n",
       "  CODEN Chemicals/CAS  Cited by  Conference code Conference date  \\\n",
       "0                             5                0                   \n",
       "\n",
       "  Conference location Conference name  \\\n",
       "0                                       \n",
       "\n",
       "                                                                                              Correspondence Address  \\\n",
       "0  González, D.G.; Área de Medicina Preventiva Y Salud Pública, Universidad de AlicanteSpain; email: Diana.Gil@ua.es   \n",
       "\n",
       "                DOI Document Type                 EID Editors Funding Details  \\\n",
       "0  10.1157/13101091        Review  2-s2.0-34547700023                           \n",
       "\n",
       "  ISBN      ISSN  \\\n",
       "0       02139111   \n",
       "\n",
       "                                                                                                                          Index Keywords  \\\n",
       "0  epidemiology; motivation; politics; public health; review; social change; Epidemiology; Goals; Politics; Public Health; Social Change   \n",
       "\n",
       "      Issue Language of Original Document  \\\n",
       "0  SUPPL. 3                       Spanish   \n",
       "\n",
       "                                                                                                                Link  \\\n",
       "0  https://www.scopus.com/inward/record.uri?eid=2-s2.0-34547700023&partnerID=40&md5=2155e0c6cdb235efd8a1953c4b49c370   \n",
       "\n",
       "  Manufacturers Molecular Sequence Numbers  Page count Page end Page start  \\\n",
       "0                                                    0       65         61   \n",
       "\n",
       "   PubMed ID Publisher References  Source      Source title Sponsors  \\\n",
       "0   17433202                       Scopus  Gaceta Sanitaria            \n",
       "\n",
       "                                                                                                                                                                                                     Title  \\\n",
       "0  The challenge to public health of the Millenium Development Goals: An approach from political epidemiology [El reto para la salud pública de los Objetivos de Desarrollo del Milenio: Un enfoque des...   \n",
       "\n",
       "  Tradenames Volume  Year  \\\n",
       "0                20  2006   \n",
       "\n",
       "                                                                                             Authors  \n",
       "0  González D.G., Solís M.P., Cantero M.T.R., Moncada M.D.R.O., Giraldo Á.F., Stein A., Díaz C.Á.-D.  "
      ]
     },
     "execution_count": 14,
     "metadata": {},
     "output_type": "execute_result"
    }
   ],
   "source": [
    "scp.articles[:1]"
   ]
  },
  {
   "cell_type": "code",
   "execution_count": 15,
   "metadata": {
    "collapsed": false
   },
   "outputs": [],
   "source": [
    "if wos.articles.shape[0]>0:\n",
    "    wos.articles_hash=\\\n",
    "        wos.articles.TI.str.replace(r\"[^a-zA-Z0-9 ]\", \" \").str.lower().str.strip().str.replace('\\s+','').map(unidecode)\n",
    "    scp.articles_hash=\\\n",
    "        scp.articles.Title.str.replace(r\"[^a-zA-Z0-9 ]\", \" \").str.lower().str.strip().str.replace('\\s+','').map(unidecode)"
   ]
  },
  {
   "cell_type": "code",
   "execution_count": 16,
   "metadata": {
    "collapsed": false
   },
   "outputs": [],
   "source": [
    "wos.articles_hash_SO=wos.articles.SO.str.replace('\\W+','').str.lower().str.strip().map(unidecode)\n",
    "scp.articles_hash_Source_title=scp.articles['Source title'].str.replace('\\W+','').str.lower().str.strip().map(unidecode)"
   ]
  },
  {
   "cell_type": "code",
   "execution_count": 17,
   "metadata": {
    "collapsed": false,
    "scrolled": true
   },
   "outputs": [
    {
     "data": {
      "text/html": [
       "<div style=\"max-height:1000px;max-width:1500px;overflow:auto;\">\n",
       "<table border=\"1\" class=\"dataframe\">\n",
       "  <thead>\n",
       "    <tr style=\"text-align: right;\">\n",
       "      <th></th>\n",
       "      <th>SCP_Abbreviated Source Title</th>\n",
       "      <th>SCP_Abstract</th>\n",
       "      <th>SCP_Affiliations</th>\n",
       "      <th>SCP_Art. No.</th>\n",
       "      <th>SCP_Author Keywords</th>\n",
       "      <th>SCP_Authors with affiliations</th>\n",
       "      <th>SCP_CODEN</th>\n",
       "      <th>SCP_Chemicals/CAS</th>\n",
       "      <th>SCP_Cited by</th>\n",
       "      <th>SCP_Conference code</th>\n",
       "      <th>SCP_Conference date</th>\n",
       "      <th>SCP_Conference location</th>\n",
       "      <th>SCP_Conference name</th>\n",
       "      <th>SCP_Correspondence Address</th>\n",
       "      <th>SCP_DOI</th>\n",
       "      <th>SCP_Document Type</th>\n",
       "      <th>SCP_EID</th>\n",
       "      <th>SCP_Editors</th>\n",
       "      <th>SCP_Funding Details</th>\n",
       "      <th>SCP_ISBN</th>\n",
       "      <th>SCP_ISSN</th>\n",
       "      <th>SCP_Index Keywords</th>\n",
       "      <th>SCP_Issue</th>\n",
       "      <th>SCP_Language of Original Document</th>\n",
       "      <th>SCP_Link</th>\n",
       "      <th>SCP_Manufacturers</th>\n",
       "      <th>SCP_Molecular Sequence Numbers</th>\n",
       "      <th>SCP_Page count</th>\n",
       "      <th>SCP_Page end</th>\n",
       "      <th>SCP_Page start</th>\n",
       "      <th>SCP_PubMed ID</th>\n",
       "      <th>SCP_Publisher</th>\n",
       "      <th>SCP_References</th>\n",
       "      <th>SCP_Source</th>\n",
       "      <th>SCP_Source title</th>\n",
       "      <th>SCP_Sponsors</th>\n",
       "      <th>SCP_Title</th>\n",
       "      <th>SCP_Tradenames</th>\n",
       "      <th>SCP_Volume</th>\n",
       "      <th>SCP_Year</th>\n",
       "      <th>SCP_Authors</th>\n",
       "    </tr>\n",
       "  </thead>\n",
       "  <tbody>\n",
       "    <tr>\n",
       "      <th>0</th>\n",
       "      <td> Gaceta Sanit.</td>\n",
       "      <td> The Millennium Development Goals, and within these the Millennium Targets, constitute a working plan that strives to achieve basic goals within the field of health, eradicate poverty, and ensure c...</td>\n",
       "      <td> Área de Medicina Preventiva Y Salud Pública, Universidad de Alicante, Alicante, Spain; Facultad de Medicina, Universidad Autónoma de Yucatán, Yucatán, Mexico; Facultad Nacional de Salud Pública, U...</td>\n",
       "      <td> </td>\n",
       "      <td> Development; Millenium Goals; Political epidemiology; WHO</td>\n",
       "      <td> González, D.G., Área de Medicina Preventiva Y Salud Pública, Universidad de Alicante, Alicante, Spain, Observatorio de Políticas Públicas Y Salud (OPPS), Spain, Área de Medicina Preventiva Y Salud...</td>\n",
       "      <td> </td>\n",
       "      <td> </td>\n",
       "      <td> 5</td>\n",
       "      <td> 0</td>\n",
       "      <td> </td>\n",
       "      <td> </td>\n",
       "      <td> </td>\n",
       "      <td> González, D.G.; Área de Medicina Preventiva Y Salud Pública, Universidad de AlicanteSpain; email: Diana.Gil@ua.es</td>\n",
       "      <td> 10.1157/13101091</td>\n",
       "      <td> Review</td>\n",
       "      <td> 2-s2.0-34547700023</td>\n",
       "      <td> </td>\n",
       "      <td> </td>\n",
       "      <td> </td>\n",
       "      <td> 02139111</td>\n",
       "      <td> epidemiology; motivation; politics; public health; review; social change; Epidemiology; Goals; Politics; Public Health; Social Change</td>\n",
       "      <td> SUPPL. 3</td>\n",
       "      <td> Spanish</td>\n",
       "      <td> https://www.scopus.com/inward/record.uri?eid=2-s2.0-34547700023&amp;partnerID=40&amp;md5=2155e0c6cdb235efd8a1953c4b49c370</td>\n",
       "      <td> </td>\n",
       "      <td> </td>\n",
       "      <td> 0</td>\n",
       "      <td> 65</td>\n",
       "      <td> 61</td>\n",
       "      <td> 17433202</td>\n",
       "      <td> </td>\n",
       "      <td> </td>\n",
       "      <td> Scopus</td>\n",
       "      <td> Gaceta Sanitaria</td>\n",
       "      <td> </td>\n",
       "      <td> The challenge to public health of the Millenium Development Goals: An approach from political epidemiology [El reto para la salud pública de los Objetivos de Desarrollo del Milenio: Un enfoque des...</td>\n",
       "      <td> </td>\n",
       "      <td> 20</td>\n",
       "      <td> 2006</td>\n",
       "      <td> González D.G., Solís M.P., Cantero M.T.R., Moncada M.D.R.O., Giraldo Á.F., Stein A., Díaz C.Á.-D.</td>\n",
       "    </tr>\n",
       "  </tbody>\n",
       "</table>\n",
       "</div>"
      ],
      "text/plain": [
       "  SCP_Abbreviated Source Title  \\\n",
       "0                Gaceta Sanit.   \n",
       "\n",
       "                                                                                                                                                                                              SCP_Abstract  \\\n",
       "0  The Millennium Development Goals, and within these the Millennium Targets, constitute a working plan that strives to achieve basic goals within the field of health, eradicate poverty, and ensure c...   \n",
       "\n",
       "                                                                                                                                                                                          SCP_Affiliations  \\\n",
       "0  Área de Medicina Preventiva Y Salud Pública, Universidad de Alicante, Alicante, Spain; Facultad de Medicina, Universidad Autónoma de Yucatán, Yucatán, Mexico; Facultad Nacional de Salud Pública, U...   \n",
       "\n",
       "  SCP_Art. No.                                        SCP_Author Keywords  \\\n",
       "0               Development; Millenium Goals; Political epidemiology; WHO   \n",
       "\n",
       "                                                                                                                                                                             SCP_Authors with affiliations  \\\n",
       "0  González, D.G., Área de Medicina Preventiva Y Salud Pública, Universidad de Alicante, Alicante, Spain, Observatorio de Políticas Públicas Y Salud (OPPS), Spain, Área de Medicina Preventiva Y Salud...   \n",
       "\n",
       "  SCP_CODEN SCP_Chemicals/CAS  SCP_Cited by  SCP_Conference code  \\\n",
       "0                                         5                    0   \n",
       "\n",
       "  SCP_Conference date SCP_Conference location SCP_Conference name  \\\n",
       "0                                                                   \n",
       "\n",
       "                                                                                          SCP_Correspondence Address  \\\n",
       "0  González, D.G.; Área de Medicina Preventiva Y Salud Pública, Universidad de AlicanteSpain; email: Diana.Gil@ua.es   \n",
       "\n",
       "            SCP_DOI SCP_Document Type             SCP_EID SCP_Editors  \\\n",
       "0  10.1157/13101091            Review  2-s2.0-34547700023               \n",
       "\n",
       "  SCP_Funding Details SCP_ISBN  SCP_ISSN  \\\n",
       "0                               02139111   \n",
       "\n",
       "                                                                                                                      SCP_Index Keywords  \\\n",
       "0  epidemiology; motivation; politics; public health; review; social change; Epidemiology; Goals; Politics; Public Health; Social Change   \n",
       "\n",
       "  SCP_Issue SCP_Language of Original Document  \\\n",
       "0  SUPPL. 3                           Spanish   \n",
       "\n",
       "                                                                                                            SCP_Link  \\\n",
       "0  https://www.scopus.com/inward/record.uri?eid=2-s2.0-34547700023&partnerID=40&md5=2155e0c6cdb235efd8a1953c4b49c370   \n",
       "\n",
       "  SCP_Manufacturers SCP_Molecular Sequence Numbers  SCP_Page count  \\\n",
       "0                                                                0   \n",
       "\n",
       "  SCP_Page end SCP_Page start  SCP_PubMed ID SCP_Publisher SCP_References  \\\n",
       "0           65             61       17433202                                \n",
       "\n",
       "  SCP_Source  SCP_Source title SCP_Sponsors  \\\n",
       "0     Scopus  Gaceta Sanitaria                \n",
       "\n",
       "                                                                                                                                                                                                 SCP_Title  \\\n",
       "0  The challenge to public health of the Millenium Development Goals: An approach from political epidemiology [El reto para la salud pública de los Objetivos de Desarrollo del Milenio: Un enfoque des...   \n",
       "\n",
       "  SCP_Tradenames SCP_Volume  SCP_Year  \\\n",
       "0                        20      2006   \n",
       "\n",
       "                                                                                         SCP_Authors  \n",
       "0  González D.G., Solís M.P., Cantero M.T.R., Moncada M.D.R.O., Giraldo Á.F., Stein A., Díaz C.Á.-D.  "
      ]
     },
     "execution_count": 17,
     "metadata": {},
     "output_type": "execute_result"
    }
   ],
   "source": [
    "SCP=columns_add_prefix(scp.articles,'SCP')\n",
    "SCP[:1]"
   ]
  },
  {
   "cell_type": "code",
   "execution_count": 18,
   "metadata": {
    "collapsed": false
   },
   "outputs": [
    {
     "name": "stdout",
     "output_type": "stream",
     "text": [
      "0\n",
      "500\n",
      "1000\n",
      "1500\n",
      "2000\n",
      "2500\n",
      "3000\n",
      "3500\n",
      "4000\n",
      "4500\n",
      "5000\n",
      "5500\n",
      "6000\n",
      "6500\n",
      "7000\n",
      "7500\n",
      "8000\n",
      "8500\n"
     ]
    }
   ],
   "source": [
    "newwos=pd.DataFrame()\n",
    "for i in scp.articles.index:\n",
    "    if i%500==0: print(i)\n",
    "    #Try by title or DOI\n",
    "    hash_match=True\n",
    "    chk2=pd.DataFrame()\n",
    "    hash_match,chk=check_hash(wos.articles,wos.articles_hash,scp.articles_hash[i])\n",
    "        #validation: check for DOI or author\n",
    "    if not hash_match and scp.articles.DOI.str.strip().ix[i]:\n",
    "        chk=wos.articles[ wos.articles.DI==scp.articles.DOI.str.strip().ix[i] ]\n",
    "        if chk.shape[0]:\n",
    "            hash_match=True\n",
    "    #Found good match by title or DOI:        \n",
    "    if hash_match:\n",
    "        #filter either with DOI or author\n",
    "        if scp.articles.DOI.str.strip().ix[i]:\n",
    "            chk2=chk[chk.DI==scp.articles.DOI.str.strip().ix[i]]\n",
    "        \n",
    "        if not chk2.shape[0]:\n",
    "            chk2=chk[chk.AU.str.contains( unidecode( scp.articles.Authors.ix[i].split(' ')[0] ) ) ]\n",
    "            if chk2.shape[0]:\n",
    "                if chk2.shape[0]:  #take the first match: DEBUG: further filter woth journal name\n",
    "                    if chk.DI.str.strip().ix[chk2.index.values[0]]:\n",
    "                        scp.articles.loc[i,'DOI']=chk.DI.str.strip().ix[chk2.index.values[0]]\n",
    "                    elif scp.articles.DOI.str.strip().ix[i]:\n",
    "                        wos.articles.loc[chk2.index.values[0],'DI']=scp.articles.DOI.str.strip().ix[i]\n",
    "                        \n",
    "            else:\n",
    "                hash_match=False\n",
    "                \n",
    "        #Finally check journal\n",
    "        if hash_match:\n",
    "            hash_match,chktmp=check_hash(wos.articles,wos.articles_hash_SO,scp.articles_hash_Source_title[i],min_match=9)\n",
    "        \n",
    "        \n",
    "                    \n",
    "                    \n",
    "    #print(i,len(scp.articles_hash[i]),si,chk.shape[0],chk2.shape[0],hash_match)\n",
    "    #if chk2.shape[0]: \n",
    "    #    print(wos.articles.SO[chk2.index.values[0]],':',scp.articles['Source title'][i])\n",
    "    \n",
    "    ##Actionschk.AU.str.contains(\n",
    "    if hash_match:\n",
    "        ##add columns to wos.articles\n",
    "        for key in SCP.columns.values:\n",
    "                wos.articles.loc[chk2.index.values[0],key]=SCP.ix[ i ][key]\n",
    "        \n",
    "    else:\n",
    "        ##append new entry\n",
    "        ##fill; wos.articles.SO; wos.articles.SN\n",
    "        #break\n",
    "        \n",
    "        newwos=newwos.append( SCP.ix[ i ],ignore_index=True )\n",
    "        newwos.loc[newwos.shape[0]-1,'DI']=scp.articles.ix[ i ]['DOI']\n",
    "        newwos.loc[newwos.shape[0]-1,'TI']=scp.articles.ix[ i ]['Title']\n",
    "        newwos.loc[newwos.shape[0]-1,'SO']=scp.articles.ix[ i ]['Source title']\n",
    "        newwos.loc[newwos.shape[0]-1,'SN']=re.sub('(^[0-9A-Z]{4})',r'\\1-',\\\n",
    "                                                           scp.articles.ix[ i ]['ISSN'])\n",
    "        #fill the other entries in proper format\n",
    "    #if i>100:\n",
    "    #    break"
   ]
  },
  {
   "cell_type": "code",
   "execution_count": 19,
   "metadata": {
    "collapsed": false
   },
   "outputs": [],
   "source": [
    "wos.articles=wos.articles.append(newwos)\n",
    "wos.articles=fill_NaN(wos.articles)"
   ]
  },
  {
   "cell_type": "code",
   "execution_count": 29,
   "metadata": {
    "collapsed": false
   },
   "outputs": [
    {
     "data": {
      "text/plain": [
       "(9938, 111)"
      ]
     },
     "execution_count": 29,
     "metadata": {},
     "output_type": "execute_result"
    }
   ],
   "source": [
    "wos.articles=wos.articles.reset_index(drop=True)\n",
    "wos.articles.shape"
   ]
  },
  {
   "cell_type": "code",
   "execution_count": 21,
   "metadata": {
    "collapsed": false
   },
   "outputs": [],
   "source": [
    "kk=self.articles[self.articles.SO=='']"
   ]
  },
  {
   "cell_type": "code",
   "execution_count": 22,
   "metadata": {
    "collapsed": false
   },
   "outputs": [
    {
     "data": {
      "text/plain": [
       "(0, 111)"
      ]
     },
     "execution_count": 22,
     "metadata": {},
     "output_type": "execute_result"
    }
   ],
   "source": [
    "kk.shape"
   ]
  },
  {
   "cell_type": "markdown",
   "metadata": {
    "collapsed": false
   },
   "source": [
    "## Include information from journals"
   ]
  },
  {
   "cell_type": "code",
   "execution_count": 7,
   "metadata": {
    "collapsed": false
   },
   "outputs": [
    {
     "name": "stdout",
     "output_type": "stream",
     "text": [
      "59.33312225341797\n"
     ]
    }
   ],
   "source": [
    "start=time.time()\n",
    "#prepare new columns\n",
    "#prefix='SJR'\n",
    "#SJR=sjr.rename_axis( dict( (key,prefix+'_'+key) for key in sjr.columns.values) , axis=1)\n",
    "SJR=columns_add_prefix(sjr,'SJR')\n",
    "#Add to exising dataframe\n",
    "column_journal='SO'\n",
    "self=wos    \n",
    "self=add_sjr_info(self,SJR)    \n",
    "print(time.time()-start)"
   ]
  },
  {
   "cell_type": "code",
   "execution_count": 8,
   "metadata": {
    "collapsed": false
   },
   "outputs": [],
   "source": [
    "self.articles=fill_NaN(self.articles)"
   ]
  },
  {
   "cell_type": "code",
   "execution_count": 9,
   "metadata": {
    "collapsed": false
   },
   "outputs": [
    {
     "name": "stdout",
     "output_type": "stream",
     "text": [
      "12.443436861038208\n"
     ]
    }
   ],
   "source": [
    "start=time.time()\n",
    "self=add_sjr_info_from_issn(self,SJR)\n",
    "print(time.time()-start)"
   ]
  },
  {
   "cell_type": "code",
   "execution_count": 10,
   "metadata": {
    "collapsed": false
   },
   "outputs": [
    {
     "name": "stdout",
     "output_type": "stream",
     "text": [
      "149.137699842453\n"
     ]
    }
   ],
   "source": [
    "start=time.time()\n",
    "self=add_sjr_info_from_journal(self,SJR)\n",
    "print(time.time()-start)"
   ]
  },
  {
   "cell_type": "markdown",
   "metadata": {},
   "source": [
    "## Tag open access papers based on WOS name database"
   ]
  },
  {
   "cell_type": "markdown",
   "metadata": {
    "collapsed": false
   },
   "source": [
    "## Tag open access papers based on Scimago SJR database based in SJR_Title\n",
    "* Articles withoit SJR_Title and not in WOS Open Acces database cannot be tagged as Open Acces"
   ]
  },
  {
   "cell_type": "code",
   "execution_count": 55,
   "metadata": {
    "collapsed": false
   },
   "outputs": [
    {
     "data": {
      "text/plain": [
       "5.882645606994629"
      ]
     },
     "execution_count": 55,
     "metadata": {},
     "output_type": "execute_result"
    }
   ],
   "source": [
    "start=time.time()\n",
    "wos.articles['Open_Access']='No'\n",
    "#sjr_open_acces_df=sjr_oa\n",
    "for jrnl in np.intersect1d(sjr_oa.Title.str.lower().str.strip(),wos.articles.SO.str.lower().str.strip()):\n",
    "    moa=wos.articles[ wos.articles.SO.str.lower().str.strip() == jrnl ]\n",
    "    for j in moa.index:\n",
    "        wos.articles.loc[j,'Open_Access']='Yes'\n",
    "time.time()-start"
   ]
  },
  {
   "cell_type": "markdown",
   "metadata": {},
   "source": [
    "## Results"
   ]
  },
  {
   "cell_type": "code",
   "execution_count": 25,
   "metadata": {
    "collapsed": false
   },
   "outputs": [
    {
     "data": {
      "text/plain": [
       "(3110, 112)"
      ]
     },
     "execution_count": 25,
     "metadata": {},
     "output_type": "execute_result"
    }
   ],
   "source": [
    "wos.articles[wos.articles.Open_Access=='Yes'].shape"
   ]
  },
  {
   "cell_type": "code",
   "execution_count": 26,
   "metadata": {
    "collapsed": false
   },
   "outputs": [
    {
     "data": {
      "text/plain": [
       "iatreia                                                                              456\n",
       "revista colombiana de ciencias pecuarias                                             165\n",
       "livestock research for rural development                                              85\n",
       "revista mvz cordoba                                                                   78\n",
       "vitae                                                                                 73\n",
       "revista colombiana de gastroenterologia                                               71\n",
       "informacion tecnologica                                                               69\n",
       "plos one                                                                              66\n",
       "colombia medica                                                                       64\n",
       "revista de salud publica                                                              64\n",
       "revista colombiana de cardiologia                                                     50\n",
       "revista colombiana de obstetricia y ginecologia                                       50\n",
       "co-herencia                                                                           48\n",
       "memorias do instituto oswaldo cruz                                                    48\n",
       "revista colombiana de entomologia                                                     40\n",
       "revista gerencia y politicas de salud                                                 39\n",
       "revista de biologia tropical                                                          31\n",
       "revista cubana de plantas medicinales                                                 31\n",
       "gaceta sanitaria                                                                      25\n",
       "acta biologica colombiana                                                             24\n",
       "index de enfermeria                                                                   21\n",
       "plos neglected tropical diseases                                                      20\n",
       "revista colombiana de psiquiatria                                                     20\n",
       "mutatis mutandis                                                                      20\n",
       "cadernos de saude publica                                                             19\n",
       "molecules                                                                             19\n",
       "caldasia                                                                              19\n",
       "revista colombiana de anestesiologia                                                  19\n",
       "ingenieria e investigacion                                                            18\n",
       "revista de estudios sociales                                                          18\n",
       "salud publica de mexico                                                               17\n",
       "malaria journal                                                                       17\n",
       "interciencia                                                                          16\n",
       "revista mexicana de fisica                                                            16\n",
       "nutricion hospitalaria                                                                16\n",
       "revista colombiana de estadistica                                                     15\n",
       "salud uninorte                                                                        15\n",
       "ikala                                                                                 15\n",
       "revista de metalurgia                                                                 15\n",
       "revista chilena de nutricion                                                          15\n",
       "aquichan                                                                              15\n",
       "revista cubana de farmacia                                                            15\n",
       "avances en odontoestomatologia                                                        15\n",
       "historia critica                                                                      15\n",
       "medical mycology                                                                      14\n",
       "revista panamericana de salud publica/pan american journal of public health           14\n",
       "revista chilena de obstetricia y ginecologia                                          14\n",
       "journal of natural products                                                           14\n",
       "european physical journal b                                                           13\n",
       "arthritis and rheumatism                                                              12\n",
       "universitas psychologica                                                              11\n",
       "european journal of heart failure                                                     11\n",
       "revista lasallista de investigacion                                                   11\n",
       "infectio                                                                              11\n",
       "ingeniare                                                                             11\n",
       "journal of physics: conference series                                                 10\n",
       "virology journal                                                                      10\n",
       "plos genetics                                                                         10\n",
       "optics express                                                                        10\n",
       "mastozoologia neotropical                                                             10\n",
       "revista de saude publica                                                               9\n",
       "revista colombiana de quimica                                                          9\n",
       "ideas y valores                                                                        9\n",
       "revista latinoamericana de psicologia                                                  9\n",
       "atencion primaria                                                                      9\n",
       "revista medica de chile                                                                9\n",
       "revista latinoamericana de metalurgia y materiales                                     9\n",
       "international journal of morphology                                                    9\n",
       "revista espanola de salud publica                                                      9\n",
       "revista do instituto de medicina tropical de sao paulo                                 8\n",
       "revista cubana de obstetricia y ginecologia                                            8\n",
       "revista mexicana de biodiversidad                                                      8\n",
       "revista ciencias de la salud                                                           8\n",
       "analisis politico                                                                      8\n",
       "bioresource technology                                                                 8\n",
       "estudios pedagogicos                                                                   8\n",
       "boletin latinoamericano y del caribe de plantas medicinales y aromaticas               8\n",
       "chemical engineering journal                                                           8\n",
       "revista cubana de salud publica                                                        8\n",
       "scientific reports                                                                     8\n",
       "investigacion bibliotecologica                                                         7\n",
       "journal of infectious diseases                                                         7\n",
       "american journal of roentgenology                                                      7\n",
       "portugaliae electrochimica acta                                                        7\n",
       "international journal of pharmacy and pharmaceutical sciences                          7\n",
       "international journal of infectious diseases                                           7\n",
       "bmc genomics                                                                           7\n",
       "ingenieria y universidad                                                               7\n",
       "international journal of psychological research                                        7\n",
       "clinical and experimental immunology                                                   7\n",
       "revista brasileira de entomologia                                                      7\n",
       "cuadernos de administracion                                                            7\n",
       "revista chilena de pediatria                                                           6\n",
       "bmc infectious diseases                                                                6\n",
       "papeles de poblacion                                                                   6\n",
       "cirugia plastica ibero-latinoamericana                                                 6\n",
       "trials                                                                                 6\n",
       "universitas scientiarum                                                                6\n",
       "neurology                                                                              6\n",
       "journal of the brazilian chemical society                                              6\n",
       "acta physica polonica a                                                                6\n",
       "brazilian journal of medical and biological research                                   5\n",
       "revista cubana de estomatologia                                                        5\n",
       "archivos de medicina veterinaria                                                       5\n",
       "ornitologia colombiana                                                                 5\n",
       "frontiers in aging neuroscience                                                        5\n",
       "tropical journal of pharmaceutical research                                            5\n",
       "journal of rheumatology                                                                5\n",
       "check list                                                                             5\n",
       "toxins                                                                                 5\n",
       "salud colectiva                                                                        5\n",
       "nanoscale research letters                                                             5\n",
       "magis                                                                                  5\n",
       "bmj open                                                                               5\n",
       "revista peruana de medicina experimental y salud publica                               5\n",
       "genetics and molecular biology                                                         5\n",
       "avances en psicologia latinoamericana                                                  5\n",
       "cuadernos de economia                                                                  4\n",
       "acta literaria                                                                         4\n",
       "frontiers in cellular neuroscience                                                     4\n",
       "immunology                                                                             4\n",
       "actas espanolas de psiquiatria                                                         4\n",
       "cuadernos de desarrollo rural                                                          4\n",
       "social medicine                                                                        4\n",
       "eidos                                                                                  4\n",
       "revista espanola de documentacion cientifica                                           4\n",
       "ensayos sobre politica economica                                                       4\n",
       "journal of investigational allergology and clinical immunology                         4\n",
       "nutrients                                                                              4\n",
       "revista colombiana de fisica                                                           4\n",
       "quimica nova                                                                           4\n",
       "bmc public health                                                                      4\n",
       "zookeys                                                                                4\n",
       "gerokomos                                                                              4\n",
       "revista cubana de hematologia, inmunologia y hemoterapia                               4\n",
       "bitacora urbano territorial                                                            4\n",
       "revista da sociedade brasileira de medicina tropical                                   4\n",
       "atenea                                                                                 4\n",
       "palabra clave                                                                          4\n",
       "revista brasileira de epidemiologia                                                    4\n",
       "papeis avulsos de zoologia                                                             3\n",
       "bmc research notes                                                                     3\n",
       "enfermeria global                                                                      3\n",
       "american journal of hematology                                                         3\n",
       "historelo                                                                              3\n",
       "pediatrics                                                                             3\n",
       "saude e sociedade                                                                      3\n",
       "frontiers in immunology                                                                3\n",
       "cuadernos de vivienda y urbanismo                                                      3\n",
       "signo y pensamiento                                                                    3\n",
       "journal of infection in developing countries                                           3\n",
       "cuadernos de musica, artes visuales y artes escenicas                                  3\n",
       "frontiers in microbiology                                                              3\n",
       "pharmacologyonline                                                                     3\n",
       "revista colombiana de psicologia                                                       3\n",
       "world allergy organization journal                                                     3\n",
       "perspectivas em ciencia da informacao                                                  3\n",
       "retrovirology                                                                          3\n",
       "influenza and other respiratory viruses                                                3\n",
       "acta colombiana de psicologia                                                          3\n",
       "agronomia colombiana                                                                   3\n",
       "ciencia rural                                                                          3\n",
       "idesia                                                                                 3\n",
       "revista cubana de investigaciones biomedicas                                           3\n",
       "revista espanola de nutricion humana y dietetica                                       3\n",
       "world journal of gastroenterology                                                      3\n",
       "revista venezolana de gerencia                                                         3\n",
       "tropical plant pathology                                                               3\n",
       "revista cubana de medicina tropical                                                    3\n",
       "biological psychiatry                                                                  3\n",
       "brazilian journal of infectious diseases                                               3\n",
       "tonos digital                                                                          3\n",
       "agroalimentaria                                                                        3\n",
       "brazilian journal of pharmaceutical sciences                                           3\n",
       "revista de toxicologia                                                                 3\n",
       "journal of the chilean chemical society                                                3\n",
       "international journal for equity in health                                             3\n",
       "oxidative medicine and cellular longevity                                              3\n",
       "journal of venomous animals and toxins including tropical diseases                     3\n",
       "italian journal of animal science                                                      2\n",
       "advances in pharmacological sciences                                                   2\n",
       "etnografica                                                                            2\n",
       "frontiers in genetics                                                                  2\n",
       "chemical communications                                                                2\n",
       "peerj                                                                                  2\n",
       "revista internacional de sociologia                                                    2\n",
       "medicina intensiva                                                                     2\n",
       "marine drugs                                                                           2\n",
       "anclajes                                                                               2\n",
       "revista cubana de ortopedia y traumatologia                                            2\n",
       "engineering applications of artificial intelligence                                    2\n",
       "boletin de la sociedad espanola de ceramica y vidrio                                   2\n",
       "international journal of applied engineering research                                  2\n",
       "bmc biology                                                                            2\n",
       "genetics                                                                               2\n",
       "revista cubana de enfermeria                                                           2\n",
       "tropical conservation science                                                          2\n",
       "enfermedades infecciosas y microbiologia clinica                                       2\n",
       "pan-american journal of aquatic sciences                                               2\n",
       "revista argentina de endocrinologia y metabolismo                                      2\n",
       "revista argentina de dermatologia                                                      2\n",
       "journal of tropical medicine                                                           2\n",
       "culture and psychology                                                                 2\n",
       "hidrobiologica                                                                         2\n",
       "revista chilena de literatura                                                          2\n",
       "ecology and evolution                                                                  2\n",
       "journal of urology                                                                     2\n",
       "open infectious diseases journal                                                       2\n",
       "biomed research international                                                          2\n",
       "veterinary medicine international                                                      2\n",
       "animal reproduction science                                                            2\n",
       "literatura y linguistica                                                               2\n",
       "anuario colombiano de historia social y de la cultura                                  2\n",
       "electronic journal of combinatorics                                                    2\n",
       "meta                                                                                   2\n",
       "araucaria                                                                              2\n",
       "perfiles educativos                                                                    2\n",
       "mbio                                                                                   2\n",
       "bulletin of materials science                                                          2\n",
       "bmc pediatrics                                                                         2\n",
       "international journal of electrochemical science                                       2\n",
       "acta amazonica                                                                         2\n",
       "implementation science                                                                 2\n",
       "journal of integer sequences                                                           2\n",
       "frontiers in plant science                                                             2\n",
       "angle orthodontist                                                                     2\n",
       "american museum novitates                                                              2\n",
       "psychologist                                                                           2\n",
       "brazilian dental journal                                                               2\n",
       "evolutionary biology                                                                   2\n",
       "teologia y vida                                                                        2\n",
       "biota neotropica                                                                       2\n",
       "genomics                                                                               2\n",
       "food technology and biotechnology                                                      2\n",
       "bmc microbiology                                                                       2\n",
       "acta agronomica                                                                        2\n",
       "international journal of environmental research and public health                      2\n",
       "biological research                                                                    2\n",
       "asclepio                                                                               2\n",
       "revista espanola de enfermedades digestivas                                            2\n",
       "tropical and subtropical agroecosystems                                                2\n",
       "international journal of clinical and health psychology                                2\n",
       "ambio                                                                                  2\n",
       "discrete dynamics in nature and society                                                1\n",
       "mediators of inflammation                                                              1\n",
       "revista internacional de contaminacion ambiental                                       1\n",
       "dental press journal of orthodontics                                                   1\n",
       "educacao e pesquisa                                                                    1\n",
       "electronic journal of probability                                                      1\n",
       "open materials science journal                                                         1\n",
       "advances in meteorology                                                                1\n",
       "inteligencia artificial                                                                1\n",
       "pesquisa operacional                                                                   1\n",
       "intangible capital                                                                     1\n",
       "educacao e sociedade                                                                   1\n",
       "american journal of veterinary research                                                1\n",
       "memorias                                                                               1\n",
       "international journal of ecology                                                       1\n",
       "bmc health services research                                                           1\n",
       "revista peruana de biologia                                                            1\n",
       "frontiers in cellular and infection microbiology                                       1\n",
       "revista de la facultad de agronomia                                                    1\n",
       "informacion, cultura y sociedad                                                        1\n",
       "revista de humanidades                                                                 1\n",
       "revista de economia institucional                                                      1\n",
       "communications in mathematical physics                                                 1\n",
       "opiniao publica                                                                        1\n",
       "climate of the past                                                                    1\n",
       "ernahrungs umschau                                                                     1\n",
       "revista cubana de fisica                                                               1\n",
       "revista de indias                                                                      1\n",
       "bmc immunology                                                                         1\n",
       "izquierdas                                                                             1\n",
       "jornal brasileiro de psiquiatria                                                       1\n",
       "cultura, ciencia y deporte                                                             1\n",
       "revista chilena de neuro-psiquiatria                                                   1\n",
       "vniversitas                                                                            1\n",
       "microbiologyopen                                                                       1\n",
       "desarrollo y sociedad                                                                  1\n",
       "revista brasileira de estudos de populacao                                             1\n",
       "journal of the international society of sports nutrition                               1\n",
       "pesquisa brasileira em odontopediatria e clinica integrada                             1\n",
       "journal of negative results in biomedicine                                             1\n",
       "north american journal of medical sciences                                             1\n",
       "gestao e producao                                                                      1\n",
       "advances in virology                                                                   1\n",
       "producao                                                                               1\n",
       "international journal of emergency medicine                                            1\n",
       "american journal of obstetrics and gynecology                                          1\n",
       "acta gastroenterologica latinoamericana                                                1\n",
       "bulletin of the world health organization                                              1\n",
       "liber quarterly                                                                        1\n",
       "nephrology                                                                             1\n",
       "revista de ciencias farmaceuticas basica e aplicada                                    1\n",
       "advances in high energy physics                                                        1\n",
       "photonics letters of poland                                                            1\n",
       "revista chilena de historia natural                                                    1\n",
       "chest                                                                                  1\n",
       "advances in multimedia                                                                 1\n",
       "leprosy review                                                                         1\n",
       "estudios filologicos                                                                   1\n",
       "health and quality of life outcomes                                                    1\n",
       "ecologia austral                                                                       1\n",
       "revista ambiente e agua                                                                1\n",
       "archives of microbiology                                                               1\n",
       "theoretical biology and medical modelling                                              1\n",
       "revista de la sociedad espanola del dolor                                              1\n",
       "brazilian archives of biology and technology                                           1\n",
       "aiche journal                                                                          1\n",
       "genome biology and evolution                                                           1\n",
       "international journal on smart sensing and intelligent systems                         1\n",
       "emerging infectious diseases                                                           1\n",
       "journal of cytology                                                                    1\n",
       "eure                                                                                   1\n",
       "revista de economia mundial                                                            1\n",
       "journal of theoretical and applied mechanics                                           1\n",
       "ecancermedicalscience                                                                  1\n",
       "chaos, solitons and fractals                                                           1\n",
       "journal of vision                                                                      1\n",
       "new journal of physics                                                                 1\n",
       "entropy                                                                                1\n",
       "biocell                                                                                1\n",
       "dermatology online journal                                                             1\n",
       "journal of probability and statistics                                                  1\n",
       "nuclear physics b                                                                      1\n",
       "revista de la union matematica argentina                                               1\n",
       "british journal of surgery                                                             1\n",
       "revista chilena de cirugia                                                             1\n",
       "international journal of chemical engineering                                          1\n",
       "cuadernos de gestion                                                                   1\n",
       "photonic sensors                                                                       1\n",
       "archives of suicide research                                                           1\n",
       "avian conservation and ecology                                                         1\n",
       "computational and theoretical chemistry                                                1\n",
       "data in brief                                                                          1\n",
       "latin american journal of aquatic research                                             1\n",
       "world journal of surgical oncology                                                     1\n",
       "ear, nose and throat journal                                                           1\n",
       "journal of human reproductive sciences                                                 1\n",
       "studia historica, historia moderna                                                     1\n",
       "bmc medicine                                                                           1\n",
       "cancer cell international                                                              1\n",
       "international journal of nanomedicine                                                  1\n",
       "salud mental                                                                           1\n",
       "plant biology                                                                          1\n",
       "biocontrol                                                                             1\n",
       "european journal of sport science                                                      1\n",
       "aids research and therapy                                                              1\n",
       "revista de ciencias sociales                                                           1\n",
       "biomedical optics express                                                              1\n",
       "pesquisa agropecuaria brasileira                                                       1\n",
       "bioinformatics and biology insights                                                    1\n",
       "cadernos de pesquisa                                                                   1\n",
       "optica pura y aplicada                                                                 1\n",
       "biogeosciences                                                                         1\n",
       "neuropsychiatric disease and treatment                                                 1\n",
       "arquivo brasileiro de medicina veterinaria e zootecnia                                 1\n",
       "anales del sistema sanitario de navarra                                                1\n",
       "international electronic journal of mathematics education                              1\n",
       "revista internacional de medicina y ciencias de la actividad fisica y del deporte      1\n",
       "fibrogenesis and tissue repair                                                         1\n",
       "revista cubana de higiene y epidemiologia                                              1\n",
       "salud y drogas                                                                         1\n",
       "medicine                                                                               1\n",
       "american journal of chinese medicine                                                   1\n",
       "topicos                                                                                1\n",
       "acta herpetologica                                                                     1\n",
       "zootecnia tropical                                                                     1\n",
       "america latina hoy                                                                     1\n",
       "public health                                                                          1\n",
       "revista de biologia marina y oceanografia                                              1\n",
       "chemicke listy                                                                         1\n",
       "scientific programming                                                                 1\n",
       "journal of indian society of periodontology                                            1\n",
       "journal of pharmaceutical sciences                                                     1\n",
       "bioagro                                                                                1\n",
       "international journal of engineering and technology                                    1\n",
       "neural plasticity                                                                      1\n",
       "redox biology                                                                          1\n",
       "colombia internacional                                                                 1\n",
       "bmc musculoskeletal disorders                                                          1\n",
       "gayana - botanica                                                                      1\n",
       "journal of advanced research                                                           1\n",
       "bmc medical research methodology                                                       1\n",
       "forum qualitative sozialforschung                                                      1\n",
       "journal of translational medicine                                                      1\n",
       "journal of biomedical science                                                          1\n",
       "ecohealth                                                                              1\n",
       "clinical ophthalmology                                                                 1\n",
       "ciencia e investigacion agraria                                                        1\n",
       "antipoda                                                                               1\n",
       "anesthesiology                                                                         1\n",
       "suma psicologica                                                                       1\n",
       "diversity                                                                              1\n",
       "revista brasileira de saude materno infantil                                           1\n",
       "bone marrow transplantation                                                            1\n",
       "europe's journal of psychology                                                         1\n",
       "journal of the serbian chemical society                                                1\n",
       "reproductive biology and endocrinology                                                 1\n",
       "cirugia y cirujanos                                                                    1\n",
       "bmc medical education                                                                  1\n",
       "international microbiology                                                             1\n",
       "environmental technology                                                               1\n",
       "agrociencia                                                                            1\n",
       "journal of genetics                                                                    1\n",
       "formacion universitaria                                                                1\n",
       "journal of universal computer science                                                  1\n",
       "journal of reproduction and infertility                                                1\n",
       "motriz. revista de educacao fisica                                                     1\n",
       "chemical geology                                                                       1\n",
       "anales de psicologia                                                                   1\n",
       "trabajos de prehistoria                                                                1\n",
       "pesquisa veterinaria brasileira                                                        1\n",
       "brazilian journal of biology = revista brasleira de biologia                           1\n",
       "bmc anesthesiology                                                                     1\n",
       "revista brasileira de ciencias do esporte                                              1\n",
       "thermal science                                                                        1\n",
       "frontiers in physiology                                                                1\n",
       "revista brasileira de ensino de fisica                                                 1\n",
       "journal of electrical and computer engineering                                         1\n",
       "revista musical chilena                                                                1\n",
       "acta paulista de enfermagem                                                            1\n",
       "environmental health perspectives                                                      1\n",
       "bmc complementary and alternative medicine                                             1\n",
       "summa phytopathologica                                                                 1\n",
       "bid                                                                                    1\n",
       "japanese journal of infectious diseases                                                1\n",
       "economic analysis and policy                                                           1\n",
       "isegoria                                                                               1\n",
       "movimento                                                                              1\n",
       "journal of clinical and experimental dentistry                                         1\n",
       "observatorio                                                                           1\n",
       "physics letters, section b: nuclear, elementary particle and high-energy physics       1\n",
       "curriculo sem fronteiras                                                               1\n",
       "nucleic acids research                                                                 1\n",
       "per musi                                                                               1\n",
       "acta bioethica                                                                         1\n",
       "case reports in dermatology                                                            1\n",
       "molecular medicine                                                                     1\n",
       "international journal of psychology                                                    1\n",
       "zoologia                                                                               1\n",
       "boletin de la sociedad argentina de botanica                                           1\n",
       "clinics                                                                                1\n",
       "bulletin of the chemical society of ethiopia                                           1\n",
       "international journal of alzheimer's disease                                           1\n",
       "contributions to zoology                                                               1\n",
       "revista mexicana de astronomia y astrofisica                                           1\n",
       "revista espanola de cirugia oral y maxilofacial                                        1\n",
       "molbank                                                                                1\n",
       "revista de psicodidactica                                                              1\n",
       "autoimmune diseases                                                                    1\n",
       "bmc genetics                                                                           1\n",
       "dialogos                                                                               1\n",
       "environmental engineering science                                                      1\n",
       "bmc bioinformatics                                                                     1\n",
       "plos pathogens                                                                         1\n",
       "Name: SO, dtype: int64"
      ]
     },
     "execution_count": 26,
     "metadata": {},
     "output_type": "execute_result"
    }
   ],
   "source": [
    "wos.articles[wos.articles.Open_Access=='Yes'].SO.str.lower().value_counts()"
   ]
  },
  {
   "cell_type": "code",
   "execution_count": 27,
   "metadata": {
    "collapsed": false
   },
   "outputs": [
    {
     "data": {
      "text/plain": [
       "Q1    3307\n",
       "Q2    2317\n",
       "Q4    2042\n",
       "Q3    1646\n",
       "-      325\n",
       "Name: SJR_SJR Best Quartile, dtype: int64"
      ]
     },
     "execution_count": 27,
     "metadata": {},
     "output_type": "execute_result"
    }
   ],
   "source": [
    "wos.articles['SJR_SJR Best Quartile'].value_counts()"
   ]
  },
  {
   "cell_type": "code",
   "execution_count": 30,
   "metadata": {
    "collapsed": false
   },
   "outputs": [
    {
     "data": {
      "text/plain": [
       "Q4    1393\n",
       "Q3     780\n",
       "Q2     472\n",
       "Q1     465\n",
       "Name: SJR_SJR Best Quartile, dtype: int64"
      ]
     },
     "execution_count": 30,
     "metadata": {},
     "output_type": "execute_result"
    }
   ],
   "source": [
    "wos.articles[wos.articles.Open_Access=='Yes']['SJR_SJR Best Quartile'].value_counts()"
   ]
  },
  {
   "cell_type": "markdown",
   "metadata": {},
   "source": [
    "Checks"
   ]
  },
  {
   "cell_type": "markdown",
   "metadata": {},
   "source": [
    "Include (again) SJR information"
   ]
  },
  {
   "cell_type": "markdown",
   "metadata": {},
   "source": [
    "Only wos"
   ]
  },
  {
   "cell_type": "code",
   "execution_count": 46,
   "metadata": {
    "collapsed": false
   },
   "outputs": [],
   "source": [
    "WOS=publications()\n",
    "WOS.articles=wos.articles[wos.articles.UT!='']"
   ]
  },
  {
   "cell_type": "code",
   "execution_count": 49,
   "metadata": {
    "collapsed": false
   },
   "outputs": [
    {
     "data": {
      "text/plain": [
       "(6644, 112)"
      ]
     },
     "execution_count": 49,
     "metadata": {},
     "output_type": "execute_result"
    }
   ],
   "source": [
    "WOS.articles.shape"
   ]
  },
  {
   "cell_type": "code",
   "execution_count": 47,
   "metadata": {
    "collapsed": false,
    "scrolled": true
   },
   "outputs": [
    {
     "data": {
      "text/plain": [
       "(1308, 112)"
      ]
     },
     "execution_count": 47,
     "metadata": {},
     "output_type": "execute_result"
    }
   ],
   "source": [
    "WOS.articles[WOS.articles.Open_Access=='Yes'].shape"
   ]
  },
  {
   "cell_type": "markdown",
   "metadata": {},
   "source": [
    "## Recover or save info"
   ]
  },
  {
   "cell_type": "code",
   "execution_count": 14,
   "metadata": {
    "collapsed": false
   },
   "outputs": [],
   "source": [
    "SAVE_EXCEL=False\n",
    "if SAVE_EXCEL:\n",
    "    wos.articles.to_excel('udea_wos_scopus_scimago.xlsx',index=False)"
   ]
  },
  {
   "cell_type": "code",
   "execution_count": null,
   "metadata": {
    "collapsed": false
   },
   "outputs": [],
   "source": [
    "LOAD_EXCEL=False\n",
    "if LOAD_EXCEL:\n",
    "    wos=publications()\n",
    "    wos.articles=pd.read_excel('udea_wos_scopus_scimago.xlsx')\n",
    "    wos.articles=fill_NaN(wos.articles)"
   ]
  },
  {
   "cell_type": "markdown",
   "metadata": {},
   "source": [
    "cms pas B2G-15-007\n",
    "https://cds.cern.ch/record/2208044\n",
    "\n",
    "MCFM"
   ]
  }
 ],
 "metadata": {
  "kernelspec": {
   "display_name": "Python 3",
   "language": "python",
   "name": "python3"
  },
  "language_info": {
   "codemirror_mode": {
    "name": "ipython",
    "version": 3
   },
   "file_extension": ".py",
   "mimetype": "text/x-python",
   "name": "python",
   "nbconvert_exporter": "python",
   "pygments_lexer": "ipython3",
   "version": "3.4.2"
  }
 },
 "nbformat": 4,
 "nbformat_minor": 0
}
