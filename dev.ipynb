{
 "cells": [
  {
   "cell_type": "markdown",
   "metadata": {},
   "source": [
    "Here we assume that there exist a data base with the authors multiple names associated to the real name in the format:\n",
    "<table border=\"1\" class=\"dataframe\">\n",
    "  <thead>\n",
    "    <tr style=\"text-align: right;\">\n",
    "      <th>Author_Names</th>\n",
    "      <th>Control</th>\n",
    "      <th>Full_Name</th>\n",
    "    </tr>\n",
    "  </thead>\n",
    "  <tbody>\n",
    "    <tr>\n",
    "      <td> Zapata, Oscar;Zapata, O.</td>\n",
    "      <td> 0</td>\n",
    "      <td> Óscar Alberto Zapata Noreña</td>\n",
    "    </tr>\n",
    "  </tbody>\n",
    "</table>\n",
    "Where control is some identification number associated to the author.\n",
    "\n",
    "\n",
    "We assume also that there is a data base with the Group at which some real name author belongs in the format:\n",
    "<table border=\"1\" class=\"dataframe\">\n",
    "  <thead>\n",
    "    <tr style=\"text-align: right;\">\n",
    "      <th>Full_Name</th>\n",
    "      <th>Institution_Group</th>\n",
    "    </tr>\n",
    "  </thead>\n",
    "  <tbody>\n",
    "    <tr>\n",
    "      <td> Óscar Alberto Zapata Noreña</td>\n",
    "      <td> GFIF</td>\n",
    "    </tr>\n",
    "  </tbody>\n",
    "</table>"
   ]
  },
  {
   "cell_type": "code",
   "execution_count": 1,
   "metadata": {
    "collapsed": true
   },
   "outputs": [],
   "source": [
    "%load_ext autoreload"
   ]
  },
  {
   "cell_type": "code",
   "execution_count": 2,
   "metadata": {
    "collapsed": true
   },
   "outputs": [],
   "source": [
    "%autoreload"
   ]
  },
  {
   "cell_type": "code",
   "execution_count": 47,
   "metadata": {
    "collapsed": false
   },
   "outputs": [
    {
     "name": "stdout",
     "output_type": "stream",
     "text": [
      "Overwriting publications.py\n"
     ]
    }
   ],
   "source": [
    "#%%writefile publications.py\n",
    "import numpy as np\n",
    "import pandas as pd\n",
    "import re\n",
    "import requests\n",
    "import warnings\n",
    "import time\n",
    "import sys\n",
    "from IPython.display import display, HTML\n",
    "import tabulate #sudo pip3 install tabulate\n",
    "import utilities as ut\n",
    "from cmdlike import *\n",
    "pd.set_option('display.max_rows', 500)\n",
    "pd.set_option('display.max_columns', 500)\n",
    "pd.set_option('display.max_colwidth',200)\n",
    "def update_column(ds,column,update=False):\n",
    "    update_column=True\n",
    "    if column in ds:\n",
    "        if ds[column] and not update: #it update=True willreplace value\n",
    "            update_column=False\n",
    "    return update_column\n",
    "\n",
    "def _get_doi(surname='Florez',\\\n",
    "        title=r'Baryonic violation of R-parity from anomalous $U(1)_H$',other=''):\n",
    "        '''\n",
    "        Search doi from http://search.crossref.org/ \n",
    "        '''\n",
    "        doi={}\n",
    "        search=''\n",
    "        if surname:\n",
    "            search=surname\n",
    "        if title:\n",
    "            if len(search)>0:\n",
    "                search=search+', '+title\n",
    "        if other:\n",
    "            if len(search)>0:\n",
    "                search=search+', '+other\n",
    "                \n",
    "        r=requests.get('http://search.crossref.org/?q=%s' %search)\n",
    "        urldoi='http://dx.doi.org/'\n",
    "        doitmp=''\n",
    "        if len(r.text.split(urldoi))>1:\n",
    "            doitmp=r.text.split(urldoi)[1].split(\"\\'>\")[0].replace('&lt;','<').replace('&gt;','>')\n",
    "        #check doi is right by searching for all words in doi -> output title\n",
    "        if doitmp:\n",
    "            json='https://api.crossref.org/v1/works/'\n",
    "            rr=requests.get( json+urldoi+doitmp )\n",
    "            if rr.status_code==200:\n",
    "                if 'message' in rr.json():\n",
    "                    chktitle = re.sub(r\"\\$.*?\\$\",\"\",title) # better remove all math expressions\n",
    "                    chktitle = re.sub(r\"[^a-zA-Z0-9 ]\", \" \", chktitle).split(' ')\n",
    "                    if chktitle:\n",
    "                        if not -1 in [(rr.json()[\"message\"]['title'][0]).find(w)  for w in chktitle]:\n",
    "                            doi=rr.json()[\"message\"]\n",
    "                        \n",
    "        return doi\n",
    "    \n",
    "def _get_impact_factor_from_journal_name(journal_name='Physical Review D'):\n",
    "    '''\n",
    "      For the input Journal name obtain\n",
    "      the pandas DataFrame with Years and IF as columns\n",
    "    '''\n",
    "    q=journal_name.lower().replace(' ','-')\n",
    "    URL='http://www.journal-database.com/journal/%s.html' %q        \n",
    "    r = requests.get(URL)\n",
    "    return ut.html_to_DataFrame(r.content)\n",
    "    #UDPATE in repo\n",
    "    \n",
    "def _get_quartil(issn='1550-7998',journal_hindex=False):\n",
    "    URL='http://www.scimagojr.com/journalsearch.php?q='\n",
    "    r=requests.get('%s%s' %(URL,issn))\n",
    "    result=r.text.split('href=\"journalsearch.php?q=')\n",
    "    quartil='';hindex_journal=''\n",
    "    if type(result)==list and len(result)==3:\n",
    "        id_jour=result[-1].split('\">')[0]\n",
    "        if id_jour:\n",
    "            rr=requests.get('%s%s' %(URL,id_jour))\n",
    "            quartil=grep('^\\s+var dataquartiles = ',rr.text).split(';')\n",
    "            quartil.remove('')\n",
    "            if type(quartil)==list and len(quartil)>0:\n",
    "                quartil=quartil[-1].replace('\"','')\n",
    "            hindex=rr.text.split('<div class=\"hindexnumber\">')\n",
    "            if type(hindex)==list and len(hindex)==2:\n",
    "                hindex_journal=hindex[1].split('</div>')[0]\n",
    "    if journal_hindex:\n",
    "        return quartil,hindex_journal\n",
    "    else:\n",
    "        return quartil    \n",
    "\n",
    "class publications(object):\n",
    "    '''Add Generic publication data'''\n",
    "    pass\n",
    "class articles(publications):\n",
    "    '''Read csv file exported by Google Scholar Citations profile and\n",
    "       automatically add informations about:\n",
    "       DOI: from title and author\n",
    "       Journal title: from DOI\n",
    "       ISSN of Jornal\n",
    "       Impact factor of journal\n",
    "       Institution_Authors: requires Data Base\n",
    "       '''\n",
    "    journal=pd.Series()\n",
    "    columns=pd.Series({'Full_Name':'Full_Name','Author_Names':'Author_Names','Control':'Control',\\\n",
    "                      'Institution_Authors':'Institution_Authors','Institution_Group':'Institution_Group'})\n",
    "\n",
    "    def __init__(self,csv_file='citations.csv',citations_file=None,authors_file=None,group_file=None):\n",
    "        #DEBUG: check file\n",
    "        self.articles=pd.read_csv(csv_file).fillna('')\n",
    "        #Fix problem with column Authors\n",
    "        if self.articles.shape[0]>0 and self.articles.columns[0].find('Authors')>-1:\n",
    "            self.articles=self.articles.rename(columns={self.articles.columns[0]:'Authors'})\n",
    "        if citations_file:\n",
    "            #DEBUG: check file\n",
    "            self.citations=pd.read_csv(citations_file).fillna('')\n",
    "            \n",
    "        if authors_file:\n",
    "            #DEBUG: chek is file exists,\n",
    "            self.institution_authors=pd.read_json(authors_file).fillna('')\n",
    "            \n",
    "        if group_file:\n",
    "            #DEBUG: chek is file exists,\n",
    "            self.institution_group=pd.read_json(group_file).fillna('')\n",
    "            \n",
    "    def add_institution_author(self):\n",
    "        #DEBUG: Check and load file\n",
    "        full_name=input('Full name: ')\n",
    "        #DEBUG: Ask for more author names and update author names separated by semicolons\n",
    "        author_names=input('Author names\\n(Example: Juan Perez; J. Perez; J. Pérez):\\n')\n",
    "        #DEBUG: default to 0\n",
    "        control=input('Additional identitication number: ') \n",
    "        \n",
    "        #DEBUG: if not file creates it\n",
    "        iffile=False\n",
    "        if not iffile:\n",
    "            self.institution_authors=pd.DataFrame()\n",
    "            \n",
    "        self.institution_authors=self.institution_authors.append({self.columns.Full_Name:full_name,\\\n",
    "                                                              self.columns.Author_Names:author_names,\\\n",
    "                                                              self.columns.Control:control},ignore_index=True)\n",
    "        self.institution_authors.to_json('authors.json')\n",
    "        \n",
    "    def add_institution_group(self):\n",
    "        wrn='Author not found'\n",
    "        search_query=input('Find author by first name and first surname\\n(Example: Juan Pérez);\\n')\n",
    "        sql=search_query.split(' ')\n",
    "        #DEBUG: low_case\n",
    "        if len(sql)>0:\n",
    "            sql_name=sql[0]\n",
    "            if len(sql)>1:\n",
    "                sql_surname=sql[1]\n",
    "            else:\n",
    "                sql_surname=''\n",
    "            \n",
    "            author_match=self.institution_authors[\\\n",
    "                             np.logical_and( self.institution_authors.Full_Name.str.contains(sql_name),\\\n",
    "                                             self.institution_authors.Full_Name.str.contains(sql_surname) )]\n",
    "            if not author_match.shape[0]:\n",
    "                author_match=self.institution_authors[\\\n",
    "                             np.logical_or( self.institution_authors.Full_Name.str.contains(sql_name),\\\n",
    "                                            self.institution_authors.Full_Name.str.contains(sql_surname) )]\n",
    "            if not author_match.shape[0]:\n",
    "                warnings.warn(wrn)\n",
    "            else:    \n",
    "                author_match=author_match.reset_index(drop=True)\n",
    "                author_match['Number']=author_match.index\n",
    "                if author_match.shape[0]==1:\n",
    "                    author_Series=author_match.ix[0]\n",
    "                    #print( tabulate.tabulate(author_match,headers='keys', tablefmt='psql'))\n",
    "                else:\n",
    "                    print( tabulate.tabulate(author_match,headers='keys', tablefmt='psql'))\n",
    "                    ai=input('Give Number of line:')\n",
    "                    author_Series=author_match.ix[ai]\n",
    "                Group=input('Group name for\\n%s\\n(Example: IA: Inteligencia Artificial)' %author_Series.Full_Name)\n",
    "                #DEBUG: if not file creates it\n",
    "                iffile=False\n",
    "                if not iffile:\n",
    "                    self.institution_group=pd.DataFrame()  \n",
    "                    self.institution_group=self.institution_group.append({self.columns.Full_Name:author_Series.Full_Name,\\\n",
    "                                                                  self.columns.Institution_Group:Group},ignore_index=True)\n",
    "                    self.institution_group.to_json('groups.json')\n",
    "        else:\n",
    "            warnings.warn(wrn)\n",
    "\n",
    "        \n",
    "        \n",
    "    def get_doi(self,surname='Florez',\\\n",
    "                     title=r'Baryonic violation of R-parity from anomalous $U(1)_H$',other=''):\n",
    "        return _get_doi(surname='Florez',\\\n",
    "                        title=r'Baryonic violation of R-parity from anomalous $U(1)_H$',other='')\n",
    "    \n",
    "    def get_IF(self,journal_name='Physical Review D'):\n",
    "        return _get_impact_factor_from_journal_name(journal_name='Physical Review D')\n",
    "    \n",
    "    def articles_update(self,cites=True,institution_authors=False,institution_groups=False,DOI=False,\\\n",
    "                        impact_factor=False):\n",
    "        self.fulldoi=pd.DataFrame()\n",
    "        journal_columns=['Impact_Factor','Quartil','Journal_Hindex']\n",
    "        newcolumns=['Institution_Authors','Institution_Groups','DOI','ISSN','DOI_Journal']+journal_columns\n",
    "        for newcolumn in newcolumns:\n",
    "            if not newcolumn in self.articles.columns:\n",
    "                self.articles[newcolumn]=''\n",
    "\n",
    "        self.articles=self.articles.reset_index(drop=True).fillna('')\n",
    "        print('Updating entry:',end=\"\")\n",
    "        dbj=pd.DataFrame()\n",
    "        for i in range(self.articles.shape[0]):\n",
    "            time.sleep(0.3) #avoid robot detection\n",
    "            print('%d.' %i,end=\"\")\n",
    "            #Update Full names: TODO: Unify algorithm\n",
    "            if not self.articles.ix[i].Institution_Authors:\n",
    "                institution_authors=True\n",
    "                \n",
    "            if self.articles.ix[i].Authors and institution_authors:\n",
    "                inst_auth=''\n",
    "                inst_auth_sep=';'\n",
    "                for a in filter(None, self.articles.ix[0].Authors.replace('; ',';').split(';') ):\n",
    "                    af=self.institution_authors[self.institution_authors.Author_Names.str.contains(a)].reset_index(drop=True)\n",
    "                    if af.shape[0]==1:\n",
    "                        if inst_auth:\n",
    "                            inst_auth=inst_auth+inst_auth_sep\n",
    "                        if af.Full_Name.values.shape[0]==1:\n",
    "                            inst_auth=inst_auth+af.Full_Name.values[0]\n",
    "                    elif af.shape[0]>1:\n",
    "                        print('Improve real name matching')\n",
    "                    if update_column(self.articles.ix[i],'Institution_Authors'):\n",
    "                        self.articles.loc[i,'Institution_Authors']=inst_auth\n",
    "            #Update Groups:\n",
    "            if not self.articles.ix[i].Institution_Groups:\n",
    "                institution_groups=True\n",
    "            if self.articles.ix[i].Institution_Authors and institution_groups:\n",
    "                inst_grp=''\n",
    "                inst_grp_sep=';'\n",
    "                chka=self.articles.ix[i].Institution_Authors.split(';')\n",
    "                if len(chka)>0:\n",
    "                    for fa in chka:\n",
    "                        qry=self.institution_group[self.institution_group.Full_Name.str.contains(fa)].reset_index(drop=True)\n",
    "                        if qry.shape[0]==1:\n",
    "                            g=qry.Institution_Group.values[0]\n",
    "                        else:\n",
    "                            print('DEBUG improve search group for %s' %fa)\n",
    "                        if inst_grp:\n",
    "                            inst_grp=inst_grp+inst_grp_sep\n",
    "                        \n",
    "                        inst_grp=inst_grp+g\n",
    "                    \n",
    "                if update_column(self.articles.ix[i],'Institution_Groups'):\n",
    "                        self.articles.loc[i,'Institution_Groups']=inst_grp\n",
    "                    \n",
    "                \n",
    "            #Update DOI:\n",
    "            if not self.articles.ix[i].DOI:\n",
    "                rr=_get_doi(surname=self.articles.ix[i].Authors.split(';')[0].split(',')[0],\\\n",
    "                            title=self.articles.ix[i].Title)\n",
    "                if len(rr)>0:\n",
    "                    rr=pd.Series(rr)\n",
    "                    if update_column(self.articles.ix[i],'DOI') and 'URL' in rr:\n",
    "                        self.articles.loc[i,'DOI']=rr['URL']\n",
    "                    if update_column(self.articles.ix[i],'ISSN') and 'ISSN' in rr:\n",
    "                        issn=''\n",
    "                        if type(rr.ISSN)==list:\n",
    "                            issn=';'.join(rr.ISSN)\n",
    "                        else:\n",
    "                            print('DEBUG: Improve DOI -> ISSN not a list')\n",
    "                        self.articles.loc[i,'ISSN']=issn\n",
    "                    if update_column(self.articles.ix[i],'DOI_Journal') and 'container-title' in rr:                        \n",
    "                        journal=[ j for j in rr['container-title'] if j.find('.')<0] \n",
    "                        if len(journal)==1:\n",
    "                            self.articles.loc[i,'DOI_Journal']=journal[0]\n",
    "                        else:\n",
    "                            print('DEBUG: Improve DOI_journal have dots')\n",
    "                        \n",
    "                        \n",
    "                self.fulldoi=self.fulldoi.append(rr,ignore_index=True).fillna('')\n",
    "                \n",
    "            #WARNING: Only specific journal info related code from here: See the continue !!!!\n",
    "            #JOURNAL info:\n",
    "            if i>0 and 'ISSN' in self.articles:\n",
    "                dbj=self.articles[:i][self.articles[:i].ISSN.str.contains(\\\n",
    "                              self.articles.ISSN.ix[i].split(';')[0])].reset_index(drop=True)\n",
    "            \n",
    "            if dbj.shape[0]>0:\n",
    "                for k in journal_columns:\n",
    "                    if k in self.articles:\n",
    "                        self.articles.loc[i,k]=dbj.ix[0][k]\n",
    "                continue   \n",
    "            \n",
    "            #Update IF\n",
    "            q=''\n",
    "            if self.articles.ix[i].DOI_Journal:\n",
    "                q=self.articles.ix[i].DOI_Journal.lower().replace(' ','-')\n",
    "            elif self.articles.ix[i].Publication:\n",
    "                q=self.articles.ix[i].Publication\n",
    "            IFdf=_get_impact_factor_from_journal_name(q)\n",
    "            if IFdf.shape[0]>0:\n",
    "                if update_column(self.articles.ix[i],'Impact_Factor') and 'IF' in IFdf:\n",
    "                    self.articles.loc[i,'Impact_Factor']=eval(IFdf.ix[0].IF)\n",
    "            \n",
    "            #Update quartil\n",
    "            if self.articles.ix[i].ISSN.split(';')[0]:\n",
    "                quartil,hindex_journal=_get_quartil(self.articles.ix[i].ISSN.split(';')[0],journal_hindex=True)\n",
    "                if update_column(self.articles.ix[i],'Quartil') and  quartil:\n",
    "                        self.articles.loc[i,'Quartil']=quartil\n",
    "                if update_column(self.articles.ix[i],'Journal_Hindex') and hindex_journal:\n",
    "                        self.articles.loc[i,'Journal_Hindex']=hindex_journal                    \n",
    "            \n",
    "        return self.fulldoi.fillna('')\n",
    "\n",
    "    def to_csv(self,csvfile):\n",
    "        self.articles.to_csv(csvfile,index=False)\n",
    "        if self.fulldoi.shape[0]>0:\n",
    "            self.fulldoi.to_json('fulldoi.json')\n",
    "        \n",
    "                        \n",
    "            "
   ]
  },
  {
   "cell_type": "code",
   "execution_count": 45,
   "metadata": {
    "collapsed": false
   },
   "outputs": [],
   "source": [
    "a=articles('citations.csv',authors_file='authors.json',group_file='groups.json')"
   ]
  },
  {
   "cell_type": "code",
   "execution_count": 46,
   "metadata": {
    "collapsed": false
   },
   "outputs": [
    {
     "name": "stdout",
     "output_type": "stream",
     "text": [
      "Updating entry:0.1.2."
     ]
    }
   ],
   "source": [
    "fulldoi=a.articles_update()"
   ]
  },
  {
   "cell_type": "code",
   "execution_count": 43,
   "metadata": {
    "collapsed": false
   },
   "outputs": [
    {
     "data": {
      "text/html": [
       "<div style=\"max-height:1000px;max-width:1500px;overflow:auto;\">\n",
       "<table border=\"1\" class=\"dataframe\">\n",
       "  <thead>\n",
       "    <tr style=\"text-align: right;\">\n",
       "      <th></th>\n",
       "      <th>Authors</th>\n",
       "      <th>Title</th>\n",
       "      <th>Publication</th>\n",
       "      <th>Volume</th>\n",
       "      <th>Number</th>\n",
       "      <th>Pages</th>\n",
       "      <th>Year</th>\n",
       "      <th>Publisher</th>\n",
       "      <th>Institution_Authors</th>\n",
       "      <th>Institution_Groups</th>\n",
       "      <th>DOI</th>\n",
       "      <th>ISSN</th>\n",
       "      <th>DOI_Journal</th>\n",
       "      <th>Impact_Factor</th>\n",
       "      <th>Quartil</th>\n",
       "      <th>Journal_Hindex</th>\n",
       "    </tr>\n",
       "  </thead>\n",
       "  <tbody>\n",
       "    <tr>\n",
       "      <th>0</th>\n",
       "      <td> Sierra, D Aristizabal; Kubo, Jisuke; Suematsu, Daijiro; Restrepo, D; Zapata, Oscar; </td>\n",
       "      <td> Radiative seesaw model: Warm dark matter, collider signatures, and lepton flavor violating signals</td>\n",
       "      <td>                              Physical Review D</td>\n",
       "      <td>   79</td>\n",
       "      <td>  1</td>\n",
       "      <td> 13011</td>\n",
       "      <td> 2009</td>\n",
       "      <td>            APS</td>\n",
       "      <td> Óscar Alberto Zapata Noreña</td>\n",
       "      <td> GFIF</td>\n",
       "      <td>    http://dx.doi.org/10.1103/physrevd.79.013011</td>\n",
       "      <td> 1550-7998;1550-2368</td>\n",
       "      <td>                              Physical Review D</td>\n",
       "      <td> 4.643</td>\n",
       "      <td> Q1</td>\n",
       "      <td> 259</td>\n",
       "    </tr>\n",
       "    <tr>\n",
       "      <th>1</th>\n",
       "      <td>                           Restrepo, Diego; Taoso, Marco; Valle, JWF; Zapata, Oscar; </td>\n",
       "      <td>                         Gravitino dark matter and neutrino masses with bilinear R-parity violation</td>\n",
       "      <td>                              Physical Review D</td>\n",
       "      <td>   85</td>\n",
       "      <td>  2</td>\n",
       "      <td> 23523</td>\n",
       "      <td> 2012</td>\n",
       "      <td>            APS</td>\n",
       "      <td> Óscar Alberto Zapata Noreña</td>\n",
       "      <td> GFIF</td>\n",
       "      <td>    http://dx.doi.org/10.1103/physrevd.85.023523</td>\n",
       "      <td> 1550-7998;1550-2368</td>\n",
       "      <td>                              Physical Review D</td>\n",
       "      <td> 4.643</td>\n",
       "      <td> Q1</td>\n",
       "      <td> 259</td>\n",
       "    </tr>\n",
       "    <tr>\n",
       "      <th>2</th>\n",
       "      <td>                   Choi, Ki-Young; Restrepo, Diego; Yaguna, Carlos E; Zapata, Oscar; </td>\n",
       "      <td>                        Indirect detection of gravitino dark matter including its three-body decays</td>\n",
       "      <td> Journal of Cosmology and Astroparticle Physics</td>\n",
       "      <td> 2010</td>\n",
       "      <td> 10</td>\n",
       "      <td>    33</td>\n",
       "      <td> 2010</td>\n",
       "      <td> IOP Publishing</td>\n",
       "      <td> Óscar Alberto Zapata Noreña</td>\n",
       "      <td> GFIF</td>\n",
       "      <td> http://dx.doi.org/10.1088/1475-7516/2010/10/033</td>\n",
       "      <td>           1475-7516</td>\n",
       "      <td> Journal of Cosmology and Astroparticle Physics</td>\n",
       "      <td>  5.81</td>\n",
       "      <td> Q3</td>\n",
       "      <td>  70</td>\n",
       "    </tr>\n",
       "  </tbody>\n",
       "</table>\n",
       "</div>"
      ],
      "text/plain": [
       "                                                                                Authors  \\\n",
       "0  Sierra, D Aristizabal; Kubo, Jisuke; Suematsu, Daijiro; Restrepo, D; Zapata, Oscar;    \n",
       "1                            Restrepo, Diego; Taoso, Marco; Valle, JWF; Zapata, Oscar;    \n",
       "2                    Choi, Ki-Young; Restrepo, Diego; Yaguna, Carlos E; Zapata, Oscar;    \n",
       "\n",
       "                                                                                                Title  \\\n",
       "0  Radiative seesaw model: Warm dark matter, collider signatures, and lepton flavor violating signals   \n",
       "1                          Gravitino dark matter and neutrino masses with bilinear R-parity violation   \n",
       "2                         Indirect detection of gravitino dark matter including its three-body decays   \n",
       "\n",
       "                                      Publication  Volume  Number  Pages  \\\n",
       "0                               Physical Review D      79       1  13011   \n",
       "1                               Physical Review D      85       2  23523   \n",
       "2  Journal of Cosmology and Astroparticle Physics    2010      10     33   \n",
       "\n",
       "   Year       Publisher          Institution_Authors Institution_Groups  \\\n",
       "0  2009             APS  Óscar Alberto Zapata Noreña               GFIF   \n",
       "1  2012             APS  Óscar Alberto Zapata Noreña               GFIF   \n",
       "2  2010  IOP Publishing  Óscar Alberto Zapata Noreña               GFIF   \n",
       "\n",
       "                                               DOI                 ISSN  \\\n",
       "0     http://dx.doi.org/10.1103/physrevd.79.013011  1550-7998;1550-2368   \n",
       "1     http://dx.doi.org/10.1103/physrevd.85.023523  1550-7998;1550-2368   \n",
       "2  http://dx.doi.org/10.1088/1475-7516/2010/10/033            1475-7516   \n",
       "\n",
       "                                      DOI_Journal Impact_Factor Quartil  \\\n",
       "0                               Physical Review D         4.643      Q1   \n",
       "1                               Physical Review D         4.643      Q1   \n",
       "2  Journal of Cosmology and Astroparticle Physics          5.81      Q3   \n",
       "\n",
       "  Journal_Hindex  \n",
       "0            259  \n",
       "1            259  \n",
       "2             70  "
      ]
     },
     "execution_count": 43,
     "metadata": {},
     "output_type": "execute_result"
    }
   ],
   "source": [
    "a.articles"
   ]
  },
  {
   "cell_type": "code",
   "execution_count": 33,
   "metadata": {
    "collapsed": false
   },
   "outputs": [
    {
     "data": {
      "text/plain": [
       "'1550-7998'"
      ]
     },
     "execution_count": 33,
     "metadata": {},
     "output_type": "execute_result"
    }
   ],
   "source": [
    "self.articles.ISSN.ix[i].split(';')[0]"
   ]
  },
  {
   "cell_type": "code",
   "execution_count": 36,
   "metadata": {
    "collapsed": false
   },
   "outputs": [],
   "source": [
    "self=a\n",
    "i=1\n",
    "dbj=self.articles[:i][self.articles[:i].ISSN.str.contains(\\\n",
    "                              self.articles.ISSN.ix[i].split(';')[0])].reset_index(drop=True)"
   ]
  },
  {
   "cell_type": "code",
   "execution_count": 29,
   "metadata": {
    "collapsed": false
   },
   "outputs": [
    {
     "data": {
      "text/html": [
       "<div style=\"max-height:1000px;max-width:1500px;overflow:auto;\">\n",
       "<table border=\"1\" class=\"dataframe\">\n",
       "  <thead>\n",
       "    <tr style=\"text-align: right;\">\n",
       "      <th></th>\n",
       "      <th>Authors</th>\n",
       "      <th>Title</th>\n",
       "      <th>Publication</th>\n",
       "      <th>Volume</th>\n",
       "      <th>Number</th>\n",
       "      <th>Pages</th>\n",
       "      <th>Year</th>\n",
       "      <th>Publisher</th>\n",
       "      <th>Institution_Authors</th>\n",
       "      <th>Institution_Groups</th>\n",
       "      <th>DOI</th>\n",
       "      <th>ISSN</th>\n",
       "      <th>DOI_Journal</th>\n",
       "      <th>Impact_Factor</th>\n",
       "      <th>Quartil</th>\n",
       "      <th>Journal_Hindex</th>\n",
       "    </tr>\n",
       "  </thead>\n",
       "  <tbody>\n",
       "    <tr>\n",
       "      <th>0</th>\n",
       "      <td> Sierra, D Aristizabal; Kubo, Jisuke; Suematsu, Daijiro; Restrepo, D; Zapata, Oscar; </td>\n",
       "      <td> Radiative seesaw model: Warm dark matter, collider signatures, and lepton flavor violating signals</td>\n",
       "      <td>                              Physical Review D</td>\n",
       "      <td>   79</td>\n",
       "      <td>  1</td>\n",
       "      <td> 13011</td>\n",
       "      <td> 2009</td>\n",
       "      <td>            APS</td>\n",
       "      <td> Óscar Alberto Zapata Noreña</td>\n",
       "      <td> GFIF</td>\n",
       "      <td> http://dx.doi.org/10.1103/physrevd.79.013011</td>\n",
       "      <td> 1550-7998;1550-2368</td>\n",
       "      <td> Physical Review D</td>\n",
       "      <td> 4.643</td>\n",
       "      <td> Q1</td>\n",
       "      <td> 259</td>\n",
       "    </tr>\n",
       "    <tr>\n",
       "      <th>1</th>\n",
       "      <td>                           Restrepo, Diego; Taoso, Marco; Valle, JWF; Zapata, Oscar; </td>\n",
       "      <td>                         Gravitino dark matter and neutrino masses with bilinear R-parity violation</td>\n",
       "      <td>                              Physical Review D</td>\n",
       "      <td>   85</td>\n",
       "      <td>  2</td>\n",
       "      <td> 23523</td>\n",
       "      <td> 2012</td>\n",
       "      <td>            APS</td>\n",
       "      <td> Óscar Alberto Zapata Noreña</td>\n",
       "      <td> GFIF</td>\n",
       "      <td> http://dx.doi.org/10.1103/physrevd.85.023523</td>\n",
       "      <td> 1550-7998;1550-2368</td>\n",
       "      <td> Physical Review D</td>\n",
       "      <td>      </td>\n",
       "      <td>   </td>\n",
       "      <td>    </td>\n",
       "    </tr>\n",
       "    <tr>\n",
       "      <th>2</th>\n",
       "      <td>                   Choi, Ki-Young; Restrepo, Diego; Yaguna, Carlos E; Zapata, Oscar; </td>\n",
       "      <td>                        Indirect detection of gravitino dark matter including its three-body decays</td>\n",
       "      <td> Journal of Cosmology and Astroparticle Physics</td>\n",
       "      <td> 2010</td>\n",
       "      <td> 10</td>\n",
       "      <td>    33</td>\n",
       "      <td> 2010</td>\n",
       "      <td> IOP Publishing</td>\n",
       "      <td>                            </td>\n",
       "      <td>     </td>\n",
       "      <td>                                             </td>\n",
       "      <td>                    </td>\n",
       "      <td>                  </td>\n",
       "      <td>      </td>\n",
       "      <td>   </td>\n",
       "      <td>    </td>\n",
       "    </tr>\n",
       "  </tbody>\n",
       "</table>\n",
       "</div>"
      ],
      "text/plain": [
       "                                                                                Authors  \\\n",
       "0  Sierra, D Aristizabal; Kubo, Jisuke; Suematsu, Daijiro; Restrepo, D; Zapata, Oscar;    \n",
       "1                            Restrepo, Diego; Taoso, Marco; Valle, JWF; Zapata, Oscar;    \n",
       "2                    Choi, Ki-Young; Restrepo, Diego; Yaguna, Carlos E; Zapata, Oscar;    \n",
       "\n",
       "                                                                                                Title  \\\n",
       "0  Radiative seesaw model: Warm dark matter, collider signatures, and lepton flavor violating signals   \n",
       "1                          Gravitino dark matter and neutrino masses with bilinear R-parity violation   \n",
       "2                         Indirect detection of gravitino dark matter including its three-body decays   \n",
       "\n",
       "                                      Publication  Volume  Number  Pages  \\\n",
       "0                               Physical Review D      79       1  13011   \n",
       "1                               Physical Review D      85       2  23523   \n",
       "2  Journal of Cosmology and Astroparticle Physics    2010      10     33   \n",
       "\n",
       "   Year       Publisher          Institution_Authors Institution_Groups  \\\n",
       "0  2009             APS  Óscar Alberto Zapata Noreña               GFIF   \n",
       "1  2012             APS  Óscar Alberto Zapata Noreña               GFIF   \n",
       "2  2010  IOP Publishing                                                   \n",
       "\n",
       "                                            DOI                 ISSN  \\\n",
       "0  http://dx.doi.org/10.1103/physrevd.79.013011  1550-7998;1550-2368   \n",
       "1  http://dx.doi.org/10.1103/physrevd.85.023523  1550-7998;1550-2368   \n",
       "2                                                                      \n",
       "\n",
       "         DOI_Journal Impact_Factor Quartil Journal_Hindex  \n",
       "0  Physical Review D         4.643      Q1            259  \n",
       "1  Physical Review D                                       \n",
       "2                                                          "
      ]
     },
     "execution_count": 29,
     "metadata": {},
     "output_type": "execute_result"
    }
   ],
   "source": [
    "a.articles"
   ]
  },
  {
   "cell_type": "code",
   "execution_count": 23,
   "metadata": {
    "collapsed": false
   },
   "outputs": [
    {
     "name": "stdout",
     "output_type": "stream",
     "text": [
      "0\n",
      "va\n",
      "1\n",
      "va\n",
      "2\n",
      "va\n",
      "3\n",
      "4\n",
      "5\n",
      "6\n",
      "7\n",
      "8\n",
      "9\n"
     ]
    }
   ],
   "source": [
    "for i in range(10):\n",
    "    print(i)\n",
    "    if i>2:\n",
    "        continue\n",
    "    print('va')"
   ]
  },
  {
   "cell_type": "code",
   "execution_count": 16,
   "metadata": {
    "collapsed": false
   },
   "outputs": [
    {
     "data": {
      "text/html": [
       "<div style=\"max-height:1000px;max-width:1500px;overflow:auto;\">\n",
       "<table border=\"1\" class=\"dataframe\">\n",
       "  <thead>\n",
       "    <tr style=\"text-align: right;\">\n",
       "      <th></th>\n",
       "      <th>Authors</th>\n",
       "      <th>Title</th>\n",
       "      <th>Publication</th>\n",
       "      <th>Volume</th>\n",
       "      <th>Number</th>\n",
       "      <th>Pages</th>\n",
       "      <th>Year</th>\n",
       "      <th>Publisher</th>\n",
       "      <th>Institution_Authors</th>\n",
       "      <th>Institution_Groups</th>\n",
       "      <th>DOI</th>\n",
       "      <th>ISSN</th>\n",
       "      <th>DOI_Journal</th>\n",
       "      <th>Impact_Factor</th>\n",
       "      <th>Quartil</th>\n",
       "      <th>Journal_Hindex</th>\n",
       "    </tr>\n",
       "  </thead>\n",
       "  <tbody>\n",
       "    <tr>\n",
       "      <th>0</th>\n",
       "      <td> Sierra, D Aristizabal; Kubo, Jisuke; Suematsu, Daijiro; Restrepo, D; Zapata, Oscar; </td>\n",
       "      <td> Radiative seesaw model: Warm dark matter, collider signatures, and lepton flavor violating signals</td>\n",
       "      <td> Physical Review D</td>\n",
       "      <td> 79</td>\n",
       "      <td> 1</td>\n",
       "      <td> 13011</td>\n",
       "      <td> 2009</td>\n",
       "      <td> APS</td>\n",
       "      <td> Óscar Alberto Zapata Noreña</td>\n",
       "      <td> GFIF</td>\n",
       "      <td> http://dx.doi.org/10.1103/physrevd.79.013011</td>\n",
       "      <td> 1550-7998;1550-2368</td>\n",
       "      <td> Physical Review D</td>\n",
       "      <td> </td>\n",
       "      <td> </td>\n",
       "      <td> </td>\n",
       "    </tr>\n",
       "    <tr>\n",
       "      <th>1</th>\n",
       "      <td>                           Restrepo, Diego; Taoso, Marco; Valle, JWF; Zapata, Oscar; </td>\n",
       "      <td>                         Gravitino dark matter and neutrino masses with bilinear R-parity violation</td>\n",
       "      <td> Physical Review D</td>\n",
       "      <td> 85</td>\n",
       "      <td> 2</td>\n",
       "      <td> 23523</td>\n",
       "      <td> 2012</td>\n",
       "      <td> APS</td>\n",
       "      <td> Óscar Alberto Zapata Noreña</td>\n",
       "      <td> GFIF</td>\n",
       "      <td> http://dx.doi.org/10.1103/physrevd.85.023523</td>\n",
       "      <td> 1550-7998;1550-2368</td>\n",
       "      <td> Physical Review D</td>\n",
       "      <td> </td>\n",
       "      <td> </td>\n",
       "      <td> </td>\n",
       "    </tr>\n",
       "  </tbody>\n",
       "</table>\n",
       "</div>"
      ],
      "text/plain": [
       "                                                                                Authors  \\\n",
       "0  Sierra, D Aristizabal; Kubo, Jisuke; Suematsu, Daijiro; Restrepo, D; Zapata, Oscar;    \n",
       "1                            Restrepo, Diego; Taoso, Marco; Valle, JWF; Zapata, Oscar;    \n",
       "\n",
       "                                                                                                Title  \\\n",
       "0  Radiative seesaw model: Warm dark matter, collider signatures, and lepton flavor violating signals   \n",
       "1                          Gravitino dark matter and neutrino masses with bilinear R-parity violation   \n",
       "\n",
       "         Publication  Volume  Number  Pages  Year Publisher  \\\n",
       "0  Physical Review D      79       1  13011  2009       APS   \n",
       "1  Physical Review D      85       2  23523  2012       APS   \n",
       "\n",
       "           Institution_Authors Institution_Groups  \\\n",
       "0  Óscar Alberto Zapata Noreña               GFIF   \n",
       "1  Óscar Alberto Zapata Noreña               GFIF   \n",
       "\n",
       "                                            DOI                 ISSN  \\\n",
       "0  http://dx.doi.org/10.1103/physrevd.79.013011  1550-7998;1550-2368   \n",
       "1  http://dx.doi.org/10.1103/physrevd.85.023523  1550-7998;1550-2368   \n",
       "\n",
       "         DOI_Journal Impact_Factor Quartil Journal_Hindex  \n",
       "0  Physical Review D                                       \n",
       "1  Physical Review D                                       "
      ]
     },
     "execution_count": 16,
     "metadata": {},
     "output_type": "execute_result"
    }
   ],
   "source": [
    "i=2\n",
    "a.articles[:i]"
   ]
  },
  {
   "cell_type": "markdown",
   "metadata": {
    "collapsed": false
   },
   "source": [
    "\n",
    "Authors\tTitle\tPublication\tVolume\tNumber\tPages\tYear\tPublisher\tInstitution_Authors\tInstitution_Groups\tDOI\tISSN\tDOI_Journal\tImpact_Factor\n",
    "0\tSierra, D Aristizabal; Kubo, Jisuke; Suematsu, Daijiro; Restrepo, D; Zapata, Oscar;\tRadiative seesaw model: Warm dark matter, collider signatures, and lepton flavor violating signals\tPhysical Review D\t79\t1\t13011\t2009\tAPS\tÓscar Alberto Zapata Noreña\tGFIF\thttp://dx.doi.org/10.1103/physrevd.79.013011\t1550-7998;1550-2368\tPhysical Review D\t4.643\n",
    "1\tRestrepo, Diego; Taoso, Marco; Valle, JWF; Zapata, Oscar;\tGravitino dark matter and neutrino masses with bilinear R-parity violation\tPhysical Review D\t85\t2\t23523\t2012\tAPS\tÓscar Alberto Zapata Noreña\tGFIF\thttp://dx.doi.org/10.1103/physrevd.85.023523\t1550-7998;1550-2368\tPhysical Review D\t4.643\n",
    "2\tChoi, Ki-Young; Restrepo, Diego; Yaguna, Carlos E; Zapata, Oscar;\tIndirect detection of gravitino dark matter including its three-body decays\tJournal of Cosmology and Astroparticle Physics\t2010\t10\t33\t2010\tIOP Publishing\tÓscar Alberto Zapata Noreña\tGFIF\thttp://dx.doi.org/10.1088/1475-7516/2010/10/033\t1475-7516\tJournal of Cosmology and Astroparticle Physic\n",
    "fulldoi[:1]\n",
    "fulldoi[:1]"
   ]
  },
  {
   "cell_type": "markdown",
   "metadata": {},
   "source": [
    "## Save uptated data base"
   ]
  },
  {
   "cell_type": "code",
   "execution_count": 9,
   "metadata": {
    "collapsed": true
   },
   "outputs": [],
   "source": [
    "a.to_csv('newcitations.csv')"
   ]
  },
  {
   "cell_type": "markdown",
   "metadata": {},
   "source": [
    "Restore saved data base"
   ]
  },
  {
   "cell_type": "code",
   "execution_count": 10,
   "metadata": {
    "collapsed": true
   },
   "outputs": [],
   "source": [
    "arts=articles('newcitations.csv',authors_file='authors.json',group_file='groups.json')"
   ]
  },
  {
   "cell_type": "code",
   "execution_count": 11,
   "metadata": {
    "collapsed": false
   },
   "outputs": [
    {
     "name": "stdout",
     "output_type": "stream",
     "text": [
      "Updating entry:0.1.2."
     ]
    },
    {
     "data": {
      "text/html": [
       "<div style=\"max-height:1000px;max-width:1500px;overflow:auto;\">\n",
       "<table border=\"1\" class=\"dataframe\">\n",
       "  <thead>\n",
       "    <tr style=\"text-align: right;\">\n",
       "      <th></th>\n",
       "    </tr>\n",
       "  </thead>\n",
       "  <tbody>\n",
       "  </tbody>\n",
       "</table>\n",
       "</div>"
      ],
      "text/plain": [
       "Empty DataFrame\n",
       "Columns: []\n",
       "Index: []"
      ]
     },
     "execution_count": 11,
     "metadata": {},
     "output_type": "execute_result"
    }
   ],
   "source": [
    "arts.articles_update()"
   ]
  },
  {
   "cell_type": "code",
   "execution_count": 54,
   "metadata": {
    "collapsed": true
   },
   "outputs": [],
   "source": []
  },
  {
   "cell_type": "code",
   "execution_count": 61,
   "metadata": {
    "collapsed": false
   },
   "outputs": [
    {
     "data": {
      "text/plain": [
       "4.643"
      ]
     },
     "execution_count": 61,
     "metadata": {},
     "output_type": "execute_result"
    }
   ],
   "source": [
    "IFdf=_get_impact_factor_from_journal_name()\n"
   ]
  },
  {
   "cell_type": "code",
   "execution_count": 9,
   "metadata": {
    "collapsed": false
   },
   "outputs": [
    {
     "data": {
      "text/plain": [
       "'http://www.journal-database.com/journal/physical-review-d.html'"
      ]
     },
     "execution_count": 9,
     "metadata": {},
     "output_type": "execute_result"
    }
   ],
   "source": [
    "i=0\n",
    "selfarticles=a.articles\n",
    "if selfarticles.ix[i].DOI_Journal:\n",
    "    q=selfarticles.ix[i].DOI_Journal.lower().replace(' ','-')\n",
    "elif selfarticles.ix[i].Publication:\n",
    "     q=selfarticles.ix[i].Publication\n"
   ]
  },
  {
   "cell_type": "code",
   "execution_count": 10,
   "metadata": {
    "collapsed": false
   },
   "outputs": [
    {
     "name": "stdout",
     "output_type": "stream",
     "text": [
      "Empty DataFrame\n",
      "Columns: []\n",
      "Index: []\n"
     ]
    }
   ],
   "source": [
    "import lxml.html as LH\n",
    "import requests\n",
    "import pandas as pd\n",
    "def text(elt):\n",
    "    return elt.text_content().replace(u'\\xa0', u' ')\n",
    "\n",
    "url = URL #'http://www.fdmbenzinpriser.dk/searchprices/5/'\n",
    "r = requests.get(url)\n",
    "root = LH.fromstring(r.content)\n",
    "\n",
    "for table in root.xpath('//table'):\n",
    "    header = [text(th) for th in table.xpath('//th')]        # 1\n",
    "    data = [[text(td) for td in tr.xpath('td')]  \n",
    "            for tr in table.xpath('//tr')]                   # 2\n",
    "    data = [row for row in data if len(row)==len(header)]    # 3 \n",
    "    data = pd.DataFrame(data, columns=header)                # 4\n",
    "    print(data)"
   ]
  },
  {
   "cell_type": "code",
   "execution_count": 52,
   "metadata": {
    "collapsed": false
   },
   "outputs": [
    {
     "name": "stdout",
     "output_type": "stream",
     "text": [
      "Writing utilities.py\n"
     ]
    }
   ],
   "source": [
    "%%writefile utilities.py\n",
    "#/usr/bin/env python\n",
    "from bs4 import BeautifulSoup\n",
    "import pandas as pd\n",
    "def html_to_DataFrame(html_page_with_table,attrs={}):\n",
    "    '''\n",
    "    Extract the table of a web page and convert to a pandas DataFrame\n",
    "    '''\n",
    "\n",
    "    soup = BeautifulSoup(html_page_with_table,\"lxml\")\n",
    "    table = soup.find(\"table\",attrs)\n",
    "\n",
    "    # The first tr contains the field names.\n",
    "    headings = [th.get_text().strip() for th in table.find(\"tr\").find_all(\"td\")]\n",
    "\n",
    "    datasets = []\n",
    "    for row in table.find_all(\"tr\")[1:]:\n",
    "        dataset = [td.get_text() for td in row.find_all(\"td\") if td.get_text().strip()]\n",
    "        datasets.append(dataset)\n",
    "        \n",
    "    if headings:  \n",
    "        return pd.DataFrame(datasets,columns=headings)\n",
    "    else:\n",
    "        return pd.DataFrame()"
   ]
  },
  {
   "cell_type": "code",
   "execution_count": 53,
   "metadata": {
    "collapsed": false
   },
   "outputs": [
    {
     "data": {
      "text/html": [
       "<div style=\"max-height:1000px;max-width:1500px;overflow:auto;\">\n",
       "<table border=\"1\" class=\"dataframe\">\n",
       "  <thead>\n",
       "    <tr style=\"text-align: right;\">\n",
       "      <th></th>\n",
       "      <th>Year</th>\n",
       "      <th>IF</th>\n",
       "    </tr>\n",
       "  </thead>\n",
       "  <tbody>\n",
       "    <tr>\n",
       "      <th>0</th>\n",
       "      <td> 2014 (2015)</td>\n",
       "      <td> 4.643</td>\n",
       "    </tr>\n",
       "    <tr>\n",
       "      <th>1</th>\n",
       "      <td>        2013</td>\n",
       "      <td> 4.864</td>\n",
       "    </tr>\n",
       "    <tr>\n",
       "      <th>2</th>\n",
       "      <td>        2012</td>\n",
       "      <td> 4.691</td>\n",
       "    </tr>\n",
       "    <tr>\n",
       "      <th>3</th>\n",
       "      <td>        2011</td>\n",
       "      <td> 4.558</td>\n",
       "    </tr>\n",
       "    <tr>\n",
       "      <th>4</th>\n",
       "      <td>        2010</td>\n",
       "      <td> 4.964</td>\n",
       "    </tr>\n",
       "    <tr>\n",
       "      <th>5</th>\n",
       "      <td>        2009</td>\n",
       "      <td> 4.922</td>\n",
       "    </tr>\n",
       "    <tr>\n",
       "      <th>6</th>\n",
       "      <td>        2008</td>\n",
       "      <td> 5.050</td>\n",
       "    </tr>\n",
       "  </tbody>\n",
       "</table>\n",
       "</div>"
      ],
      "text/plain": [
       "          Year     IF\n",
       "0  2014 (2015)  4.643\n",
       "1         2013  4.864\n",
       "2         2012  4.691\n",
       "3         2011  4.558\n",
       "4         2010  4.964\n",
       "5         2009  4.922\n",
       "6         2008  5.050"
      ]
     },
     "execution_count": 53,
     "metadata": {},
     "output_type": "execute_result"
    }
   ],
   "source": [
    "import utilities as ut\n",
    "ut.html_to_DataFrame(r.content)"
   ]
  },
  {
   "cell_type": "code",
   "execution_count": 38,
   "metadata": {
    "collapsed": false
   },
   "outputs": [
    {
     "name": "stdout",
     "output_type": "stream",
     "text": [
      "1\n"
     ]
    }
   ],
   "source": [
    "if '   ': print(1)"
   ]
  },
  {
   "cell_type": "code",
   "execution_count": 35,
   "metadata": {
    "collapsed": false
   },
   "outputs": [
    {
     "ename": "TypeError",
     "evalue": "'int' object is not callable",
     "output_type": "error",
     "traceback": [
      "\u001b[0;31m---------------------------------------------------------------------------\u001b[0m",
      "\u001b[0;31mTypeError\u001b[0m                                 Traceback (most recent call last)",
      "\u001b[0;32m<ipython-input-35-08b2651b0c29>\u001b[0m in \u001b[0;36m<module>\u001b[0;34m()\u001b[0m\n\u001b[0;32m----> 1\u001b[0;31m \u001b[0meval\u001b[0m\u001b[0;34m(\u001b[0m\u001b[0mtd\u001b[0m\u001b[0;34m.\u001b[0m\u001b[0mget_text\u001b[0m\u001b[0;34m(\u001b[0m\u001b[0;34m)\u001b[0m\u001b[0;34m.\u001b[0m\u001b[0mreplace\u001b[0m\u001b[0;34m(\u001b[0m\u001b[0;34m'-'\u001b[0m\u001b[0;34m,\u001b[0m\u001b[0;34m'0'\u001b[0m\u001b[0;34m)\u001b[0m\u001b[0;34m)\u001b[0m\u001b[0;34m\u001b[0m\u001b[0m\n\u001b[0m",
      "\u001b[0;32m<string>\u001b[0m in \u001b[0;36m<module>\u001b[0;34m()\u001b[0m\n",
      "\u001b[0;31mTypeError\u001b[0m: 'int' object is not callable"
     ]
    }
   ],
   "source": [
    "eval(td.get_text().replace('-','0'))"
   ]
  },
  {
   "cell_type": "code",
   "execution_count": 26,
   "metadata": {
    "collapsed": false
   },
   "outputs": [
    {
     "data": {
      "text/plain": [
       "['Year', 'IF']"
      ]
     },
     "execution_count": 26,
     "metadata": {},
     "output_type": "execute_result"
    }
   ],
   "source": [
    "headings"
   ]
  },
  {
   "cell_type": "code",
   "execution_count": 12,
   "metadata": {
    "collapsed": false
   },
   "outputs": [
    {
     "name": "stdout",
     "output_type": "stream",
     "text": [
      "\n",
      "\n",
      "Year\n",
      "IF\n",
      "\n",
      "\n",
      "2014 (2015)\n",
      "4.643\n",
      "\n",
      "\n",
      "2013\n",
      "4.864\n",
      "\n",
      "\n",
      "2012\n",
      "4.691\n",
      "\n",
      "\n",
      "2011\n",
      "4.558\n",
      "\n",
      "\n",
      "2010\n",
      "4.964\n",
      "\n",
      "\n",
      "2009\n",
      "4.922\n",
      "\n",
      "\n",
      "2008\n",
      "5.050\n",
      "\n",
      "\n"
     ]
    }
   ],
   "source": [
    "from bs4 import BeautifulSoup\n",
    "c=[x.text for x in BeautifulSoup(r.content,\"lxml\").find_all(\"table\")]#,attrs={\"id\":\"sortabletable\"})]\n",
    "print(c[0])"
   ]
  },
  {
   "cell_type": "code",
   "execution_count": 13,
   "metadata": {
    "collapsed": false
   },
   "outputs": [
    {
     "name": "stdout",
     "output_type": "stream",
     "text": [
      "1\n"
     ]
    }
   ],
   "source": [
    "i=0\n",
    "for x in BeautifulSoup(r.content,\"lxml\").find_all(\"table\"):\n",
    "    i=i+1\n",
    "    print(i)\n",
    "    x=x"
   ]
  },
  {
   "cell_type": "code",
   "execution_count": 14,
   "metadata": {
    "collapsed": false
   },
   "outputs": [],
   "source": [
    "x=BeautifulSoup(r.content,\"lxml\").find_all(\"table\")[0]"
   ]
  },
  {
   "cell_type": "code",
   "execution_count": 125,
   "metadata": {
    "collapsed": true
   },
   "outputs": [],
   "source": [
    "import bs4"
   ]
  },
  {
   "cell_type": "code",
   "execution_count": 20,
   "metadata": {
    "collapsed": false
   },
   "outputs": [
    {
     "name": "stderr",
     "output_type": "stream",
     "text": [
      "/usr/lib/python3/dist-packages/pandas/io/html.py:841: FutureWarning: infer_types will have no effect in 0.14\n",
      "  warnings.warn(\"infer_types will have no effect in 0.14\", FutureWarning)\n"
     ]
    }
   ],
   "source": [
    "tx=pd.read_html( '<table>'+x.decode_contents()+'</table>',infer_types=False)[0]"
   ]
  },
  {
   "cell_type": "code",
   "execution_count": 21,
   "metadata": {
    "collapsed": false
   },
   "outputs": [
    {
     "data": {
      "text/html": [
       "<div style=\"max-height:1000px;max-width:1500px;overflow:auto;\">\n",
       "<table border=\"1\" class=\"dataframe\">\n",
       "  <thead>\n",
       "    <tr style=\"text-align: right;\">\n",
       "      <th></th>\n",
       "      <th>0</th>\n",
       "      <th>1</th>\n",
       "    </tr>\n",
       "  </thead>\n",
       "  <tbody>\n",
       "    <tr>\n",
       "      <th>0</th>\n",
       "      <td>        Year</td>\n",
       "      <td>    IF</td>\n",
       "    </tr>\n",
       "    <tr>\n",
       "      <th>1</th>\n",
       "      <td> 2014 (2015)</td>\n",
       "      <td> 4.643</td>\n",
       "    </tr>\n",
       "    <tr>\n",
       "      <th>2</th>\n",
       "      <td>        2013</td>\n",
       "      <td> 4.864</td>\n",
       "    </tr>\n",
       "    <tr>\n",
       "      <th>3</th>\n",
       "      <td>        2012</td>\n",
       "      <td> 4.691</td>\n",
       "    </tr>\n",
       "    <tr>\n",
       "      <th>4</th>\n",
       "      <td>        2011</td>\n",
       "      <td> 4.558</td>\n",
       "    </tr>\n",
       "    <tr>\n",
       "      <th>5</th>\n",
       "      <td>        2010</td>\n",
       "      <td> 4.964</td>\n",
       "    </tr>\n",
       "    <tr>\n",
       "      <th>6</th>\n",
       "      <td>        2009</td>\n",
       "      <td> 4.922</td>\n",
       "    </tr>\n",
       "    <tr>\n",
       "      <th>7</th>\n",
       "      <td>        2008</td>\n",
       "      <td> 5.050</td>\n",
       "    </tr>\n",
       "  </tbody>\n",
       "</table>\n",
       "</div>"
      ],
      "text/plain": [
       "             0      1\n",
       "0         Year     IF\n",
       "1  2014 (2015)  4.643\n",
       "2         2013  4.864\n",
       "3         2012  4.691\n",
       "4         2011  4.558\n",
       "5         2010  4.964\n",
       "6         2009  4.922\n",
       "7         2008  5.050"
      ]
     },
     "execution_count": 21,
     "metadata": {},
     "output_type": "execute_result"
    }
   ],
   "source": [
    "tx"
   ]
  },
  {
   "cell_type": "code",
   "execution_count": 106,
   "metadata": {
    "collapsed": false
   },
   "outputs": [
    {
     "data": {
      "text/plain": [
       "'\\n<tr>\\n<td>Year</td>\\n<td><strong>IF</strong></td>\\n</tr>\\n<tr>\\n<td>2014 (2015)</td>\\n<td>4.643</td>\\n</tr>\\n<tr>\\n<td>2013</td>\\n<td>4.864</td>\\n</tr>\\n<tr>\\n<td>2012</td>\\n<td>4.691</td>\\n</tr>\\n<tr>\\n<td>2011</td>\\n<td>4.558</td>\\n</tr>\\n<tr>\\n<td>2010</td>\\n<td>4.964</td>\\n</tr>\\n<tr>\\n<td>2009</td>\\n<td>4.922</td>\\n</tr>\\n<tr>\\n<td>2008</td>\\n<td>5.050</td>\\n</tr>\\n'"
      ]
     },
     "execution_count": 106,
     "metadata": {},
     "output_type": "execute_result"
    }
   ],
   "source": [
    "x.decode_contents()"
   ]
  },
  {
   "cell_type": "code",
   "execution_count": 102,
   "metadata": {
    "collapsed": true
   },
   "outputs": [],
   "source": [
    "pd.read_html?"
   ]
  },
  {
   "cell_type": "markdown",
   "metadata": {},
   "source": [
    "<table>\n",
    "<tr>\n",
    "<td>Year</td>\n",
    "<td><strong>IF</strong></td>\n",
    "</tr>\n",
    "<tr>\n",
    "<td>2014 (2015)</td>\n",
    "<td>4.643</td>\n",
    "</tr>\n",
    "<tr>\n",
    "<td>2013</td>\n",
    "<td>4.864</td>\n",
    "</tr>\n",
    "<tr>\n",
    "<td>2012</td>\n",
    "<td>4.691</td>\n",
    "</tr>\n",
    "<tr>\n",
    "<td>2011</td>\n",
    "<td>4.558</td>\n",
    "</tr>\n",
    "<tr>\n",
    "<td>2010</td>\n",
    "<td>4.964</td>\n",
    "</tr>\n",
    "<tr>\n",
    "<td>2009</td>\n",
    "<td>4.922</td>\n",
    "</tr>\n",
    "<tr>\n",
    "<td>2008</td>\n",
    "<td>5.050</td>\n",
    "</tr>\n",
    "</table>"
   ]
  },
  {
   "cell_type": "code",
   "execution_count": 33,
   "metadata": {
    "collapsed": false
   },
   "outputs": [
    {
     "name": "stdout",
     "output_type": "stream",
     "text": [
      "<Element table at 0x7f075db1c4f8>\n"
     ]
    }
   ],
   "source": [
    "for t in root.xpath('//table'):\n",
    "    print(t)"
   ]
  },
  {
   "cell_type": "code",
   "execution_count": 36,
   "metadata": {
    "collapsed": false
   },
   "outputs": [
    {
     "data": {
      "text/plain": [
       "[]"
      ]
     },
     "execution_count": 36,
     "metadata": {},
     "output_type": "execute_result"
    }
   ],
   "source": [
    "[text(th) for th in table.xpath('//th')]"
   ]
  },
  {
   "cell_type": "code",
   "execution_count": 12,
   "metadata": {
    "collapsed": false
   },
   "outputs": [
    {
     "data": {
      "text/html": [
       "<div style=\"max-height:1000px;max-width:1500px;overflow:auto;\">\n",
       "<table border=\"1\" class=\"dataframe\">\n",
       "  <thead>\n",
       "    <tr style=\"text-align: right;\">\n",
       "      <th></th>\n",
       "      <th>Authors</th>\n",
       "      <th>Title</th>\n",
       "      <th>Publication</th>\n",
       "      <th>Volume</th>\n",
       "      <th>Number</th>\n",
       "      <th>Pages</th>\n",
       "      <th>Year</th>\n",
       "      <th>Publisher</th>\n",
       "      <th>Institution_Authors</th>\n",
       "      <th>Institution_Groups</th>\n",
       "      <th>DOI</th>\n",
       "      <th>ISSN</th>\n",
       "      <th>DOI_Journal</th>\n",
       "    </tr>\n",
       "  </thead>\n",
       "  <tbody>\n",
       "    <tr>\n",
       "      <th>0</th>\n",
       "      <td> Sierra, D Aristizabal; Kubo, Jisuke; Suematsu, Daijiro; Restrepo, D; Zapata, Oscar; </td>\n",
       "      <td> Radiative seesaw model: Warm dark matter, collider signatures, and lepton flavor violating signals</td>\n",
       "      <td>                              Physical Review D</td>\n",
       "      <td>   79</td>\n",
       "      <td>  1</td>\n",
       "      <td> 13011</td>\n",
       "      <td> 2009</td>\n",
       "      <td>            APS</td>\n",
       "      <td> Óscar Alberto Zapata Noreña</td>\n",
       "      <td> GFIF</td>\n",
       "      <td>    http://dx.doi.org/10.1103/physrevd.79.013011</td>\n",
       "      <td> 1550-7998;1550-2368</td>\n",
       "      <td>                              Physical Review D</td>\n",
       "    </tr>\n",
       "    <tr>\n",
       "      <th>1</th>\n",
       "      <td>                           Restrepo, Diego; Taoso, Marco; Valle, JWF; Zapata, Oscar; </td>\n",
       "      <td>                         Gravitino dark matter and neutrino masses with bilinear R-parity violation</td>\n",
       "      <td>                              Physical Review D</td>\n",
       "      <td>   85</td>\n",
       "      <td>  2</td>\n",
       "      <td> 23523</td>\n",
       "      <td> 2012</td>\n",
       "      <td>            APS</td>\n",
       "      <td> Óscar Alberto Zapata Noreña</td>\n",
       "      <td> GFIF</td>\n",
       "      <td>    http://dx.doi.org/10.1103/physrevd.85.023523</td>\n",
       "      <td> 1550-7998;1550-2368</td>\n",
       "      <td>                              Physical Review D</td>\n",
       "    </tr>\n",
       "    <tr>\n",
       "      <th>2</th>\n",
       "      <td>                   Choi, Ki-Young; Restrepo, Diego; Yaguna, Carlos E; Zapata, Oscar; </td>\n",
       "      <td>                        Indirect detection of gravitino dark matter including its three-body decays</td>\n",
       "      <td> Journal of Cosmology and Astroparticle Physics</td>\n",
       "      <td> 2010</td>\n",
       "      <td> 10</td>\n",
       "      <td>    33</td>\n",
       "      <td> 2010</td>\n",
       "      <td> IOP Publishing</td>\n",
       "      <td> Óscar Alberto Zapata Noreña</td>\n",
       "      <td> GFIF</td>\n",
       "      <td> http://dx.doi.org/10.1088/1475-7516/2010/10/033</td>\n",
       "      <td>           1475-7516</td>\n",
       "      <td> Journal of Cosmology and Astroparticle Physics</td>\n",
       "    </tr>\n",
       "  </tbody>\n",
       "</table>\n",
       "</div>"
      ],
      "text/plain": [
       "                                                                                Authors  \\\n",
       "0  Sierra, D Aristizabal; Kubo, Jisuke; Suematsu, Daijiro; Restrepo, D; Zapata, Oscar;    \n",
       "1                            Restrepo, Diego; Taoso, Marco; Valle, JWF; Zapata, Oscar;    \n",
       "2                    Choi, Ki-Young; Restrepo, Diego; Yaguna, Carlos E; Zapata, Oscar;    \n",
       "\n",
       "                                                                                                Title  \\\n",
       "0  Radiative seesaw model: Warm dark matter, collider signatures, and lepton flavor violating signals   \n",
       "1                          Gravitino dark matter and neutrino masses with bilinear R-parity violation   \n",
       "2                         Indirect detection of gravitino dark matter including its three-body decays   \n",
       "\n",
       "                                      Publication  Volume  Number  Pages  \\\n",
       "0                               Physical Review D      79       1  13011   \n",
       "1                               Physical Review D      85       2  23523   \n",
       "2  Journal of Cosmology and Astroparticle Physics    2010      10     33   \n",
       "\n",
       "   Year       Publisher          Institution_Authors Institution_Groups  \\\n",
       "0  2009             APS  Óscar Alberto Zapata Noreña               GFIF   \n",
       "1  2012             APS  Óscar Alberto Zapata Noreña               GFIF   \n",
       "2  2010  IOP Publishing  Óscar Alberto Zapata Noreña               GFIF   \n",
       "\n",
       "                                               DOI                 ISSN  \\\n",
       "0     http://dx.doi.org/10.1103/physrevd.79.013011  1550-7998;1550-2368   \n",
       "1     http://dx.doi.org/10.1103/physrevd.85.023523  1550-7998;1550-2368   \n",
       "2  http://dx.doi.org/10.1088/1475-7516/2010/10/033            1475-7516   \n",
       "\n",
       "                                      DOI_Journal  \n",
       "0                               Physical Review D  \n",
       "1                               Physical Review D  \n",
       "2  Journal of Cosmology and Astroparticle Physics  "
      ]
     },
     "execution_count": 12,
     "metadata": {},
     "output_type": "execute_result"
    }
   ],
   "source": [
    "arts.articles"
   ]
  },
  {
   "cell_type": "code",
   "execution_count": 52,
   "metadata": {
    "collapsed": false
   },
   "outputs": [
    {
     "data": {
      "text/plain": [
       "DOI                                                                                                                                                                                              10.1103/physrevd.85.023523\n",
       "ISSN                                                                                                                                                                                                 [1550-7998, 1550-2368]\n",
       "URL                                                                                                                                                                            http://dx.doi.org/10.1103/physrevd.85.023523\n",
       "article-number                                                                                                                                                                                                       023523\n",
       "author              [{'affiliation': [], 'family': 'Restrepo', 'given': 'Diego'}, {'affiliation': [], 'family': 'Taoso', 'given': 'Marco'}, {'affiliation': [], 'family': 'Valle', 'given': 'J. W. F.'}, {'affiliation':...\n",
       "container-title                                                                                                                                                                           [Physical Review D, Phys. Rev. D]\n",
       "created                                                                                                                    {'timestamp': 1327353600000, 'date-time': '2012-01-23T21:20:00Z', 'date-parts': [[2012, 1, 23]]}\n",
       "deposited                                                                                                                  {'timestamp': 1427349864000, 'date-time': '2015-03-26T06:04:24Z', 'date-parts': [[2015, 3, 26]]}\n",
       "indexed                                                                                                                   {'timestamp': 1450648745825, 'date-time': '2015-12-20T21:59:05Z', 'date-parts': [[2015, 12, 20]]}\n",
       "issue                                                                                                                                                                                                                     2\n",
       "issued                                                                                                                                                                                      {'date-parts': [[2012, 1, 23]]}\n",
       "license             [{'start': {'timestamp': 1327276800000, 'date-time': '2012-01-23T00:00:00Z', 'date-parts': [[2012, 1, 23]]}, 'content-version': 'vor', 'URL': 'http://link.aps.org/licenses/aps-default-license', 'd...\n",
       "link                                                    [{'URL': 'http://link.aps.org/article/10.1103/PhysRevD.85.023523', 'content-version': 'vor', 'intended-application': 'syndication', 'content-type': 'unspecified'}]\n",
       "member                                                                                                                                                                                     http://id.crossref.org/member/16\n",
       "prefix                                                                                                                                                                                http://id.crossref.org/prefix/10.1103\n",
       "published-online                                                                                                                                                                            {'date-parts': [[2012, 1, 23]]}\n",
       "publisher                                                                                                                                                                                   American Physical Society (APS)\n",
       "reference-count                                                                                                                                                                                                          67\n",
       "score                                                                                                                                                                                                                     1\n",
       "source                                                                                                                                                                                                             CrossRef\n",
       "subject                                                                                                                                                                                   [Nuclear and High Energy Physics]\n",
       "subtitle                                                                                                                                                                                                                 []\n",
       "title                                                                                                                                     [ Gravitino dark matter and neutrino masses with bilinear  R  -parity violation ]\n",
       "type                                                                                                                                                                                                        journal-article\n",
       "volume                                                                                                                                                                                                                   85\n",
       "page                                                                                                                                                                                                                       \n",
       "Name: 1, dtype: object"
      ]
     },
     "execution_count": 52,
     "metadata": {},
     "output_type": "execute_result"
    }
   ],
   "source": [
    "rr=fulldoi.ix[1]\n",
    "rr"
   ]
  },
  {
   "cell_type": "code",
   "execution_count": 24,
   "metadata": {
    "collapsed": false
   },
   "outputs": [],
   "source": []
  },
  {
   "cell_type": "code",
   "execution_count": 25,
   "metadata": {
    "collapsed": false
   },
   "outputs": [
    {
     "data": {
      "text/plain": [
       "(0, 0)"
      ]
     },
     "execution_count": 25,
     "metadata": {},
     "output_type": "execute_result"
    }
   ],
   "source": [
    "dbj.shape"
   ]
  },
  {
   "cell_type": "code",
   "execution_count": 12,
   "metadata": {
    "collapsed": false
   },
   "outputs": [],
   "source": [
    "issn='1550-7998;1550-2368'.split(';')[0]\n",
    "g=_get_impact_factor_from_issn(issn)"
   ]
  },
  {
   "cell_type": "code",
   "execution_count": 15,
   "metadata": {
    "collapsed": false
   },
   "outputs": [
    {
     "ename": "TypeError",
     "evalue": "the JSON object must be str, not 'bytes'",
     "output_type": "error",
     "traceback": [
      "\u001b[0;31m---------------------------------------------------------------------------\u001b[0m",
      "\u001b[0;31mTypeError\u001b[0m                                 Traceback (most recent call last)",
      "\u001b[0;32m<ipython-input-15-fdc653a1d6b9>\u001b[0m in \u001b[0;36m<module>\u001b[0;34m()\u001b[0m\n\u001b[0;32m----> 1\u001b[0;31m \u001b[0mg\u001b[0m\u001b[0;34m.\u001b[0m\u001b[0msearch\u001b[0m\u001b[0;34m(\u001b[0m\u001b[0;34m)\u001b[0m\u001b[0;34m\u001b[0m\u001b[0m\n\u001b[0m",
      "\u001b[0;32m/home/restrepo/prog/2016/articles/pygoogle.py\u001b[0m in \u001b[0;36msearch\u001b[0;34m(self)\u001b[0m\n\u001b[1;32m     97\u001b[0m         \u001b[0;34m\"\"\"Returns a dict of Title/URLs\"\"\"\u001b[0m\u001b[0;34m\u001b[0m\u001b[0m\n\u001b[1;32m     98\u001b[0m         \u001b[0mresults\u001b[0m \u001b[0;34m=\u001b[0m \u001b[0;34m{\u001b[0m\u001b[0;34m}\u001b[0m\u001b[0;34m\u001b[0m\u001b[0m\n\u001b[0;32m---> 99\u001b[0;31m         \u001b[0;32mfor\u001b[0m \u001b[0mdata\u001b[0m \u001b[0;32min\u001b[0m \u001b[0mself\u001b[0m\u001b[0;34m.\u001b[0m\u001b[0m__search__\u001b[0m\u001b[0;34m(\u001b[0m\u001b[0;34m)\u001b[0m\u001b[0;34m:\u001b[0m\u001b[0;34m\u001b[0m\u001b[0m\n\u001b[0m\u001b[1;32m    100\u001b[0m             \u001b[0;32mfor\u001b[0m \u001b[0mresult\u001b[0m \u001b[0;32min\u001b[0m  \u001b[0mdata\u001b[0m\u001b[0;34m[\u001b[0m\u001b[0;34m'responseData'\u001b[0m\u001b[0;34m]\u001b[0m\u001b[0;34m[\u001b[0m\u001b[0;34m'results'\u001b[0m\u001b[0;34m]\u001b[0m\u001b[0;34m:\u001b[0m\u001b[0;34m\u001b[0m\u001b[0m\n\u001b[1;32m    101\u001b[0m                 \u001b[0;32mif\u001b[0m \u001b[0mresult\u001b[0m\u001b[0;34m:\u001b[0m\u001b[0;34m\u001b[0m\u001b[0m\n",
      "\u001b[0;32m/home/restrepo/prog/2016/articles/pygoogle.py\u001b[0m in \u001b[0;36m__search__\u001b[0;34m(self, print_results)\u001b[0m\n\u001b[1;32m     83\u001b[0m             \u001b[0mq\u001b[0m \u001b[0;34m=\u001b[0m \u001b[0murllib\u001b[0m\u001b[0;34m.\u001b[0m\u001b[0mparse\u001b[0m\u001b[0;34m.\u001b[0m\u001b[0murlencode\u001b[0m\u001b[0;34m(\u001b[0m\u001b[0margs\u001b[0m\u001b[0;34m)\u001b[0m\u001b[0;34m\u001b[0m\u001b[0m\n\u001b[1;32m     84\u001b[0m             \u001b[0msearch_results\u001b[0m \u001b[0;34m=\u001b[0m \u001b[0murllib\u001b[0m\u001b[0;34m.\u001b[0m\u001b[0mrequest\u001b[0m\u001b[0;34m.\u001b[0m\u001b[0murlopen\u001b[0m\u001b[0;34m(\u001b[0m\u001b[0mURL\u001b[0m\u001b[0;34m+\u001b[0m\u001b[0mq\u001b[0m\u001b[0;34m)\u001b[0m\u001b[0;34m\u001b[0m\u001b[0m\n\u001b[0;32m---> 85\u001b[0;31m             \u001b[0mdata\u001b[0m \u001b[0;34m=\u001b[0m \u001b[0mjson\u001b[0m\u001b[0;34m.\u001b[0m\u001b[0mloads\u001b[0m\u001b[0;34m(\u001b[0m\u001b[0msearch_results\u001b[0m\u001b[0;34m.\u001b[0m\u001b[0mread\u001b[0m\u001b[0;34m(\u001b[0m\u001b[0;34m)\u001b[0m\u001b[0;34m.\u001b[0m\u001b[0mdecode\u001b[0m\u001b[0;34m(\u001b[0m\u001b[0;34m)\u001b[0m\u001b[0;34m)\u001b[0m\u001b[0;34m\u001b[0m\u001b[0m\n\u001b[0m\u001b[1;32m     86\u001b[0m             \u001b[0;32mif\u001b[0m \u001b[0mprint_results\u001b[0m\u001b[0;34m:\u001b[0m\u001b[0;34m\u001b[0m\u001b[0m\n\u001b[1;32m     87\u001b[0m                 \u001b[0;32mif\u001b[0m \u001b[0mdata\u001b[0m\u001b[0;34m[\u001b[0m\u001b[0;34m'responseStatus'\u001b[0m\u001b[0;34m]\u001b[0m \u001b[0;34m==\u001b[0m \u001b[0;36m200\u001b[0m\u001b[0;34m:\u001b[0m\u001b[0;34m\u001b[0m\u001b[0m\n",
      "\u001b[0;32m/usr/lib/python3.4/json/__init__.py\u001b[0m in \u001b[0;36mloads\u001b[0;34m(s, encoding, cls, object_hook, parse_float, parse_int, parse_constant, object_pairs_hook, **kw)\u001b[0m\n\u001b[1;32m    310\u001b[0m     \u001b[0;32mif\u001b[0m \u001b[0;32mnot\u001b[0m \u001b[0misinstance\u001b[0m\u001b[0;34m(\u001b[0m\u001b[0ms\u001b[0m\u001b[0;34m,\u001b[0m \u001b[0mstr\u001b[0m\u001b[0;34m)\u001b[0m\u001b[0;34m:\u001b[0m\u001b[0;34m\u001b[0m\u001b[0m\n\u001b[1;32m    311\u001b[0m         raise TypeError('the JSON object must be str, not {!r}'.format(\n\u001b[0;32m--> 312\u001b[0;31m                             s.__class__.__name__))\n\u001b[0m\u001b[1;32m    313\u001b[0m     \u001b[0;32mif\u001b[0m \u001b[0ms\u001b[0m\u001b[0;34m.\u001b[0m\u001b[0mstartswith\u001b[0m\u001b[0;34m(\u001b[0m\u001b[0;34mu'\\ufeff'\u001b[0m\u001b[0;34m)\u001b[0m\u001b[0;34m:\u001b[0m\u001b[0;34m\u001b[0m\u001b[0m\n\u001b[1;32m    314\u001b[0m         \u001b[0;32mraise\u001b[0m \u001b[0mValueError\u001b[0m\u001b[0;34m(\u001b[0m\u001b[0;34m\"Unexpected UTF-8 BOM (decode using utf-8-sig)\"\u001b[0m\u001b[0;34m)\u001b[0m\u001b[0;34m\u001b[0m\u001b[0m\n",
      "\u001b[0;31mTypeError\u001b[0m: the JSON object must be str, not 'bytes'"
     ]
    }
   ],
   "source": [
    "g.search()"
   ]
  },
  {
   "cell_type": "code",
   "execution_count": 32,
   "metadata": {
    "collapsed": false
   },
   "outputs": [],
   "source": [
    "import urllib\n",
    "urllib.un"
   ]
  },
  {
   "cell_type": "code",
   "execution_count": 23,
   "metadata": {
    "collapsed": false
   },
   "outputs": [
    {
     "data": {
      "text/html": [
       "<div style=\"max-height:1000px;max-width:1500px;overflow:auto;\">\n",
       "<table border=\"1\" class=\"dataframe\">\n",
       "  <thead>\n",
       "    <tr style=\"text-align: right;\">\n",
       "      <th></th>\n",
       "      <th>DOI</th>\n",
       "      <th>ISSN</th>\n",
       "      <th>URL</th>\n",
       "      <th>article-number</th>\n",
       "      <th>author</th>\n",
       "      <th>container-title</th>\n",
       "      <th>created</th>\n",
       "      <th>deposited</th>\n",
       "      <th>indexed</th>\n",
       "      <th>issue</th>\n",
       "      <th>issued</th>\n",
       "      <th>license</th>\n",
       "      <th>link</th>\n",
       "      <th>member</th>\n",
       "      <th>prefix</th>\n",
       "      <th>published-online</th>\n",
       "      <th>publisher</th>\n",
       "      <th>reference-count</th>\n",
       "      <th>score</th>\n",
       "      <th>source</th>\n",
       "      <th>subject</th>\n",
       "      <th>subtitle</th>\n",
       "      <th>title</th>\n",
       "      <th>type</th>\n",
       "      <th>volume</th>\n",
       "      <th>page</th>\n",
       "    </tr>\n",
       "  </thead>\n",
       "  <tbody>\n",
       "    <tr>\n",
       "      <th>0</th>\n",
       "      <td>    10.1103/physrevd.79.013011</td>\n",
       "      <td> [1550-7998, 1550-2368]</td>\n",
       "      <td>    http://dx.doi.org/10.1103/physrevd.79.013011</td>\n",
       "      <td> 013011</td>\n",
       "      <td> [{'affiliation': [], 'given': 'D.', 'family': 'Aristizabal Sierra'}, {'affiliation': [], 'given': 'Jisuke', 'family': 'Kubo'}, {'affiliation': [], 'given': 'Daijiro', 'family': 'Suematsu'}, {'affi...</td>\n",
       "      <td>                                             [Physical Review D, Phys. Rev. D]</td>\n",
       "      <td>  {'date-parts': [[2009, 1, 28]], 'timestamp': 1233162501000, 'date-time': '2009-01-28T17:08:21Z'}</td>\n",
       "      <td> {'date-parts': [[2015, 3, 26]], 'timestamp': 1427391551000, 'date-time': '2015-03-26T17:39:11Z'}</td>\n",
       "      <td> {'date-parts': [[2015, 12, 20]], 'timestamp': 1450639904869, 'date-time': '2015-12-20T19:31:44Z'}</td>\n",
       "      <td>  1</td>\n",
       "      <td>  {'date-parts': [[2009, 1, 28]]}</td>\n",
       "      <td> [{'content-version': 'vor', 'URL': 'http://link.aps.org/licenses/aps-default-license', 'start': {'date-parts': [[2009, 1, 28]], 'timestamp': 1233100800000, 'date-time': '2009-01-28T00:00:00Z'}, 'd...</td>\n",
       "      <td> [{'intended-application': 'syndication', 'content-version': 'vor', 'URL': 'http://link.aps.org/article/10.1103/PhysRevD.79.013011', 'content-type': 'unspecified'}]</td>\n",
       "      <td>  http://id.crossref.org/member/16</td>\n",
       "      <td> http://id.crossref.org/prefix/10.1103</td>\n",
       "      <td>  {'date-parts': [[2009, 1, 28]]}</td>\n",
       "      <td> American Physical Society (APS)</td>\n",
       "      <td> 66</td>\n",
       "      <td> 1</td>\n",
       "      <td> CrossRef</td>\n",
       "      <td> [Nuclear and High Energy Physics]</td>\n",
       "      <td> []</td>\n",
       "      <td> [Radiative seesaw model: Warm dark matter, collider signatures, and lepton flavor violating signals]</td>\n",
       "      <td> journal-article</td>\n",
       "      <td>   79</td>\n",
       "      <td>        </td>\n",
       "    </tr>\n",
       "    <tr>\n",
       "      <th>1</th>\n",
       "      <td>    10.1103/physrevd.85.023523</td>\n",
       "      <td> [1550-7998, 1550-2368]</td>\n",
       "      <td>    http://dx.doi.org/10.1103/physrevd.85.023523</td>\n",
       "      <td> 023523</td>\n",
       "      <td> [{'affiliation': [], 'given': 'Diego', 'family': 'Restrepo'}, {'affiliation': [], 'given': 'Marco', 'family': 'Taoso'}, {'affiliation': [], 'given': 'J. W. F.', 'family': 'Valle'}, {'affiliation':...</td>\n",
       "      <td>                                             [Physical Review D, Phys. Rev. D]</td>\n",
       "      <td>  {'date-parts': [[2012, 1, 23]], 'timestamp': 1327353600000, 'date-time': '2012-01-23T21:20:00Z'}</td>\n",
       "      <td> {'date-parts': [[2015, 3, 26]], 'timestamp': 1427349864000, 'date-time': '2015-03-26T06:04:24Z'}</td>\n",
       "      <td> {'date-parts': [[2015, 12, 20]], 'timestamp': 1450648745825, 'date-time': '2015-12-20T21:59:05Z'}</td>\n",
       "      <td>  2</td>\n",
       "      <td>  {'date-parts': [[2012, 1, 23]]}</td>\n",
       "      <td> [{'content-version': 'vor', 'URL': 'http://link.aps.org/licenses/aps-default-license', 'start': {'date-parts': [[2012, 1, 23]], 'timestamp': 1327276800000, 'date-time': '2012-01-23T00:00:00Z'}, 'd...</td>\n",
       "      <td> [{'intended-application': 'syndication', 'content-version': 'vor', 'URL': 'http://link.aps.org/article/10.1103/PhysRevD.85.023523', 'content-type': 'unspecified'}]</td>\n",
       "      <td>  http://id.crossref.org/member/16</td>\n",
       "      <td> http://id.crossref.org/prefix/10.1103</td>\n",
       "      <td>  {'date-parts': [[2012, 1, 23]]}</td>\n",
       "      <td> American Physical Society (APS)</td>\n",
       "      <td> 67</td>\n",
       "      <td> 1</td>\n",
       "      <td> CrossRef</td>\n",
       "      <td> [Nuclear and High Energy Physics]</td>\n",
       "      <td> []</td>\n",
       "      <td>                    [ Gravitino dark matter and neutrino masses with bilinear  R  -parity violation ]</td>\n",
       "      <td> journal-article</td>\n",
       "      <td>   85</td>\n",
       "      <td>        </td>\n",
       "    </tr>\n",
       "    <tr>\n",
       "      <th>2</th>\n",
       "      <td> 10.1088/1475-7516/2010/10/033</td>\n",
       "      <td>            [1475-7516]</td>\n",
       "      <td> http://dx.doi.org/10.1088/1475-7516/2010/10/033</td>\n",
       "      <td>       </td>\n",
       "      <td> [{'affiliation': [], 'given': 'Ki-Young', 'family': 'Choi'}, {'affiliation': [], 'given': 'Diego', 'family': 'Restrepo'}, {'affiliation': [], 'given': 'Carlos E', 'family': 'Yaguna'}, {'affiliatio...</td>\n",
       "      <td> [J. Cosmol. Astropart. Phys., Journal of Cosmology and Astroparticle Physics]</td>\n",
       "      <td> {'date-parts': [[2010, 10, 27]], 'timestamp': 1288149551000, 'date-time': '2010-10-27T03:19:11Z'}</td>\n",
       "      <td>  {'date-parts': [[2011, 8, 4]], 'timestamp': 1312486993000, 'date-time': '2011-08-04T19:43:13Z'}</td>\n",
       "      <td> {'date-parts': [[2015, 12, 26]], 'timestamp': 1451141011020, 'date-time': '2015-12-26T14:43:31Z'}</td>\n",
       "      <td> 10</td>\n",
       "      <td> {'date-parts': [[2010, 10, 26]]}</td>\n",
       "      <td>                                                                                                                                                                                                        </td>\n",
       "      <td>                                                                                                                                                                    </td>\n",
       "      <td> http://id.crossref.org/member/266</td>\n",
       "      <td> http://id.crossref.org/prefix/10.1088</td>\n",
       "      <td> {'date-parts': [[2010, 10, 26]]}</td>\n",
       "      <td>                  IOP Publishing</td>\n",
       "      <td> 38</td>\n",
       "      <td> 1</td>\n",
       "      <td> CrossRef</td>\n",
       "      <td>      [Astronomy and Astrophysics]</td>\n",
       "      <td> []</td>\n",
       "      <td>                        [Indirect detection of gravitino dark matter including its three-body decays]</td>\n",
       "      <td> journal-article</td>\n",
       "      <td> 2010</td>\n",
       "      <td> 033-033</td>\n",
       "    </tr>\n",
       "    <tr>\n",
       "      <th>3</th>\n",
       "      <td>                              </td>\n",
       "      <td>                       </td>\n",
       "      <td>                                                </td>\n",
       "      <td>       </td>\n",
       "      <td>                                                                                                                                                                                                        </td>\n",
       "      <td>                                                                              </td>\n",
       "      <td>                                                                                                  </td>\n",
       "      <td>                                                                                                 </td>\n",
       "      <td>                                                                                                  </td>\n",
       "      <td>   </td>\n",
       "      <td>                                 </td>\n",
       "      <td>                                                                                                                                                                                                        </td>\n",
       "      <td>                                                                                                                                                                    </td>\n",
       "      <td>                                  </td>\n",
       "      <td>                                      </td>\n",
       "      <td>                                 </td>\n",
       "      <td>                                </td>\n",
       "      <td>   </td>\n",
       "      <td>  </td>\n",
       "      <td>         </td>\n",
       "      <td>                                  </td>\n",
       "      <td>   </td>\n",
       "      <td>                                                                                                     </td>\n",
       "      <td>                </td>\n",
       "      <td>     </td>\n",
       "      <td>        </td>\n",
       "    </tr>\n",
       "  </tbody>\n",
       "</table>\n",
       "</div>"
      ],
      "text/plain": [
       "                             DOI                    ISSN  \\\n",
       "0     10.1103/physrevd.79.013011  [1550-7998, 1550-2368]   \n",
       "1     10.1103/physrevd.85.023523  [1550-7998, 1550-2368]   \n",
       "2  10.1088/1475-7516/2010/10/033             [1475-7516]   \n",
       "3                                                          \n",
       "\n",
       "                                               URL article-number  \\\n",
       "0     http://dx.doi.org/10.1103/physrevd.79.013011         013011   \n",
       "1     http://dx.doi.org/10.1103/physrevd.85.023523         023523   \n",
       "2  http://dx.doi.org/10.1088/1475-7516/2010/10/033                  \n",
       "3                                                                   \n",
       "\n",
       "                                                                                                                                                                                                    author  \\\n",
       "0  [{'affiliation': [], 'given': 'D.', 'family': 'Aristizabal Sierra'}, {'affiliation': [], 'given': 'Jisuke', 'family': 'Kubo'}, {'affiliation': [], 'given': 'Daijiro', 'family': 'Suematsu'}, {'affi...   \n",
       "1  [{'affiliation': [], 'given': 'Diego', 'family': 'Restrepo'}, {'affiliation': [], 'given': 'Marco', 'family': 'Taoso'}, {'affiliation': [], 'given': 'J. W. F.', 'family': 'Valle'}, {'affiliation':...   \n",
       "2  [{'affiliation': [], 'given': 'Ki-Young', 'family': 'Choi'}, {'affiliation': [], 'given': 'Diego', 'family': 'Restrepo'}, {'affiliation': [], 'given': 'Carlos E', 'family': 'Yaguna'}, {'affiliatio...   \n",
       "3                                                                                                                                                                                                            \n",
       "\n",
       "                                                                 container-title  \\\n",
       "0                                              [Physical Review D, Phys. Rev. D]   \n",
       "1                                              [Physical Review D, Phys. Rev. D]   \n",
       "2  [J. Cosmol. Astropart. Phys., Journal of Cosmology and Astroparticle Physics]   \n",
       "3                                                                                  \n",
       "\n",
       "                                                                                             created  \\\n",
       "0   {'date-parts': [[2009, 1, 28]], 'timestamp': 1233162501000, 'date-time': '2009-01-28T17:08:21Z'}   \n",
       "1   {'date-parts': [[2012, 1, 23]], 'timestamp': 1327353600000, 'date-time': '2012-01-23T21:20:00Z'}   \n",
       "2  {'date-parts': [[2010, 10, 27]], 'timestamp': 1288149551000, 'date-time': '2010-10-27T03:19:11Z'}   \n",
       "3                                                                                                      \n",
       "\n",
       "                                                                                          deposited  \\\n",
       "0  {'date-parts': [[2015, 3, 26]], 'timestamp': 1427391551000, 'date-time': '2015-03-26T17:39:11Z'}   \n",
       "1  {'date-parts': [[2015, 3, 26]], 'timestamp': 1427349864000, 'date-time': '2015-03-26T06:04:24Z'}   \n",
       "2   {'date-parts': [[2011, 8, 4]], 'timestamp': 1312486993000, 'date-time': '2011-08-04T19:43:13Z'}   \n",
       "3                                                                                                     \n",
       "\n",
       "                                                                                             indexed  \\\n",
       "0  {'date-parts': [[2015, 12, 20]], 'timestamp': 1450639904869, 'date-time': '2015-12-20T19:31:44Z'}   \n",
       "1  {'date-parts': [[2015, 12, 20]], 'timestamp': 1450648745825, 'date-time': '2015-12-20T21:59:05Z'}   \n",
       "2  {'date-parts': [[2015, 12, 26]], 'timestamp': 1451141011020, 'date-time': '2015-12-26T14:43:31Z'}   \n",
       "3                                                                                                      \n",
       "\n",
       "  issue                            issued  \\\n",
       "0     1   {'date-parts': [[2009, 1, 28]]}   \n",
       "1     2   {'date-parts': [[2012, 1, 23]]}   \n",
       "2    10  {'date-parts': [[2010, 10, 26]]}   \n",
       "3                                           \n",
       "\n",
       "                                                                                                                                                                                                   license  \\\n",
       "0  [{'content-version': 'vor', 'URL': 'http://link.aps.org/licenses/aps-default-license', 'start': {'date-parts': [[2009, 1, 28]], 'timestamp': 1233100800000, 'date-time': '2009-01-28T00:00:00Z'}, 'd...   \n",
       "1  [{'content-version': 'vor', 'URL': 'http://link.aps.org/licenses/aps-default-license', 'start': {'date-parts': [[2012, 1, 23]], 'timestamp': 1327276800000, 'date-time': '2012-01-23T00:00:00Z'}, 'd...   \n",
       "2                                                                                                                                                                                                            \n",
       "3                                                                                                                                                                                                            \n",
       "\n",
       "                                                                                                                                                                  link  \\\n",
       "0  [{'intended-application': 'syndication', 'content-version': 'vor', 'URL': 'http://link.aps.org/article/10.1103/PhysRevD.79.013011', 'content-type': 'unspecified'}]   \n",
       "1  [{'intended-application': 'syndication', 'content-version': 'vor', 'URL': 'http://link.aps.org/article/10.1103/PhysRevD.85.023523', 'content-type': 'unspecified'}]   \n",
       "2                                                                                                                                                                        \n",
       "3                                                                                                                                                                        \n",
       "\n",
       "                              member                                 prefix  \\\n",
       "0   http://id.crossref.org/member/16  http://id.crossref.org/prefix/10.1103   \n",
       "1   http://id.crossref.org/member/16  http://id.crossref.org/prefix/10.1103   \n",
       "2  http://id.crossref.org/member/266  http://id.crossref.org/prefix/10.1088   \n",
       "3                                                                             \n",
       "\n",
       "                   published-online                        publisher  \\\n",
       "0   {'date-parts': [[2009, 1, 28]]}  American Physical Society (APS)   \n",
       "1   {'date-parts': [[2012, 1, 23]]}  American Physical Society (APS)   \n",
       "2  {'date-parts': [[2010, 10, 26]]}                   IOP Publishing   \n",
       "3                                                                      \n",
       "\n",
       "  reference-count score    source                            subject subtitle  \\\n",
       "0              66     1  CrossRef  [Nuclear and High Energy Physics]       []   \n",
       "1              67     1  CrossRef  [Nuclear and High Energy Physics]       []   \n",
       "2              38     1  CrossRef       [Astronomy and Astrophysics]       []   \n",
       "3                                                                               \n",
       "\n",
       "                                                                                                  title  \\\n",
       "0  [Radiative seesaw model: Warm dark matter, collider signatures, and lepton flavor violating signals]   \n",
       "1                     [ Gravitino dark matter and neutrino masses with bilinear  R  -parity violation ]   \n",
       "2                         [Indirect detection of gravitino dark matter including its three-body decays]   \n",
       "3                                                                                                         \n",
       "\n",
       "              type volume     page  \n",
       "0  journal-article     79           \n",
       "1  journal-article     85           \n",
       "2  journal-article   2010  033-033  \n",
       "3                                   "
      ]
     },
     "execution_count": 23,
     "metadata": {},
     "output_type": "execute_result"
    }
   ],
   "source": [
    "fulldoi.append({},ignore_index=True)"
   ]
  },
  {
   "cell_type": "code",
   "execution_count": 24,
   "metadata": {
    "collapsed": false
   },
   "outputs": [],
   "source": []
  },
  {
   "cell_type": "code",
   "execution_count": 83,
   "metadata": {
    "collapsed": false
   },
   "outputs": [
    {
     "data": {
      "text/plain": [
       "'1550-7998'"
      ]
     },
     "execution_count": 83,
     "metadata": {},
     "output_type": "execute_result"
    }
   ],
   "source": [
    "issn"
   ]
  },
  {
   "cell_type": "code",
   "execution_count": 84,
   "metadata": {
    "collapsed": false
   },
   "outputs": [
    {
     "data": {
      "text/plain": [
       "('Q1', '259')"
      ]
     },
     "execution_count": 84,
     "metadata": {},
     "output_type": "execute_result"
    }
   ],
   "source": []
  },
  {
   "cell_type": "code",
   "execution_count": 74,
   "metadata": {
    "collapsed": false
   },
   "outputs": [
    {
     "data": {
      "text/plain": [
       "'259'"
      ]
     },
     "execution_count": 74,
     "metadata": {},
     "output_type": "execute_result"
    }
   ],
   "source": [
    "hindex"
   ]
  },
  {
   "cell_type": "code",
   "execution_count": 67,
   "metadata": {
    "collapsed": false
   },
   "outputs": [],
   "source": []
  },
  {
   "cell_type": "code",
   "execution_count": 68,
   "metadata": {
    "collapsed": false
   },
   "outputs": [
    {
     "data": {
      "text/plain": [
       "'259'"
      ]
     },
     "execution_count": 68,
     "metadata": {},
     "output_type": "execute_result"
    }
   ],
   "source": [
    "hindex"
   ]
  },
  {
   "cell_type": "code",
   "execution_count": null,
   "metadata": {
    "collapsed": true
   },
   "outputs": [],
   "source": []
  }
 ],
 "metadata": {
  "kernelspec": {
   "display_name": "Python 3",
   "language": "python",
   "name": "python3"
  },
  "language_info": {
   "codemirror_mode": {
    "name": "ipython",
    "version": 3
   },
   "file_extension": ".py",
   "mimetype": "text/x-python",
   "name": "python",
   "nbconvert_exporter": "python",
   "pygments_lexer": "ipython3",
   "version": "3.4.2"
  }
 },
 "nbformat": 4,
 "nbformat_minor": 0
}
