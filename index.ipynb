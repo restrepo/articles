{
 "cells": [
  {
   "cell_type": "code",
   "execution_count": 1,
   "metadata": {
    "collapsed": false
   },
   "outputs": [],
   "source": [
    "import numpy as np\n",
    "import pandas as pd\n",
    "import warnings\n",
    "import sys\n",
    "from IPython.display import display, HTML\n",
    "import tabulate #udo pip3 install tabulate\n",
    "pd.set_option('display.max_rows', 500)\n",
    "pd.set_option('display.max_columns', 500)\n",
    "pd.set_option('display.max_colwidth',200)\n",
    "class publications(object):\n",
    "    '''Add Generic publication data'''\n",
    "    pass\n",
    "class articles(publications):\n",
    "    '''Read csv file exported by Google Scholar Citations profile and\n",
    "       automatically add informations about:\n",
    "       DOI: from title and author\n",
    "       Journal title: from DOI\n",
    "       ISSN of Jornal\n",
    "       Impact factor of journal\n",
    "       Institution_Authors: requires Data Base\n",
    "       '''\n",
    "    journal=pd.Series()\n",
    "    columns=pd.Series({'Full_Name':'Full_Name','Author_Names':'Author_Names','Control':'Control',\\\n",
    "                      'Institution_Authors':'Institution_Authors','Institution_Group':'Institution_Group'})\n",
    "    def __init__(self,csv_file='citations.csv',citations_file=None):\n",
    "        #DEBUG: check file\n",
    "        self.scholar=pd.read_csv(csv_file).fillna('')\n",
    "        if citations_file:\n",
    "            #DEBUG: check file\n",
    "            self.citations=pd.read_csv(citations_file).fillna('')\n",
    "        #check Institution Authors json file\n",
    "            #self.Institution_Authors=pd.read_csv(institutions_authors_json).fillna('')\n",
    "            \n",
    "    def add_institution_author(self):\n",
    "        #DEBUG: Check and load file\n",
    "        full_name=input('Full name: ')\n",
    "        #DEBUG: Ask for more author names and update author names separated by semicolons\n",
    "        author_names=input('Author names\\n(Example: Juan Perez; J. Perez; J. Pérez):\\n')\n",
    "        #DEBUG: default to 0\n",
    "        control=input('Additional identitication number: ') \n",
    "        \n",
    "        #DEBUG: if not file creates it\n",
    "        iffile=False\n",
    "        if not iffile:\n",
    "            self.institution_authors=pd.DataFrame()\n",
    "            \n",
    "        self.institution_authors=self.institution_authors.append({self.columns.Full_Name:full_name,\\\n",
    "                                                              self.columns.Author_Names:author_names,\\\n",
    "                                                              self.columns.Control:control},ignore_index=True)\n",
    "        self.institution_authors.to_json('authors.json')\n",
    "        \n",
    "    def add_institution_group(self):\n",
    "        wrn='Author not found'\n",
    "        search_query=input('Find author by first name and first surname\\n(Example: Juan Pérez);\\n')\n",
    "        sql=search_query.split(' ')\n",
    "        #DEBUG: low_case\n",
    "        if len(sql)>0:\n",
    "            sql_name=sql[0]\n",
    "            if len(sql)>1:\n",
    "                sql_surname=sql[1]\n",
    "            else:\n",
    "                sql_surname=''\n",
    "            \n",
    "            author_match=self.institution_authors[\\\n",
    "                             np.logical_and( self.institution_authors.Full_Name.str.contains(sql_name),\\\n",
    "                                             self.institution_authors.Full_Name.str.contains(sql_surname) )]\n",
    "            if not author_match.shape[0]:\n",
    "                author_match=self.institution_authors[\\\n",
    "                             np.logical_or( self.institution_authors.Full_Name.str.contains(sql_name),\\\n",
    "                                            self.institution_authors.Full_Name.str.contains(sql_surname) )]\n",
    "            if not author_match.shape[0]:\n",
    "                warnings.warn(wrn)\n",
    "            else:    \n",
    "                author_match=author_match.reset_index(drop=True)\n",
    "                author_match['Number']=author_match.index\n",
    "                if author_match.shape[0]==1:\n",
    "                    author_Series=author_match.ix[0]\n",
    "                    #print( tabulate.tabulate(author_match,headers='keys', tablefmt='psql'))\n",
    "                else:\n",
    "                    print( tabulate.tabulate(author_match,headers='keys', tablefmt='psql'))\n",
    "                    ai=input('Give Number of line:')\n",
    "                    author_Series=author_match.ix[ai]\n",
    "                Group=input('Group name for\\n%s\\n(Example: IA: Inteligencia Artificial)' %author_Series.Full_Name)\n",
    "                #DEBUG: if not file creates it\n",
    "                iffile=False\n",
    "                if not iffile:\n",
    "                    self.institution_group=pd.DataFrame()  \n",
    "                    self.institution_group=self.institution_group.append({self.columns.Full_Name:author_Series.Full_Name,\\\n",
    "                                                                  self.columns.Institution_Group:Group},ignore_index=True)\n",
    "                    self.institution_authors.to_json('groups.json')\n",
    "        else:\n",
    "            warnings.warn(wrn)\n",
    "\n",
    "        \n",
    "        \n",
    "    def DOI(self,article):\n",
    "        if 'Title' and 'Authors' in article:\n",
    "            self.journal['ISSN']='1234-5678'\n",
    "        #DEBUG: Update Journal Data base\n",
    "            \n",
    "            #article['']\n",
    "    "
   ]
  },
  {
   "cell_type": "code",
   "execution_count": 2,
   "metadata": {
    "collapsed": true
   },
   "outputs": [],
   "source": [
    "arts=articles('citations.csv')"
   ]
  },
  {
   "cell_type": "code",
   "execution_count": 3,
   "metadata": {
    "collapsed": false
   },
   "outputs": [
    {
     "name": "stdout",
     "output_type": "stream",
     "text": [
      "Full name: Óscar Alberto Zapata Noreña\n",
      "Author names\n",
      "(Example: Juan Perez; J. Perez; J. Pérez):\n",
      "Oscar Zapata;O. Zapata\n",
      "Additional identitication number: 0\n"
     ]
    }
   ],
   "source": [
    "arts.add_institution_author()"
   ]
  },
  {
   "cell_type": "code",
   "execution_count": 4,
   "metadata": {
    "collapsed": false
   },
   "outputs": [
    {
     "data": {
      "text/html": [
       "<div style=\"max-height:1000px;max-width:1500px;overflow:auto;\">\n",
       "<table border=\"1\" class=\"dataframe\">\n",
       "  <thead>\n",
       "    <tr style=\"text-align: right;\">\n",
       "      <th></th>\n",
       "      <th>Author_Names</th>\n",
       "      <th>Control</th>\n",
       "      <th>Full_Name</th>\n",
       "    </tr>\n",
       "  </thead>\n",
       "  <tbody>\n",
       "    <tr>\n",
       "      <th>0</th>\n",
       "      <td> Oscar Zapata;O. Zapata</td>\n",
       "      <td> 0</td>\n",
       "      <td> Óscar Alberto Zapata Noreña</td>\n",
       "    </tr>\n",
       "  </tbody>\n",
       "</table>\n",
       "</div>"
      ],
      "text/plain": [
       "             Author_Names  Control                    Full_Name\n",
       "0  Oscar Zapata;O. Zapata        0  Óscar Alberto Zapata Noreña"
      ]
     },
     "execution_count": 4,
     "metadata": {},
     "output_type": "execute_result"
    }
   ],
   "source": [
    "pd.read_json('authors.json')"
   ]
  },
  {
   "cell_type": "code",
   "execution_count": 5,
   "metadata": {
    "collapsed": false
   },
   "outputs": [
    {
     "name": "stdout",
     "output_type": "stream",
     "text": [
      "Find author by first name and first surname\n",
      "(Example: Juan Pérez);\n",
      "Oscar Zapata\n",
      "Group name for\n",
      "Óscar Alberto Zapata Noreña\n",
      " (Example: IA: Inteligencia Artificial)GFIF:\n"
     ]
    }
   ],
   "source": [
    "arts.add_institution_group()"
   ]
  },
  {
   "cell_type": "code",
   "execution_count": 6,
   "metadata": {
    "collapsed": false
   },
   "outputs": [
    {
     "data": {
      "text/html": [
       "<div style=\"max-height:1000px;max-width:1500px;overflow:auto;\">\n",
       "<table border=\"1\" class=\"dataframe\">\n",
       "  <thead>\n",
       "    <tr style=\"text-align: right;\">\n",
       "      <th></th>\n",
       "      <th>Full_Name</th>\n",
       "      <th>Institution_Group</th>\n",
       "    </tr>\n",
       "  </thead>\n",
       "  <tbody>\n",
       "    <tr>\n",
       "      <th>0</th>\n",
       "      <td> Óscar Alberto Zapata Noreña</td>\n",
       "      <td> GFIF:</td>\n",
       "    </tr>\n",
       "  </tbody>\n",
       "</table>\n",
       "</div>"
      ],
      "text/plain": [
       "                     Full_Name Institution_Group\n",
       "0  Óscar Alberto Zapata Noreña             GFIF:"
      ]
     },
     "execution_count": 6,
     "metadata": {},
     "output_type": "execute_result"
    }
   ],
   "source": [
    "arts.institution_group"
   ]
  },
  {
   "cell_type": "code",
   "execution_count": 30,
   "metadata": {
    "collapsed": false
   },
   "outputs": [
    {
     "data": {
      "text/plain": [
       "'Óscar Alberto Zapata Noreña'"
      ]
     },
     "execution_count": 30,
     "metadata": {},
     "output_type": "execute_result"
    }
   ],
   "source": [
    "author_Series.Full_Name"
   ]
  },
  {
   "cell_type": "code",
   "execution_count": 21,
   "metadata": {
    "collapsed": false
   },
   "outputs": [
    {
     "data": {
      "text/html": [
       "<div style=\"max-height:1000px;max-width:1500px;overflow:auto;\">\n",
       "<table border=\"1\" class=\"dataframe\">\n",
       "  <thead>\n",
       "    <tr style=\"text-align: right;\">\n",
       "      <th></th>\n",
       "      <th>Author_Names</th>\n",
       "      <th>Control</th>\n",
       "      <th>Full_Name</th>\n",
       "    </tr>\n",
       "  </thead>\n",
       "  <tbody>\n",
       "  </tbody>\n",
       "</table>\n",
       "</div>"
      ],
      "text/plain": [
       "Empty DataFrame\n",
       "Columns: [Author_Names, Control, Full_Name]\n",
       "Index: []"
      ]
     },
     "execution_count": 21,
     "metadata": {},
     "output_type": "execute_result"
    }
   ],
   "source": [
    "author_match"
   ]
  },
  {
   "cell_type": "code",
   "execution_count": 25,
   "metadata": {
    "collapsed": false
   },
   "outputs": [
    {
     "name": "stdout",
     "output_type": "stream",
     "text": [
      "1\n"
     ]
    }
   ],
   "source": [
    "if not author_match.shape[0]: print(1)"
   ]
  },
  {
   "cell_type": "code",
   "execution_count": 17,
   "metadata": {
    "collapsed": true
   },
   "outputs": [],
   "source": []
  },
  {
   "cell_type": "code",
   "execution_count": 18,
   "metadata": {
    "collapsed": false
   },
   "outputs": [
    {
     "name": "stderr",
     "output_type": "stream",
     "text": [
      "/usr/local/lib/python3.4/dist-packages/IPython/kernel/__main__.py:1: UserWarning: hola mundo\n",
      "  if __name__ == '__main__':\n"
     ]
    }
   ],
   "source": [
    "warnings.warn('hola mundo')"
   ]
  },
  {
   "cell_type": "code",
   "execution_count": 7,
   "metadata": {
    "collapsed": false
   },
   "outputs": [
    {
     "data": {
      "text/html": [
       "<div>\n",
       "<table border=\"1\" class=\"dataframe\">\n",
       "  <thead>\n",
       "    <tr style=\"text-align: right;\">\n",
       "      <th></th>\n",
       "      <th>﻿Authors</th>\n",
       "      <th>Title</th>\n",
       "      <th>Publication</th>\n",
       "      <th>Volume</th>\n",
       "      <th>Number</th>\n",
       "      <th>Pages</th>\n",
       "      <th>Year</th>\n",
       "      <th>Publisher</th>\n",
       "    </tr>\n",
       "  </thead>\n",
       "  <tbody>\n",
       "    <tr>\n",
       "      <th>0</th>\n",
       "      <td>Sierra, D Aristizabal; Kubo, Jisuke; Suematsu, Daijiro; Restrepo, D; Zapata, Oscar;</td>\n",
       "      <td>Radiative seesaw model: Warm dark matter, collider signatures, and lepton flavor violating signals</td>\n",
       "      <td>Physical Review D</td>\n",
       "      <td>79</td>\n",
       "      <td>1</td>\n",
       "      <td>13011</td>\n",
       "      <td>2009</td>\n",
       "      <td>APS</td>\n",
       "    </tr>\n",
       "    <tr>\n",
       "      <th>1</th>\n",
       "      <td>Restrepo, Diego; Taoso, Marco; Valle, JWF; Zapata, Oscar;</td>\n",
       "      <td>Gravitino dark matter and neutrino masses with bilinear R-parity violation</td>\n",
       "      <td>Physical Review D</td>\n",
       "      <td>85</td>\n",
       "      <td>2</td>\n",
       "      <td>23523</td>\n",
       "      <td>2012</td>\n",
       "      <td>APS</td>\n",
       "    </tr>\n",
       "    <tr>\n",
       "      <th>2</th>\n",
       "      <td>Choi, Ki-Young; Restrepo, Diego; Yaguna, Carlos E; Zapata, Oscar;</td>\n",
       "      <td>Indirect detection of gravitino dark matter including its three-body decays</td>\n",
       "      <td>Journal of Cosmology and Astroparticle Physics</td>\n",
       "      <td>2010</td>\n",
       "      <td>10</td>\n",
       "      <td>33</td>\n",
       "      <td>2010</td>\n",
       "      <td>IOP Publishing</td>\n",
       "    </tr>\n",
       "    <tr>\n",
       "      <th>3</th>\n",
       "      <td>Sierra, D Aristizabal; Restrepo, Diego; Zapata, Oscar;</td>\n",
       "      <td>Decaying neutralino dark matter in anomalous U (1) H models</td>\n",
       "      <td>Physical Review D</td>\n",
       "      <td>80</td>\n",
       "      <td>5</td>\n",
       "      <td>55010</td>\n",
       "      <td>2009</td>\n",
       "      <td>APS</td>\n",
       "    </tr>\n",
       "    <tr>\n",
       "      <th>4</th>\n",
       "      <td>Klasen, Michael; Yaguna, Carlos E; Ruiz-Álvarez, José D; Restrepo, Diego; Zapata, Oscar;</td>\n",
       "      <td>Scalar dark matter and fermion coannihilations in the radiative seesaw model</td>\n",
       "      <td>Journal of Cosmology and Astroparticle Physics</td>\n",
       "      <td>2013</td>\n",
       "      <td>4</td>\n",
       "      <td>44</td>\n",
       "      <td>2013</td>\n",
       "      <td>IOP Publishing</td>\n",
       "    </tr>\n",
       "    <tr>\n",
       "      <th>5</th>\n",
       "      <td>Florez, Andres; Restrepo, Diego; Velasquez, Mauricio; Zapata, Oscar;</td>\n",
       "      <td>Baryonic violation of R parity from anomalous U (1) H</td>\n",
       "      <td>Physical Review D</td>\n",
       "      <td>87</td>\n",
       "      <td>9</td>\n",
       "      <td>95010</td>\n",
       "      <td>2013</td>\n",
       "      <td>APS</td>\n",
       "    </tr>\n",
       "    <tr>\n",
       "      <th>6</th>\n",
       "      <td>Molinaro, Emiliano; Yaguna, Carlos E; Zapata, Oscar;</td>\n",
       "      <td>FIMP realization of the scotogenic model</td>\n",
       "      <td>Journal of Cosmology and Astroparticle Physics</td>\n",
       "      <td>2014</td>\n",
       "      <td>7</td>\n",
       "      <td>15</td>\n",
       "      <td>2014</td>\n",
       "      <td>IOP Publishing</td>\n",
       "    </tr>\n",
       "    <tr>\n",
       "      <th>7</th>\n",
       "      <td>Restrepo, Diego; Rivera, Andrés; Sánchez-Peláez, Marta; Zapata, Oscar; Tangarife, Walter;</td>\n",
       "      <td>Radiative neutrino masses in the singlet-doublet fermion dark matter model with scalar singlets</td>\n",
       "      <td>Physical Review D</td>\n",
       "      <td>92</td>\n",
       "      <td>1</td>\n",
       "      <td>13005</td>\n",
       "      <td>2015</td>\n",
       "      <td>APS</td>\n",
       "    </tr>\n",
       "    <tr>\n",
       "      <th>8</th>\n",
       "      <td>Arbeláez, Carolina; Longas, Robinson; Restrepo, Diego; Zapata, Oscar;</td>\n",
       "      <td>Fermion dark matter from SO (10) GUTs</td>\n",
       "      <td>Physical Review D</td>\n",
       "      <td>93</td>\n",
       "      <td>1</td>\n",
       "      <td>13012</td>\n",
       "      <td>2016</td>\n",
       "      <td>APS</td>\n",
       "    </tr>\n",
       "    <tr>\n",
       "      <th>9</th>\n",
       "      <td>Ponce, William A; Zapata, Oscar;</td>\n",
       "      <td>Lepton masses and mixing without Yukawa hierarchies</td>\n",
       "      <td>Physical Review D</td>\n",
       "      <td>74</td>\n",
       "      <td>9</td>\n",
       "      <td>93007</td>\n",
       "      <td>2006</td>\n",
       "      <td>APS</td>\n",
       "    </tr>\n",
       "    <tr>\n",
       "      <th>10</th>\n",
       "      <td>Ibarra, Alejandro; Yaguna, Carlos E; Zapata, Oscar;</td>\n",
       "      <td>Direct detection of fermion dark matter in the radiative seesaw model</td>\n",
       "      <td>Physical Review D</td>\n",
       "      <td>93</td>\n",
       "      <td>3</td>\n",
       "      <td>35012</td>\n",
       "      <td>2016</td>\n",
       "      <td>APS</td>\n",
       "    </tr>\n",
       "    <tr>\n",
       "      <th>11</th>\n",
       "      <td>Horiuchi, Shunsaku; Macias, Oscar; Restrepo, Diego; Rivera, Andrés; Zapata, Oscar; Silverwood, Hamish;</td>\n",
       "      <td>The Fermi-LAT gamma-ray excess at the Galactic Center in the singlet-doublet fermion dark matter model</td>\n",
       "      <td>Journal of Cosmology and Astroparticle Physics</td>\n",
       "      <td>2016</td>\n",
       "      <td>3</td>\n",
       "      <td>48</td>\n",
       "      <td>2016</td>\n",
       "      <td>IOP Publishing</td>\n",
       "    </tr>\n",
       "    <tr>\n",
       "      <th>12</th>\n",
       "      <td>Portillo, Dilia; Restrepo, Diego; Zapata, Oscar;</td>\n",
       "      <td>The inert Zee model</td>\n",
       "      <td>Journal of High Energy Physics</td>\n",
       "      <td>2016</td>\n",
       "      <td>3</td>\n",
       "      <td>162</td>\n",
       "      <td>2016</td>\n",
       "      <td></td>\n",
       "    </tr>\n",
       "  </tbody>\n",
       "</table>\n",
       "</div>"
      ],
      "text/plain": [
       "                                                                                                   ﻿Authors  \\\n",
       "0                      Sierra, D Aristizabal; Kubo, Jisuke; Suematsu, Daijiro; Restrepo, D; Zapata, Oscar;    \n",
       "1                                                Restrepo, Diego; Taoso, Marco; Valle, JWF; Zapata, Oscar;    \n",
       "2                                        Choi, Ki-Young; Restrepo, Diego; Yaguna, Carlos E; Zapata, Oscar;    \n",
       "3                                                   Sierra, D Aristizabal; Restrepo, Diego; Zapata, Oscar;    \n",
       "4                 Klasen, Michael; Yaguna, Carlos E; Ruiz-Álvarez, José D; Restrepo, Diego; Zapata, Oscar;    \n",
       "5                                     Florez, Andres; Restrepo, Diego; Velasquez, Mauricio; Zapata, Oscar;    \n",
       "6                                                     Molinaro, Emiliano; Yaguna, Carlos E; Zapata, Oscar;    \n",
       "7                Restrepo, Diego; Rivera, Andrés; Sánchez-Peláez, Marta; Zapata, Oscar; Tangarife, Walter;    \n",
       "8                                    Arbeláez, Carolina; Longas, Robinson; Restrepo, Diego; Zapata, Oscar;    \n",
       "9                                                                         Ponce, William A; Zapata, Oscar;    \n",
       "10                                                     Ibarra, Alejandro; Yaguna, Carlos E; Zapata, Oscar;    \n",
       "11  Horiuchi, Shunsaku; Macias, Oscar; Restrepo, Diego; Rivera, Andrés; Zapata, Oscar; Silverwood, Hamish;    \n",
       "12                                                        Portillo, Dilia; Restrepo, Diego; Zapata, Oscar;    \n",
       "\n",
       "                                                                                                     Title  \\\n",
       "0       Radiative seesaw model: Warm dark matter, collider signatures, and lepton flavor violating signals   \n",
       "1                               Gravitino dark matter and neutrino masses with bilinear R-parity violation   \n",
       "2                              Indirect detection of gravitino dark matter including its three-body decays   \n",
       "3                                              Decaying neutralino dark matter in anomalous U (1) H models   \n",
       "4                             Scalar dark matter and fermion coannihilations in the radiative seesaw model   \n",
       "5                                                    Baryonic violation of R parity from anomalous U (1) H   \n",
       "6                                                                 FIMP realization of the scotogenic model   \n",
       "7          Radiative neutrino masses in the singlet-doublet fermion dark matter model with scalar singlets   \n",
       "8                                                                    Fermion dark matter from SO (10) GUTs   \n",
       "9                                                      Lepton masses and mixing without Yukawa hierarchies   \n",
       "10                                   Direct detection of fermion dark matter in the radiative seesaw model   \n",
       "11  The Fermi-LAT gamma-ray excess at the Galactic Center in the singlet-doublet fermion dark matter model   \n",
       "12                                                                                     The inert Zee model   \n",
       "\n",
       "                                       Publication  Volume  Number  Pages  \\\n",
       "0                                Physical Review D      79       1  13011   \n",
       "1                                Physical Review D      85       2  23523   \n",
       "2   Journal of Cosmology and Astroparticle Physics    2010      10     33   \n",
       "3                                Physical Review D      80       5  55010   \n",
       "4   Journal of Cosmology and Astroparticle Physics    2013       4     44   \n",
       "5                                Physical Review D      87       9  95010   \n",
       "6   Journal of Cosmology and Astroparticle Physics    2014       7     15   \n",
       "7                                Physical Review D      92       1  13005   \n",
       "8                                Physical Review D      93       1  13012   \n",
       "9                                Physical Review D      74       9  93007   \n",
       "10                               Physical Review D      93       3  35012   \n",
       "11  Journal of Cosmology and Astroparticle Physics    2016       3     48   \n",
       "12                  Journal of High Energy Physics    2016       3    162   \n",
       "\n",
       "    Year       Publisher  \n",
       "0   2009             APS  \n",
       "1   2012             APS  \n",
       "2   2010  IOP Publishing  \n",
       "3   2009             APS  \n",
       "4   2013  IOP Publishing  \n",
       "5   2013             APS  \n",
       "6   2014  IOP Publishing  \n",
       "7   2015             APS  \n",
       "8   2016             APS  \n",
       "9   2006             APS  \n",
       "10  2016             APS  \n",
       "11  2016  IOP Publishing  \n",
       "12  2016                  "
      ]
     },
     "execution_count": 7,
     "metadata": {},
     "output_type": "execute_result"
    }
   ],
   "source": [
    "arts.scholar"
   ]
  },
  {
   "cell_type": "code",
   "execution_count": null,
   "metadata": {
    "collapsed": true
   },
   "outputs": [],
   "source": []
  }
 ],
 "metadata": {
  "kernelspec": {
   "display_name": "Python 3",
   "language": "python",
   "name": "python3"
  },
  "language_info": {
   "codemirror_mode": {
    "name": "ipython",
    "version": 3
   },
   "file_extension": ".py",
   "mimetype": "text/x-python",
   "name": "python",
   "nbconvert_exporter": "python",
   "pygments_lexer": "ipython3",
   "version": "3.4.2"
  }
 },
 "nbformat": 4,
 "nbformat_minor": 0
}
