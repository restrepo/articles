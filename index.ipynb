{
 "cells": [
  {
   "cell_type": "markdown",
   "metadata": {},
   "source": [
    "# Automatically add article/journal info to a Google Scholar profile\n",
    "Export your Google Scholar profile as CSV,\n",
    "\n",
    "upload the file(s) from [here](./),\n",
    "\n",
    "This program will add new columns like:\n",
    "<table border=\"1\" class=\"dataframe\">\n",
    "  <thead>\n",
    "    <tr style=\"text-align: right;\">\n",
    "      <th>Institution Authors</th>\n",
    "      <th>Institution Groups</th>\n",
    "      <th>DOI</th>\n",
    "      <th>ISSN</th>\n",
    "      <th>Impact Factor</th>\n",
    "      <th>Quartil</th>\n",
    "      <th>Journal Hindex</th>\n",
    "      <th>...</th>\n",
    "    </tr>\n",
    "  </thead>\n",
    "</table>\n",
    "The enriched CSV file can be saved and used as a [Spreadsheet](https://docs.google.com/spreadsheets/d/19dx09hBthKknZs1XxIKuGgwq3ieyPGx8Xr3hi4xqvBc/edit?usp=sharing).\n",
    "\n",
    "Full Code in this public [repository](https://github.com/restrepo/articles).\n",
    "\n",
    "To run the program use `<Shift>+<Enter>` in each Code Cell (or from the Menu: `Cell -> Run Cells`)"
   ]
  },
  {
   "cell_type": "code",
   "execution_count": 8,
   "metadata": {
    "collapsed": true
   },
   "outputs": [],
   "source": [
    "from publications import *"
   ]
  },
  {
   "cell_type": "markdown",
   "metadata": {},
   "source": [
    "Here we assume that there exist a data base with the authors multiple names associated to the real name in the format:\n",
    "<table border=\"1\" class=\"dataframe\">\n",
    "  <thead>\n",
    "    <tr style=\"text-align: right;\">\n",
    "      <th>Author_Names</th>\n",
    "      <th>Control</th>\n",
    "      <th>Full_Name</th>\n",
    "    </tr>\n",
    "  </thead>\n",
    "  <tbody>\n",
    "    <tr>\n",
    "      <td> Zapata, Oscar;Zapata, O.</td>\n",
    "      <td> 0</td>\n",
    "      <td> Óscar Alberto Zapata Noreña</td>\n",
    "    </tr>\n",
    "  </tbody>\n",
    "</table>\n",
    "Where control is some identification number associated to the author.\n",
    "\n",
    "\n",
    "We assume also that there is a data base with the Group at which some real name author belongs in the format:\n",
    "<table border=\"1\" class=\"dataframe\">\n",
    "  <thead>\n",
    "    <tr style=\"text-align: right;\">\n",
    "      <th>Full_Name</th>\n",
    "      <th>Institution_Group</th>\n",
    "    </tr>\n",
    "  </thead>\n",
    "  <tbody>\n",
    "    <tr>\n",
    "      <td> Óscar Alberto Zapata Noreña</td>\n",
    "      <td> GFIF</td>\n",
    "    </tr>\n",
    "  </tbody>\n",
    "</table>"
   ]
  },
  {
   "cell_type": "code",
   "execution_count": 22,
   "metadata": {
    "collapsed": false
   },
   "outputs": [],
   "source": [
    "a=articles('citations.csv',user='-6mndWkAAAAJ',authors_file='authors.csv',group_file='groups.csv')"
   ]
  },
  {
   "cell_type": "code",
   "execution_count": 23,
   "metadata": {
    "collapsed": false
   },
   "outputs": [
    {
     "name": "stdout",
     "output_type": "stream",
     "text": [
      "Updating entry:0.1.2."
     ]
    }
   ],
   "source": [
    "fulldoi=a.articles_update()"
   ]
  },
  {
   "cell_type": "code",
   "execution_count": 24,
   "metadata": {
    "collapsed": false
   },
   "outputs": [
    {
     "data": {
      "text/html": [
       "<div style=\"max-height:1000px;max-width:1500px;overflow:auto;\">\n",
       "<table border=\"1\" class=\"dataframe\">\n",
       "  <thead>\n",
       "    <tr style=\"text-align: right;\">\n",
       "      <th></th>\n",
       "      <th>Authors</th>\n",
       "      <th>Title</th>\n",
       "      <th>Publication</th>\n",
       "      <th>Volume</th>\n",
       "      <th>Number</th>\n",
       "      <th>Pages</th>\n",
       "      <th>Year</th>\n",
       "      <th>Publisher</th>\n",
       "      <th>Institution_Authors</th>\n",
       "      <th>Institution_Groups</th>\n",
       "      <th>DOI</th>\n",
       "      <th>ISSN</th>\n",
       "      <th>DOI_Journal</th>\n",
       "      <th>Cites</th>\n",
       "      <th>Impact_Factor</th>\n",
       "      <th>Quartil</th>\n",
       "      <th>Journal_Hindex</th>\n",
       "    </tr>\n",
       "  </thead>\n",
       "  <tbody>\n",
       "    <tr>\n",
       "      <th>0</th>\n",
       "      <td> Sierra, D Aristizabal; Kubo, Jisuke; Suematsu, Daijiro; Restrepo, D; Zapata, Oscar; </td>\n",
       "      <td> Radiative seesaw model: Warm dark matter, collider signatures, and lepton flavor violating signals</td>\n",
       "      <td>                              Physical Review D</td>\n",
       "      <td>   79</td>\n",
       "      <td>  1</td>\n",
       "      <td> 13011</td>\n",
       "      <td> 2009</td>\n",
       "      <td>            APS</td>\n",
       "      <td> Óscar Alberto Zapata Noreña</td>\n",
       "      <td> GFIF</td>\n",
       "      <td>    http://dx.doi.org/10.1103/physrevd.79.013011</td>\n",
       "      <td> 1550-7998;1550-2368</td>\n",
       "      <td>                              Physical Review D</td>\n",
       "      <td> 83</td>\n",
       "      <td> 4.643</td>\n",
       "      <td> Q1</td>\n",
       "      <td> 259</td>\n",
       "    </tr>\n",
       "    <tr>\n",
       "      <th>1</th>\n",
       "      <td>                           Restrepo, Diego; Taoso, Marco; Valle, JWF; Zapata, Oscar; </td>\n",
       "      <td>                         Gravitino dark matter and neutrino masses with bilinear R-parity violation</td>\n",
       "      <td>                              Physical Review D</td>\n",
       "      <td>   85</td>\n",
       "      <td>  2</td>\n",
       "      <td> 23523</td>\n",
       "      <td> 2012</td>\n",
       "      <td>            APS</td>\n",
       "      <td> Óscar Alberto Zapata Noreña</td>\n",
       "      <td> GFIF</td>\n",
       "      <td>    http://dx.doi.org/10.1103/physrevd.85.023523</td>\n",
       "      <td> 1550-7998;1550-2368</td>\n",
       "      <td>                              Physical Review D</td>\n",
       "      <td> 40</td>\n",
       "      <td> 4.643</td>\n",
       "      <td> Q1</td>\n",
       "      <td> 259</td>\n",
       "    </tr>\n",
       "    <tr>\n",
       "      <th>2</th>\n",
       "      <td>                   Choi, Ki-Young; Restrepo, Diego; Yaguna, Carlos E; Zapata, Oscar; </td>\n",
       "      <td>                        Indirect detection of gravitino dark matter including its three-body decays</td>\n",
       "      <td> Journal of Cosmology and Astroparticle Physics</td>\n",
       "      <td> 2010</td>\n",
       "      <td> 10</td>\n",
       "      <td>    33</td>\n",
       "      <td> 2010</td>\n",
       "      <td> IOP Publishing</td>\n",
       "      <td> Óscar Alberto Zapata Noreña</td>\n",
       "      <td> GFIF</td>\n",
       "      <td> http://dx.doi.org/10.1088/1475-7516/2010/10/033</td>\n",
       "      <td>           1475-7516</td>\n",
       "      <td> Journal of Cosmology and Astroparticle Physics</td>\n",
       "      <td> 33</td>\n",
       "      <td>  5.81</td>\n",
       "      <td> Q3</td>\n",
       "      <td>  70</td>\n",
       "    </tr>\n",
       "  </tbody>\n",
       "</table>\n",
       "</div>"
      ],
      "text/plain": [
       "                                                                                Authors  \\\n",
       "0  Sierra, D Aristizabal; Kubo, Jisuke; Suematsu, Daijiro; Restrepo, D; Zapata, Oscar;    \n",
       "1                            Restrepo, Diego; Taoso, Marco; Valle, JWF; Zapata, Oscar;    \n",
       "2                    Choi, Ki-Young; Restrepo, Diego; Yaguna, Carlos E; Zapata, Oscar;    \n",
       "\n",
       "                                                                                                Title  \\\n",
       "0  Radiative seesaw model: Warm dark matter, collider signatures, and lepton flavor violating signals   \n",
       "1                          Gravitino dark matter and neutrino masses with bilinear R-parity violation   \n",
       "2                         Indirect detection of gravitino dark matter including its three-body decays   \n",
       "\n",
       "                                      Publication  Volume  Number  Pages  \\\n",
       "0                               Physical Review D      79       1  13011   \n",
       "1                               Physical Review D      85       2  23523   \n",
       "2  Journal of Cosmology and Astroparticle Physics    2010      10     33   \n",
       "\n",
       "   Year       Publisher          Institution_Authors Institution_Groups  \\\n",
       "0  2009             APS  Óscar Alberto Zapata Noreña               GFIF   \n",
       "1  2012             APS  Óscar Alberto Zapata Noreña               GFIF   \n",
       "2  2010  IOP Publishing  Óscar Alberto Zapata Noreña               GFIF   \n",
       "\n",
       "                                               DOI                 ISSN  \\\n",
       "0     http://dx.doi.org/10.1103/physrevd.79.013011  1550-7998;1550-2368   \n",
       "1     http://dx.doi.org/10.1103/physrevd.85.023523  1550-7998;1550-2368   \n",
       "2  http://dx.doi.org/10.1088/1475-7516/2010/10/033            1475-7516   \n",
       "\n",
       "                                      DOI_Journal Cites Impact_Factor Quartil  \\\n",
       "0                               Physical Review D    83         4.643      Q1   \n",
       "1                               Physical Review D    40         4.643      Q1   \n",
       "2  Journal of Cosmology and Astroparticle Physics    33          5.81      Q3   \n",
       "\n",
       "  Journal_Hindex  \n",
       "0            259  \n",
       "1            259  \n",
       "2             70  "
      ]
     },
     "execution_count": 24,
     "metadata": {},
     "output_type": "execute_result"
    }
   ],
   "source": [
    "a.articles"
   ]
  },
  {
   "cell_type": "code",
   "execution_count": 25,
   "metadata": {
    "collapsed": false
   },
   "outputs": [
    {
     "data": {
      "text/plain": [
       "DOI                                                                                                                                                                                           10.1088/1475-7516/2010/10/033\n",
       "ISSN                                                                                                                                                                                                            [1475-7516]\n",
       "URL                                                                                                                                                                         http://dx.doi.org/10.1088/1475-7516/2010/10/033\n",
       "article-number                                                                                                                                                                                                             \n",
       "author              [{'affiliation': [], 'family': 'Choi', 'given': 'Ki-Young'}, {'affiliation': [], 'family': 'Restrepo', 'given': 'Diego'}, {'affiliation': [], 'family': 'Yaguna', 'given': 'Carlos E'}, {'affiliatio...\n",
       "container-title                                                                                                                               [J. Cosmol. Astropart. Phys., Journal of Cosmology and Astroparticle Physics]\n",
       "created                                                                                                                   {'date-time': '2010-10-27T03:19:11Z', 'timestamp': 1288149551000, 'date-parts': [[2010, 10, 27]]}\n",
       "deposited                                                                                                                   {'date-time': '2011-08-04T19:43:13Z', 'timestamp': 1312486993000, 'date-parts': [[2011, 8, 4]]}\n",
       "indexed                                                                                                                   {'date-time': '2015-12-26T14:43:31Z', 'timestamp': 1451141011020, 'date-parts': [[2015, 12, 26]]}\n",
       "issue                                                                                                                                                                                                                    10\n",
       "issued                                                                                                                                                                                     {'date-parts': [[2010, 10, 26]]}\n",
       "license                                                                                                                                                                                                                    \n",
       "link                                                                                                                                                                                                                       \n",
       "member                                                                                                                                                                                    http://id.crossref.org/member/266\n",
       "prefix                                                                                                                                                                                http://id.crossref.org/prefix/10.1088\n",
       "published-online                                                                                                                                                                           {'date-parts': [[2010, 10, 26]]}\n",
       "publisher                                                                                                                                                                                                    IOP Publishing\n",
       "reference-count                                                                                                                                                                                                          38\n",
       "score                                                                                                                                                                                                                     1\n",
       "source                                                                                                                                                                                                             CrossRef\n",
       "subject                                                                                                                                                                                        [Astronomy and Astrophysics]\n",
       "subtitle                                                                                                                                                                                                                 []\n",
       "title                                                                                                                                         [Indirect detection of gravitino dark matter including its three-body decays]\n",
       "type                                                                                                                                                                                                        journal-article\n",
       "volume                                                                                                                                                                                                                 2010\n",
       "page                                                                                                                                                                                                                033-033\n",
       "Name: 2, dtype: object"
      ]
     },
     "execution_count": 25,
     "metadata": {},
     "output_type": "execute_result"
    }
   ],
   "source": [
    "fulldoi.ix[2]"
   ]
  },
  {
   "cell_type": "markdown",
   "metadata": {},
   "source": [
    "## Update authors/Grupos data bases"
   ]
  },
  {
   "cell_type": "code",
   "execution_count": 26,
   "metadata": {
    "collapsed": false
   },
   "outputs": [
    {
     "name": "stdout",
     "output_type": "stream",
     "text": [
      "Full name: Diego Alejandro Restrepo Quintero\n",
      "Author names\n",
      "(Example: Perez, Juan;Perez;Pérez, J.):\n",
      "Restrepo, D;Restrepo, Diego\n",
      "Additional identitication number: 0\n"
     ]
    }
   ],
   "source": [
    "a.add_institution_author()"
   ]
  },
  {
   "cell_type": "code",
   "execution_count": 27,
   "metadata": {
    "collapsed": false
   },
   "outputs": [
    {
     "name": "stdout",
     "output_type": "stream",
     "text": [
      "Find author by first name and first surname\n",
      "(Example: Juan Pérez);\n",
      "Diego Restrepo\n",
      "Group name for\n",
      "Diego Alejandro Restrepo Quintero\n",
      "(Example: IA: Inteligencia Artificial)GFIF\n"
     ]
    }
   ],
   "source": [
    "a.add_institution_group()"
   ]
  },
  {
   "cell_type": "markdown",
   "metadata": {},
   "source": [
    "Save updated data bases:"
   ]
  },
  {
   "cell_type": "code",
   "execution_count": 33,
   "metadata": {
    "collapsed": false
   },
   "outputs": [],
   "source": [
    "a.institution_authors.to_csv('authors.csv',index=False)\n",
    "a.institution_group.to_csv('groups.csv',index=False)"
   ]
  },
  {
   "cell_type": "markdown",
   "metadata": {},
   "source": [
    "## Save uptated data base"
   ]
  },
  {
   "cell_type": "code",
   "execution_count": 34,
   "metadata": {
    "collapsed": false
   },
   "outputs": [],
   "source": [
    "a.to_csv('newcitations.csv')"
   ]
  },
  {
   "cell_type": "markdown",
   "metadata": {},
   "source": [
    "Restore saved data base"
   ]
  },
  {
   "cell_type": "code",
   "execution_count": 35,
   "metadata": {
    "collapsed": true
   },
   "outputs": [],
   "source": [
    "arts=articles('newcitations.csv',user='-6mndWkAAAAJ',authors_file='authors.csv',group_file='groups.csv')"
   ]
  },
  {
   "cell_type": "code",
   "execution_count": 36,
   "metadata": {
    "collapsed": false
   },
   "outputs": [
    {
     "data": {
      "text/html": [
       "<div style=\"max-height:1000px;max-width:1500px;overflow:auto;\">\n",
       "<table border=\"1\" class=\"dataframe\">\n",
       "  <thead>\n",
       "    <tr style=\"text-align: right;\">\n",
       "      <th></th>\n",
       "      <th>Author_Names</th>\n",
       "      <th>Control</th>\n",
       "      <th>Full_Name</th>\n",
       "    </tr>\n",
       "  </thead>\n",
       "  <tbody>\n",
       "    <tr>\n",
       "      <th>0</th>\n",
       "      <td>    Zapata, Oscar;Zapata, O.</td>\n",
       "      <td> 0</td>\n",
       "      <td>       Óscar Alberto Zapata Noreña</td>\n",
       "    </tr>\n",
       "    <tr>\n",
       "      <th>1</th>\n",
       "      <td> Restrepo, D;Restrepo, Diego</td>\n",
       "      <td> 0</td>\n",
       "      <td> Diego Alejandro Restrepo Quintero</td>\n",
       "    </tr>\n",
       "  </tbody>\n",
       "</table>\n",
       "</div>"
      ],
      "text/plain": [
       "                  Author_Names  Control                          Full_Name\n",
       "0     Zapata, Oscar;Zapata, O.        0        Óscar Alberto Zapata Noreña\n",
       "1  Restrepo, D;Restrepo, Diego        0  Diego Alejandro Restrepo Quintero"
      ]
     },
     "execution_count": 36,
     "metadata": {},
     "output_type": "execute_result"
    }
   ],
   "source": [
    "arts.institution_authors"
   ]
  },
  {
   "cell_type": "code",
   "execution_count": 37,
   "metadata": {
    "collapsed": false
   },
   "outputs": [
    {
     "data": {
      "text/html": [
       "<div style=\"max-height:1000px;max-width:1500px;overflow:auto;\">\n",
       "<table border=\"1\" class=\"dataframe\">\n",
       "  <thead>\n",
       "    <tr style=\"text-align: right;\">\n",
       "      <th></th>\n",
       "      <th>Full_Name</th>\n",
       "      <th>Institution_Group</th>\n",
       "    </tr>\n",
       "  </thead>\n",
       "  <tbody>\n",
       "    <tr>\n",
       "      <th>0</th>\n",
       "      <td>       Óscar Alberto Zapata Noreña</td>\n",
       "      <td> GFIF</td>\n",
       "    </tr>\n",
       "    <tr>\n",
       "      <th>1</th>\n",
       "      <td> Diego Alejandro Restrepo Quintero</td>\n",
       "      <td> GFIF</td>\n",
       "    </tr>\n",
       "  </tbody>\n",
       "</table>\n",
       "</div>"
      ],
      "text/plain": [
       "                           Full_Name Institution_Group\n",
       "0        Óscar Alberto Zapata Noreña              GFIF\n",
       "1  Diego Alejandro Restrepo Quintero              GFIF"
      ]
     },
     "execution_count": 37,
     "metadata": {},
     "output_type": "execute_result"
    }
   ],
   "source": [
    "arts.institution_group"
   ]
  },
  {
   "cell_type": "code",
   "execution_count": 38,
   "metadata": {
    "collapsed": false
   },
   "outputs": [
    {
     "name": "stdout",
     "output_type": "stream",
     "text": [
      "Updating entry:0.1.2."
     ]
    },
    {
     "data": {
      "text/html": [
       "<div style=\"max-height:1000px;max-width:1500px;overflow:auto;\">\n",
       "<table border=\"1\" class=\"dataframe\">\n",
       "  <thead>\n",
       "    <tr style=\"text-align: right;\">\n",
       "      <th></th>\n",
       "    </tr>\n",
       "  </thead>\n",
       "  <tbody>\n",
       "  </tbody>\n",
       "</table>\n",
       "</div>"
      ],
      "text/plain": [
       "Empty DataFrame\n",
       "Columns: []\n",
       "Index: []"
      ]
     },
     "execution_count": 38,
     "metadata": {},
     "output_type": "execute_result"
    }
   ],
   "source": [
    "arts.articles_update()"
   ]
  },
  {
   "cell_type": "code",
   "execution_count": 39,
   "metadata": {
    "collapsed": false
   },
   "outputs": [
    {
     "data": {
      "text/html": [
       "<div style=\"max-height:1000px;max-width:1500px;overflow:auto;\">\n",
       "<table border=\"1\" class=\"dataframe\">\n",
       "  <thead>\n",
       "    <tr style=\"text-align: right;\">\n",
       "      <th></th>\n",
       "      <th>Authors</th>\n",
       "      <th>Title</th>\n",
       "      <th>Publication</th>\n",
       "      <th>Volume</th>\n",
       "      <th>Number</th>\n",
       "      <th>Pages</th>\n",
       "      <th>Year</th>\n",
       "      <th>Publisher</th>\n",
       "      <th>Institution_Authors</th>\n",
       "      <th>Institution_Groups</th>\n",
       "      <th>DOI</th>\n",
       "      <th>ISSN</th>\n",
       "      <th>DOI_Journal</th>\n",
       "      <th>Cites</th>\n",
       "      <th>Impact_Factor</th>\n",
       "      <th>Quartil</th>\n",
       "      <th>Journal_Hindex</th>\n",
       "    </tr>\n",
       "  </thead>\n",
       "  <tbody>\n",
       "    <tr>\n",
       "      <th>0</th>\n",
       "      <td> Sierra, D Aristizabal; Kubo, Jisuke; Suematsu, Daijiro; Restrepo, D; Zapata, Oscar; </td>\n",
       "      <td> Radiative seesaw model: Warm dark matter, collider signatures, and lepton flavor violating signals</td>\n",
       "      <td>                              Physical Review D</td>\n",
       "      <td>   79</td>\n",
       "      <td>  1</td>\n",
       "      <td> 13011</td>\n",
       "      <td> 2009</td>\n",
       "      <td>            APS</td>\n",
       "      <td> Óscar Alberto Zapata Noreña</td>\n",
       "      <td> GFIF</td>\n",
       "      <td>    http://dx.doi.org/10.1103/physrevd.79.013011</td>\n",
       "      <td> 1550-7998;1550-2368</td>\n",
       "      <td>                              Physical Review D</td>\n",
       "      <td> 83</td>\n",
       "      <td> 4.643</td>\n",
       "      <td> Q1</td>\n",
       "      <td> 259</td>\n",
       "    </tr>\n",
       "    <tr>\n",
       "      <th>1</th>\n",
       "      <td>                           Restrepo, Diego; Taoso, Marco; Valle, JWF; Zapata, Oscar; </td>\n",
       "      <td>                         Gravitino dark matter and neutrino masses with bilinear R-parity violation</td>\n",
       "      <td>                              Physical Review D</td>\n",
       "      <td>   85</td>\n",
       "      <td>  2</td>\n",
       "      <td> 23523</td>\n",
       "      <td> 2012</td>\n",
       "      <td>            APS</td>\n",
       "      <td> Óscar Alberto Zapata Noreña</td>\n",
       "      <td> GFIF</td>\n",
       "      <td>    http://dx.doi.org/10.1103/physrevd.85.023523</td>\n",
       "      <td> 1550-7998;1550-2368</td>\n",
       "      <td>                              Physical Review D</td>\n",
       "      <td> 40</td>\n",
       "      <td> 4.643</td>\n",
       "      <td> Q1</td>\n",
       "      <td> 259</td>\n",
       "    </tr>\n",
       "    <tr>\n",
       "      <th>2</th>\n",
       "      <td>                   Choi, Ki-Young; Restrepo, Diego; Yaguna, Carlos E; Zapata, Oscar; </td>\n",
       "      <td>                        Indirect detection of gravitino dark matter including its three-body decays</td>\n",
       "      <td> Journal of Cosmology and Astroparticle Physics</td>\n",
       "      <td> 2010</td>\n",
       "      <td> 10</td>\n",
       "      <td>    33</td>\n",
       "      <td> 2010</td>\n",
       "      <td> IOP Publishing</td>\n",
       "      <td> Óscar Alberto Zapata Noreña</td>\n",
       "      <td> GFIF</td>\n",
       "      <td> http://dx.doi.org/10.1088/1475-7516/2010/10/033</td>\n",
       "      <td>           1475-7516</td>\n",
       "      <td> Journal of Cosmology and Astroparticle Physics</td>\n",
       "      <td> 33</td>\n",
       "      <td> 5.810</td>\n",
       "      <td> Q3</td>\n",
       "      <td>  70</td>\n",
       "    </tr>\n",
       "  </tbody>\n",
       "</table>\n",
       "</div>"
      ],
      "text/plain": [
       "                                                                                Authors  \\\n",
       "0  Sierra, D Aristizabal; Kubo, Jisuke; Suematsu, Daijiro; Restrepo, D; Zapata, Oscar;    \n",
       "1                            Restrepo, Diego; Taoso, Marco; Valle, JWF; Zapata, Oscar;    \n",
       "2                    Choi, Ki-Young; Restrepo, Diego; Yaguna, Carlos E; Zapata, Oscar;    \n",
       "\n",
       "                                                                                                Title  \\\n",
       "0  Radiative seesaw model: Warm dark matter, collider signatures, and lepton flavor violating signals   \n",
       "1                          Gravitino dark matter and neutrino masses with bilinear R-parity violation   \n",
       "2                         Indirect detection of gravitino dark matter including its three-body decays   \n",
       "\n",
       "                                      Publication  Volume  Number  Pages  \\\n",
       "0                               Physical Review D      79       1  13011   \n",
       "1                               Physical Review D      85       2  23523   \n",
       "2  Journal of Cosmology and Astroparticle Physics    2010      10     33   \n",
       "\n",
       "   Year       Publisher          Institution_Authors Institution_Groups  \\\n",
       "0  2009             APS  Óscar Alberto Zapata Noreña               GFIF   \n",
       "1  2012             APS  Óscar Alberto Zapata Noreña               GFIF   \n",
       "2  2010  IOP Publishing  Óscar Alberto Zapata Noreña               GFIF   \n",
       "\n",
       "                                               DOI                 ISSN  \\\n",
       "0     http://dx.doi.org/10.1103/physrevd.79.013011  1550-7998;1550-2368   \n",
       "1     http://dx.doi.org/10.1103/physrevd.85.023523  1550-7998;1550-2368   \n",
       "2  http://dx.doi.org/10.1088/1475-7516/2010/10/033            1475-7516   \n",
       "\n",
       "                                      DOI_Journal  Cites  Impact_Factor  \\\n",
       "0                               Physical Review D     83          4.643   \n",
       "1                               Physical Review D     40          4.643   \n",
       "2  Journal of Cosmology and Astroparticle Physics     33          5.810   \n",
       "\n",
       "  Quartil  Journal_Hindex  \n",
       "0      Q1             259  \n",
       "1      Q1             259  \n",
       "2      Q3              70  "
      ]
     },
     "execution_count": 39,
     "metadata": {},
     "output_type": "execute_result"
    }
   ],
   "source": [
    "arts.articles"
   ]
  },
  {
   "cell_type": "code",
   "execution_count": 11,
   "metadata": {
    "collapsed": false
   },
   "outputs": [
    {
     "data": {
      "text/plain": [
       "True"
      ]
     },
     "execution_count": 11,
     "metadata": {},
     "output_type": "execute_result"
    }
   ],
   "source": [
    "import os\n",
    "os.path.isfile('authors.csv')"
   ]
  },
  {
   "cell_type": "code",
   "execution_count": 12,
   "metadata": {
    "collapsed": true
   },
   "outputs": [],
   "source": [
    "self=a"
   ]
  },
  {
   "cell_type": "code",
   "execution_count": 15,
   "metadata": {
    "collapsed": false
   },
   "outputs": [
    {
     "name": "stdout",
     "output_type": "stream",
     "text": [
      "1\n"
     ]
    }
   ],
   "source": [
    "kk=pd.DataFrame()\n",
    "if kk.shape[0]==0:\n",
    "    print(1)"
   ]
  },
  {
   "cell_type": "markdown",
   "metadata": {
    "collapsed": true
   },
   "source": [
    "[Develompent notebook](./dev.ipynb)"
   ]
  }
 ],
 "metadata": {
  "kernelspec": {
   "display_name": "Python 3",
   "language": "python",
   "name": "python3"
  },
  "language_info": {
   "codemirror_mode": {
    "name": "ipython",
    "version": 3
   },
   "file_extension": ".py",
   "mimetype": "text/x-python",
   "name": "python",
   "nbconvert_exporter": "python",
   "pygments_lexer": "ipython3",
   "version": "3.4.2"
  }
 },
 "nbformat": 4,
 "nbformat_minor": 0
}
