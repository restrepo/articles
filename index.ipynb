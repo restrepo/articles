{
 "cells": [
  {
   "cell_type": "code",
   "execution_count": 1,
   "metadata": {
    "collapsed": true
   },
   "outputs": [],
   "source": [
    "%load_ext autoreload"
   ]
  },
  {
   "cell_type": "code",
   "execution_count": 2,
   "metadata": {
    "collapsed": true
   },
   "outputs": [],
   "source": [
    "%autoreload"
   ]
  },
  {
   "cell_type": "code",
   "execution_count": 17,
   "metadata": {
    "collapsed": false
   },
   "outputs": [],
   "source": [
    "import numpy as np\n",
    "import pandas as pd\n",
    "import warnings\n",
    "import time\n",
    "import sys\n",
    "from IPython.display import display, HTML\n",
    "import tabulate #sudo pip3 install tabulate\n",
    "pd.set_option('display.max_rows', 500)\n",
    "pd.set_option('display.max_columns', 500)\n",
    "pd.set_option('display.max_colwidth',200)\n",
    "def update_column(ds,column,update=False):\n",
    "    update_column=True\n",
    "    if column in ds:\n",
    "        if ds[column] and not update: #it update=True willreplace value\n",
    "            update_column=False\n",
    "    return update_column\n",
    "\n",
    "def _get_doi(surname='Florez',\\\n",
    "        title=r'Baryonic violation of R-parity from anomalous $U(1)_H$',other=''):\n",
    "        '''\n",
    "        Search doi from http://search.crossref.org/ \n",
    "        '''\n",
    "        import re\n",
    "        import requests\n",
    "        doi={}\n",
    "        search=''\n",
    "        if surname:\n",
    "            search=surname\n",
    "        if title:\n",
    "            if len(search)>0:\n",
    "                search=search+', '+title\n",
    "        if other:\n",
    "            if len(search)>0:\n",
    "                search=search+', '+other\n",
    "                \n",
    "        r=requests.get('http://search.crossref.org/?q=%s' %search)\n",
    "        urldoi='http://dx.doi.org/'\n",
    "        doitmp=''\n",
    "        if len(r.text.split(urldoi))>1:\n",
    "            doitmp=r.text.split(urldoi)[1].split(\"\\'>\")[0].replace('&lt;','<').replace('&gt;','>')\n",
    "        #check doi is right by searching for all words in doi -> output title\n",
    "        if doitmp:\n",
    "            json='https://api.crossref.org/v1/works/'\n",
    "            rr=requests.get( json+urldoi+doitmp )\n",
    "            if rr.status_code==200:\n",
    "                if 'message' in rr.json():\n",
    "                    chktitle = re.sub(r\"\\$.*?\\$\",\"\",title) # better remove all math expressions\n",
    "                    chktitle = re.sub(r\"[^a-zA-Z0-9 ]\", \" \", chktitle).split(' ')\n",
    "                    if chktitle:\n",
    "                        if not -1 in [(rr.json()[\"message\"]['title'][0]).find(w)  for w in chktitle]:\n",
    "                            doi=rr.json()[\"message\"]\n",
    "                        \n",
    "        return doi\n",
    "    \n",
    "def _get_IF(issn):\n",
    "    print(issn)\n",
    "    \n",
    "class publications(object):\n",
    "    '''Add Generic publication data'''\n",
    "    pass\n",
    "class articles(publications):\n",
    "    '''Read csv file exported by Google Scholar Citations profile and\n",
    "       automatically add informations about:\n",
    "       DOI: from title and author\n",
    "       Journal title: from DOI\n",
    "       ISSN of Jornal\n",
    "       Impact factor of journal\n",
    "       Institution_Authors: requires Data Base\n",
    "       '''\n",
    "    journal=pd.Series()\n",
    "    columns=pd.Series({'Full_Name':'Full_Name','Author_Names':'Author_Names','Control':'Control',\\\n",
    "                      'Institution_Authors':'Institution_Authors','Institution_Group':'Institution_Group'})\n",
    "\n",
    "    def __init__(self,csv_file='citations.csv',citations_file=None,authors_file=None,group_file=None):\n",
    "        #DEBUG: check file\n",
    "        self.articles=pd.read_csv(csv_file).fillna('')\n",
    "        #Fix problem with column Authors\n",
    "        if self.articles.shape[0]>0 and self.articles.columns[0].find('Authors')>-1:\n",
    "            self.articles=self.articles.rename(columns={self.articles.columns[0]:'Authors'})\n",
    "        if citations_file:\n",
    "            #DEBUG: check file\n",
    "            self.citations=pd.read_csv(citations_file).fillna('')\n",
    "            \n",
    "        if authors_file:\n",
    "            #DEBUG: chek is file exists,\n",
    "            self.institution_authors=pd.read_json(authors_file).fillna('')\n",
    "            \n",
    "        if group_file:\n",
    "            #DEBUG: chek is file exists,\n",
    "            self.institution_group=pd.read_json(group_file).fillna('')\n",
    "            \n",
    "    def add_institution_author(self):\n",
    "        #DEBUG: Check and load file\n",
    "        full_name=input('Full name: ')\n",
    "        #DEBUG: Ask for more author names and update author names separated by semicolons\n",
    "        author_names=input('Author names\\n(Example: Juan Perez; J. Perez; J. Pérez):\\n')\n",
    "        #DEBUG: default to 0\n",
    "        control=input('Additional identitication number: ') \n",
    "        \n",
    "        #DEBUG: if not file creates it\n",
    "        iffile=False\n",
    "        if not iffile:\n",
    "            self.institution_authors=pd.DataFrame()\n",
    "            \n",
    "        self.institution_authors=self.institution_authors.append({self.columns.Full_Name:full_name,\\\n",
    "                                                              self.columns.Author_Names:author_names,\\\n",
    "                                                              self.columns.Control:control},ignore_index=True)\n",
    "        self.institution_authors.to_json('authors.json')\n",
    "        \n",
    "    def add_institution_group(self):\n",
    "        wrn='Author not found'\n",
    "        search_query=input('Find author by first name and first surname\\n(Example: Juan Pérez);\\n')\n",
    "        sql=search_query.split(' ')\n",
    "        #DEBUG: low_case\n",
    "        if len(sql)>0:\n",
    "            sql_name=sql[0]\n",
    "            if len(sql)>1:\n",
    "                sql_surname=sql[1]\n",
    "            else:\n",
    "                sql_surname=''\n",
    "            \n",
    "            author_match=self.institution_authors[\\\n",
    "                             np.logical_and( self.institution_authors.Full_Name.str.contains(sql_name),\\\n",
    "                                             self.institution_authors.Full_Name.str.contains(sql_surname) )]\n",
    "            if not author_match.shape[0]:\n",
    "                author_match=self.institution_authors[\\\n",
    "                             np.logical_or( self.institution_authors.Full_Name.str.contains(sql_name),\\\n",
    "                                            self.institution_authors.Full_Name.str.contains(sql_surname) )]\n",
    "            if not author_match.shape[0]:\n",
    "                warnings.warn(wrn)\n",
    "            else:    \n",
    "                author_match=author_match.reset_index(drop=True)\n",
    "                author_match['Number']=author_match.index\n",
    "                if author_match.shape[0]==1:\n",
    "                    author_Series=author_match.ix[0]\n",
    "                    #print( tabulate.tabulate(author_match,headers='keys', tablefmt='psql'))\n",
    "                else:\n",
    "                    print( tabulate.tabulate(author_match,headers='keys', tablefmt='psql'))\n",
    "                    ai=input('Give Number of line:')\n",
    "                    author_Series=author_match.ix[ai]\n",
    "                Group=input('Group name for\\n%s\\n(Example: IA: Inteligencia Artificial)' %author_Series.Full_Name)\n",
    "                #DEBUG: if not file creates it\n",
    "                iffile=False\n",
    "                if not iffile:\n",
    "                    self.institution_group=pd.DataFrame()  \n",
    "                    self.institution_group=self.institution_group.append({self.columns.Full_Name:author_Series.Full_Name,\\\n",
    "                                                                  self.columns.Institution_Group:Group},ignore_index=True)\n",
    "                    self.institution_group.to_json('groups.json')\n",
    "        else:\n",
    "            warnings.warn(wrn)\n",
    "\n",
    "        \n",
    "        \n",
    "    def get_doi(self,surname='Florez',\\\n",
    "        title=r'Baryonic violation of R-parity from anomalous $U(1)_H$',other=''):\n",
    "        return _get_doi(surname='Florez',\\\n",
    "        title=r'Baryonic violation of R-parity from anomalous $U(1)_H$',other='')\n",
    "    \n",
    "    def articles_update(self,cites=True,institution_authors=False,institution_groups=False,DOI=False):\n",
    "        self.fulldoi=pd.DataFrame()\n",
    "        newcolumns=['Institution_Authors','Institution_Groups','DOI','ISSN','DOI_Journal']\n",
    "        for newcolumn in newcolumns:\n",
    "            if not newcolumn in self.articles.columns:\n",
    "                self.articles[newcolumn]=''\n",
    "\n",
    "        self.articles=self.articles.reset_index(drop=True).fillna('')\n",
    "        print('Updating entry:',end=\"\")\n",
    "        for i in range(self.articles.shape[0]):\n",
    "            time.sleep(0.3) #avoid robot detection\n",
    "            print('%d.' %i,end=\"\")\n",
    "            #Update Full names: TODO: Unify algorithm\n",
    "            if not self.articles.ix[i].Institution_Authors:\n",
    "                institution_authors=True\n",
    "                \n",
    "            if self.articles.ix[i].Authors and institution_authors:\n",
    "                inst_auth=''\n",
    "                inst_auth_sep=';'\n",
    "                for a in filter(None, self.articles.ix[0].Authors.replace('; ',';').split(';') ):\n",
    "                    af=self.institution_authors[self.institution_authors.Author_Names.str.contains(a)].reset_index(drop=True)\n",
    "                    if af.shape[0]==1:\n",
    "                        if inst_auth:\n",
    "                            inst_auth=inst_auth+inst_auth_sep\n",
    "                        if af.Full_Name.values.shape[0]==1:\n",
    "                            inst_auth=inst_auth+af.Full_Name.values[0]\n",
    "                    elif af.shape[0]>1:\n",
    "                        print('Improve real name matching')\n",
    "                    if update_column(self.articles.ix[i],'Institution_Authors'):\n",
    "                        self.articles.loc[i,'Institution_Authors']=inst_auth\n",
    "            #Update Groups:\n",
    "            if not self.articles.ix[i].Institution_Groups:\n",
    "                institution_groups=True\n",
    "            if self.articles.ix[i].Institution_Authors and institution_groups:\n",
    "                inst_grp=''\n",
    "                inst_grp_sep=';'\n",
    "                chka=self.articles.ix[i].Institution_Authors.split(';')\n",
    "                if len(chka)>0:\n",
    "                    for fa in chka:\n",
    "                        qry=self.institution_group[self.institution_group.Full_Name.str.contains(fa)].reset_index(drop=True)\n",
    "                        if qry.shape[0]==1:\n",
    "                            g=qry.Institution_Group.values[0]\n",
    "                        else:\n",
    "                            print('DEBUG improve search group for %s' %fa)\n",
    "                        if inst_grp:\n",
    "                            inst_grp=inst_grp+inst_grp_sep\n",
    "                        \n",
    "                        inst_grp=inst_grp+g\n",
    "                    \n",
    "                if update_column(self.articles.ix[i],'Institution_Groups'):\n",
    "                        self.articles.loc[i,'Institution_Groups']=inst_grp\n",
    "                    \n",
    "                \n",
    "            #Update DOI:\n",
    "            if not self.articles.ix[i].DOI:\n",
    "                rr=_get_doi(surname=self.articles.ix[i].Authors.split(';')[0].split(',')[0],\\\n",
    "                            title=self.articles.ix[i].Title)\n",
    "                if len(rr)>0:\n",
    "                    rr=pd.Series(rr)\n",
    "                    if update_column(self.articles.ix[i],'DOI') and 'URL' in rr:\n",
    "                        self.articles.loc[i,'DOI']=rr['URL']\n",
    "                    if update_column(self.articles.ix[i],'ISSN') and 'ISSN' in rr:\n",
    "                        issn=''\n",
    "                        if type(rr.ISSN)==list:\n",
    "                            issn=';'.join(rr.ISSN)\n",
    "                        else:\n",
    "                            print('DEBUG: Improve DOI -> ISSN not a list')\n",
    "                        self.articles.loc[i,'ISSN']=issn\n",
    "                    if update_column(self.articles.ix[i],'DOI_Journal') and 'container-title' in rr:                        \n",
    "                        journal=[ j for j in rr['container-title'] if j.find('.')<0] \n",
    "                        if len(journal)==1:\n",
    "                            self.articles.loc[i,'DOI_Journal']=journal[0]\n",
    "                        else:\n",
    "                            print('DEBUG: Improve DOI_journal have dots')\n",
    "                        \n",
    "                        \n",
    "                self.fulldoi=self.fulldoi.append(rr,ignore_index=True)\n",
    "            \n",
    "        return self.fulldoi.fillna('')\n",
    "\n",
    "    def to_csv(self,csvfile):\n",
    "        self.articles.to_csv(csvfile,index=False)\n",
    "        if self.fulldoi.shape[0]>0:\n",
    "            self.fulldoi.to_json('fulldoi.json')\n",
    "        \n",
    "                        \n",
    "            "
   ]
  },
  {
   "cell_type": "markdown",
   "metadata": {},
   "source": [
    "Here we assume that there exist a data base with the authors multiple names associated to the real name in the format:\n",
    "<table border=\"1\" class=\"dataframe\">\n",
    "  <thead>\n",
    "    <tr style=\"text-align: right;\">\n",
    "      <th>Author_Names</th>\n",
    "      <th>Control</th>\n",
    "      <th>Full_Name</th>\n",
    "    </tr>\n",
    "  </thead>\n",
    "  <tbody>\n",
    "    <tr>\n",
    "      <td> Zapata, Oscar;Zapata, O.</td>\n",
    "      <td> 0</td>\n",
    "      <td> Óscar Alberto Zapata Noreña</td>\n",
    "    </tr>\n",
    "  </tbody>\n",
    "</table>\n",
    "Where control is some identification number associated to the author.\n",
    "\n",
    "\n",
    "We assume also that there is a data base with the Group at which some real name author belongs in the format:\n",
    "<table border=\"1\" class=\"dataframe\">\n",
    "  <thead>\n",
    "    <tr style=\"text-align: right;\">\n",
    "      <th>Full_Name</th>\n",
    "      <th>Institution_Group</th>\n",
    "    </tr>\n",
    "  </thead>\n",
    "  <tbody>\n",
    "    <tr>\n",
    "      <td> Óscar Alberto Zapata Noreña</td>\n",
    "      <td> GFIF</td>\n",
    "    </tr>\n",
    "  </tbody>\n",
    "</table>"
   ]
  },
  {
   "cell_type": "code",
   "execution_count": 18,
   "metadata": {
    "collapsed": false
   },
   "outputs": [
    {
     "data": {
      "text/html": [
       "<div style=\"max-height:1000px;max-width:1500px;overflow:auto;\">\n",
       "<table border=\"1\" class=\"dataframe\">\n",
       "  <thead>\n",
       "    <tr style=\"text-align: right;\">\n",
       "      <th></th>\n",
       "      <th>Author_Names</th>\n",
       "      <th>Control</th>\n",
       "      <th>Full_Name</th>\n",
       "    </tr>\n",
       "  </thead>\n",
       "  <tbody>\n",
       "    <tr>\n",
       "      <th>0</th>\n",
       "      <td> Zapata, Oscar;Zapata, O.</td>\n",
       "      <td> 0</td>\n",
       "      <td> Óscar Alberto Zapata Noreña</td>\n",
       "    </tr>\n",
       "  </tbody>\n",
       "</table>\n",
       "</div>"
      ],
      "text/plain": [
       "               Author_Names  Control                    Full_Name\n",
       "0  Zapata, Oscar;Zapata, O.        0  Óscar Alberto Zapata Noreña"
      ]
     },
     "execution_count": 18,
     "metadata": {},
     "output_type": "execute_result"
    }
   ],
   "source": [
    "a=articles('citations.csv',authors_file='authors.json',group_file='groups.json')\n",
    "a.institution_authors"
   ]
  },
  {
   "cell_type": "code",
   "execution_count": 19,
   "metadata": {
    "collapsed": false
   },
   "outputs": [
    {
     "data": {
      "text/html": [
       "<div style=\"max-height:1000px;max-width:1500px;overflow:auto;\">\n",
       "<table border=\"1\" class=\"dataframe\">\n",
       "  <thead>\n",
       "    <tr style=\"text-align: right;\">\n",
       "      <th></th>\n",
       "      <th>Full_Name</th>\n",
       "      <th>Institution_Group</th>\n",
       "    </tr>\n",
       "  </thead>\n",
       "  <tbody>\n",
       "    <tr>\n",
       "      <th>0</th>\n",
       "      <td> Óscar Alberto Zapata Noreña</td>\n",
       "      <td> GFIF</td>\n",
       "    </tr>\n",
       "  </tbody>\n",
       "</table>\n",
       "</div>"
      ],
      "text/plain": [
       "                     Full_Name Institution_Group\n",
       "0  Óscar Alberto Zapata Noreña              GFIF"
      ]
     },
     "execution_count": 19,
     "metadata": {},
     "output_type": "execute_result"
    }
   ],
   "source": [
    "a.institution_group"
   ]
  },
  {
   "cell_type": "code",
   "execution_count": 20,
   "metadata": {
    "collapsed": false
   },
   "outputs": [
    {
     "name": "stdout",
     "output_type": "stream",
     "text": [
      "Updating entry:0.1.2."
     ]
    }
   ],
   "source": [
    "fulldoi=a.articles_update()"
   ]
  },
  {
   "cell_type": "code",
   "execution_count": 21,
   "metadata": {
    "collapsed": false
   },
   "outputs": [
    {
     "data": {
      "text/html": [
       "<div style=\"max-height:1000px;max-width:1500px;overflow:auto;\">\n",
       "<table border=\"1\" class=\"dataframe\">\n",
       "  <thead>\n",
       "    <tr style=\"text-align: right;\">\n",
       "      <th></th>\n",
       "      <th>Authors</th>\n",
       "      <th>Title</th>\n",
       "      <th>Publication</th>\n",
       "      <th>Volume</th>\n",
       "      <th>Number</th>\n",
       "      <th>Pages</th>\n",
       "      <th>Year</th>\n",
       "      <th>Publisher</th>\n",
       "      <th>Institution_Authors</th>\n",
       "      <th>Institution_Groups</th>\n",
       "      <th>DOI</th>\n",
       "      <th>ISSN</th>\n",
       "      <th>DOI_Journal</th>\n",
       "    </tr>\n",
       "  </thead>\n",
       "  <tbody>\n",
       "    <tr>\n",
       "      <th>0</th>\n",
       "      <td> Sierra, D Aristizabal; Kubo, Jisuke; Suematsu, Daijiro; Restrepo, D; Zapata, Oscar; </td>\n",
       "      <td> Radiative seesaw model: Warm dark matter, collider signatures, and lepton flavor violating signals</td>\n",
       "      <td>                              Physical Review D</td>\n",
       "      <td>   79</td>\n",
       "      <td>  1</td>\n",
       "      <td> 13011</td>\n",
       "      <td> 2009</td>\n",
       "      <td>            APS</td>\n",
       "      <td> Óscar Alberto Zapata Noreña</td>\n",
       "      <td> GFIF</td>\n",
       "      <td>    http://dx.doi.org/10.1103/physrevd.79.013011</td>\n",
       "      <td> 1550-7998;1550-2368</td>\n",
       "      <td>                              Physical Review D</td>\n",
       "    </tr>\n",
       "    <tr>\n",
       "      <th>1</th>\n",
       "      <td>                           Restrepo, Diego; Taoso, Marco; Valle, JWF; Zapata, Oscar; </td>\n",
       "      <td>                         Gravitino dark matter and neutrino masses with bilinear R-parity violation</td>\n",
       "      <td>                              Physical Review D</td>\n",
       "      <td>   85</td>\n",
       "      <td>  2</td>\n",
       "      <td> 23523</td>\n",
       "      <td> 2012</td>\n",
       "      <td>            APS</td>\n",
       "      <td> Óscar Alberto Zapata Noreña</td>\n",
       "      <td> GFIF</td>\n",
       "      <td>    http://dx.doi.org/10.1103/physrevd.85.023523</td>\n",
       "      <td> 1550-7998;1550-2368</td>\n",
       "      <td>                              Physical Review D</td>\n",
       "    </tr>\n",
       "    <tr>\n",
       "      <th>2</th>\n",
       "      <td>                   Choi, Ki-Young; Restrepo, Diego; Yaguna, Carlos E; Zapata, Oscar; </td>\n",
       "      <td>                        Indirect detection of gravitino dark matter including its three-body decays</td>\n",
       "      <td> Journal of Cosmology and Astroparticle Physics</td>\n",
       "      <td> 2010</td>\n",
       "      <td> 10</td>\n",
       "      <td>    33</td>\n",
       "      <td> 2010</td>\n",
       "      <td> IOP Publishing</td>\n",
       "      <td> Óscar Alberto Zapata Noreña</td>\n",
       "      <td> GFIF</td>\n",
       "      <td> http://dx.doi.org/10.1088/1475-7516/2010/10/033</td>\n",
       "      <td>           1475-7516</td>\n",
       "      <td> Journal of Cosmology and Astroparticle Physics</td>\n",
       "    </tr>\n",
       "  </tbody>\n",
       "</table>\n",
       "</div>"
      ],
      "text/plain": [
       "                                                                                Authors  \\\n",
       "0  Sierra, D Aristizabal; Kubo, Jisuke; Suematsu, Daijiro; Restrepo, D; Zapata, Oscar;    \n",
       "1                            Restrepo, Diego; Taoso, Marco; Valle, JWF; Zapata, Oscar;    \n",
       "2                    Choi, Ki-Young; Restrepo, Diego; Yaguna, Carlos E; Zapata, Oscar;    \n",
       "\n",
       "                                                                                                Title  \\\n",
       "0  Radiative seesaw model: Warm dark matter, collider signatures, and lepton flavor violating signals   \n",
       "1                          Gravitino dark matter and neutrino masses with bilinear R-parity violation   \n",
       "2                         Indirect detection of gravitino dark matter including its three-body decays   \n",
       "\n",
       "                                      Publication  Volume  Number  Pages  \\\n",
       "0                               Physical Review D      79       1  13011   \n",
       "1                               Physical Review D      85       2  23523   \n",
       "2  Journal of Cosmology and Astroparticle Physics    2010      10     33   \n",
       "\n",
       "   Year       Publisher          Institution_Authors Institution_Groups  \\\n",
       "0  2009             APS  Óscar Alberto Zapata Noreña               GFIF   \n",
       "1  2012             APS  Óscar Alberto Zapata Noreña               GFIF   \n",
       "2  2010  IOP Publishing  Óscar Alberto Zapata Noreña               GFIF   \n",
       "\n",
       "                                               DOI                 ISSN  \\\n",
       "0     http://dx.doi.org/10.1103/physrevd.79.013011  1550-7998;1550-2368   \n",
       "1     http://dx.doi.org/10.1103/physrevd.85.023523  1550-7998;1550-2368   \n",
       "2  http://dx.doi.org/10.1088/1475-7516/2010/10/033            1475-7516   \n",
       "\n",
       "                                      DOI_Journal  \n",
       "0                               Physical Review D  \n",
       "1                               Physical Review D  \n",
       "2  Journal of Cosmology and Astroparticle Physics  "
      ]
     },
     "execution_count": 21,
     "metadata": {},
     "output_type": "execute_result"
    }
   ],
   "source": [
    "a.articles"
   ]
  },
  {
   "cell_type": "code",
   "execution_count": 8,
   "metadata": {
    "collapsed": false
   },
   "outputs": [
    {
     "data": {
      "text/html": [
       "<div style=\"max-height:1000px;max-width:1500px;overflow:auto;\">\n",
       "<table border=\"1\" class=\"dataframe\">\n",
       "  <thead>\n",
       "    <tr style=\"text-align: right;\">\n",
       "      <th></th>\n",
       "      <th>DOI</th>\n",
       "      <th>ISSN</th>\n",
       "      <th>URL</th>\n",
       "      <th>article-number</th>\n",
       "      <th>author</th>\n",
       "      <th>container-title</th>\n",
       "      <th>created</th>\n",
       "      <th>deposited</th>\n",
       "      <th>indexed</th>\n",
       "      <th>issue</th>\n",
       "      <th>issued</th>\n",
       "      <th>license</th>\n",
       "      <th>link</th>\n",
       "      <th>member</th>\n",
       "      <th>prefix</th>\n",
       "      <th>published-online</th>\n",
       "      <th>publisher</th>\n",
       "      <th>reference-count</th>\n",
       "      <th>score</th>\n",
       "      <th>source</th>\n",
       "      <th>subject</th>\n",
       "      <th>subtitle</th>\n",
       "      <th>title</th>\n",
       "      <th>type</th>\n",
       "      <th>volume</th>\n",
       "      <th>page</th>\n",
       "    </tr>\n",
       "  </thead>\n",
       "  <tbody>\n",
       "    <tr>\n",
       "      <th>0</th>\n",
       "      <td> 10.1103/physrevd.79.013011</td>\n",
       "      <td> [1550-7998, 1550-2368]</td>\n",
       "      <td> http://dx.doi.org/10.1103/physrevd.79.013011</td>\n",
       "      <td> 013011</td>\n",
       "      <td> [{'affiliation': [], 'given': 'D.', 'family': 'Aristizabal Sierra'}, {'affiliation': [], 'given': 'Jisuke', 'family': 'Kubo'}, {'affiliation': [], 'given': 'Daijiro', 'family': 'Suematsu'}, {'affi...</td>\n",
       "      <td> [Physical Review D, Phys. Rev. D]</td>\n",
       "      <td> {'date-parts': [[2009, 1, 28]], 'timestamp': 1233162501000, 'date-time': '2009-01-28T17:08:21Z'}</td>\n",
       "      <td> {'date-parts': [[2015, 3, 26]], 'timestamp': 1427391551000, 'date-time': '2015-03-26T17:39:11Z'}</td>\n",
       "      <td> {'date-parts': [[2015, 12, 20]], 'timestamp': 1450639904869, 'date-time': '2015-12-20T19:31:44Z'}</td>\n",
       "      <td> 1</td>\n",
       "      <td> {'date-parts': [[2009, 1, 28]]}</td>\n",
       "      <td> [{'content-version': 'vor', 'URL': 'http://link.aps.org/licenses/aps-default-license', 'start': {'date-parts': [[2009, 1, 28]], 'timestamp': 1233100800000, 'date-time': '2009-01-28T00:00:00Z'}, 'd...</td>\n",
       "      <td> [{'intended-application': 'syndication', 'content-version': 'vor', 'URL': 'http://link.aps.org/article/10.1103/PhysRevD.79.013011', 'content-type': 'unspecified'}]</td>\n",
       "      <td> http://id.crossref.org/member/16</td>\n",
       "      <td> http://id.crossref.org/prefix/10.1103</td>\n",
       "      <td> {'date-parts': [[2009, 1, 28]]}</td>\n",
       "      <td> American Physical Society (APS)</td>\n",
       "      <td> 66</td>\n",
       "      <td> 1</td>\n",
       "      <td> CrossRef</td>\n",
       "      <td> [Nuclear and High Energy Physics]</td>\n",
       "      <td> []</td>\n",
       "      <td> [Radiative seesaw model: Warm dark matter, collider signatures, and lepton flavor violating signals]</td>\n",
       "      <td> journal-article</td>\n",
       "      <td> 79</td>\n",
       "      <td> </td>\n",
       "    </tr>\n",
       "  </tbody>\n",
       "</table>\n",
       "</div>"
      ],
      "text/plain": [
       "                          DOI                    ISSN  \\\n",
       "0  10.1103/physrevd.79.013011  [1550-7998, 1550-2368]   \n",
       "\n",
       "                                            URL article-number  \\\n",
       "0  http://dx.doi.org/10.1103/physrevd.79.013011         013011   \n",
       "\n",
       "                                                                                                                                                                                                    author  \\\n",
       "0  [{'affiliation': [], 'given': 'D.', 'family': 'Aristizabal Sierra'}, {'affiliation': [], 'given': 'Jisuke', 'family': 'Kubo'}, {'affiliation': [], 'given': 'Daijiro', 'family': 'Suematsu'}, {'affi...   \n",
       "\n",
       "                     container-title  \\\n",
       "0  [Physical Review D, Phys. Rev. D]   \n",
       "\n",
       "                                                                                            created  \\\n",
       "0  {'date-parts': [[2009, 1, 28]], 'timestamp': 1233162501000, 'date-time': '2009-01-28T17:08:21Z'}   \n",
       "\n",
       "                                                                                          deposited  \\\n",
       "0  {'date-parts': [[2015, 3, 26]], 'timestamp': 1427391551000, 'date-time': '2015-03-26T17:39:11Z'}   \n",
       "\n",
       "                                                                                             indexed  \\\n",
       "0  {'date-parts': [[2015, 12, 20]], 'timestamp': 1450639904869, 'date-time': '2015-12-20T19:31:44Z'}   \n",
       "\n",
       "  issue                           issued  \\\n",
       "0     1  {'date-parts': [[2009, 1, 28]]}   \n",
       "\n",
       "                                                                                                                                                                                                   license  \\\n",
       "0  [{'content-version': 'vor', 'URL': 'http://link.aps.org/licenses/aps-default-license', 'start': {'date-parts': [[2009, 1, 28]], 'timestamp': 1233100800000, 'date-time': '2009-01-28T00:00:00Z'}, 'd...   \n",
       "\n",
       "                                                                                                                                                                  link  \\\n",
       "0  [{'intended-application': 'syndication', 'content-version': 'vor', 'URL': 'http://link.aps.org/article/10.1103/PhysRevD.79.013011', 'content-type': 'unspecified'}]   \n",
       "\n",
       "                             member                                 prefix  \\\n",
       "0  http://id.crossref.org/member/16  http://id.crossref.org/prefix/10.1103   \n",
       "\n",
       "                  published-online                        publisher  \\\n",
       "0  {'date-parts': [[2009, 1, 28]]}  American Physical Society (APS)   \n",
       "\n",
       "   reference-count  score    source                            subject  \\\n",
       "0               66      1  CrossRef  [Nuclear and High Energy Physics]   \n",
       "\n",
       "  subtitle  \\\n",
       "0       []   \n",
       "\n",
       "                                                                                                  title  \\\n",
       "0  [Radiative seesaw model: Warm dark matter, collider signatures, and lepton flavor violating signals]   \n",
       "\n",
       "              type volume page  \n",
       "0  journal-article     79       "
      ]
     },
     "execution_count": 8,
     "metadata": {},
     "output_type": "execute_result"
    }
   ],
   "source": [
    "fulldoi[:1]"
   ]
  },
  {
   "cell_type": "markdown",
   "metadata": {},
   "source": [
    "## Save uptated data base"
   ]
  },
  {
   "cell_type": "code",
   "execution_count": 9,
   "metadata": {
    "collapsed": true
   },
   "outputs": [],
   "source": [
    "a.to_csv('newcitations.csv')"
   ]
  },
  {
   "cell_type": "markdown",
   "metadata": {},
   "source": [
    "Restore saved data base"
   ]
  },
  {
   "cell_type": "code",
   "execution_count": 10,
   "metadata": {
    "collapsed": true
   },
   "outputs": [],
   "source": [
    "arts=articles('newcitations.csv',authors_file='authors.json',group_file='groups.json')"
   ]
  },
  {
   "cell_type": "code",
   "execution_count": 11,
   "metadata": {
    "collapsed": false
   },
   "outputs": [
    {
     "name": "stdout",
     "output_type": "stream",
     "text": [
      "Updating entry:0.1.2."
     ]
    },
    {
     "data": {
      "text/html": [
       "<div style=\"max-height:1000px;max-width:1500px;overflow:auto;\">\n",
       "<table border=\"1\" class=\"dataframe\">\n",
       "  <thead>\n",
       "    <tr style=\"text-align: right;\">\n",
       "      <th></th>\n",
       "    </tr>\n",
       "  </thead>\n",
       "  <tbody>\n",
       "  </tbody>\n",
       "</table>\n",
       "</div>"
      ],
      "text/plain": [
       "Empty DataFrame\n",
       "Columns: []\n",
       "Index: []"
      ]
     },
     "execution_count": 11,
     "metadata": {},
     "output_type": "execute_result"
    }
   ],
   "source": [
    "arts.articles_update()"
   ]
  },
  {
   "cell_type": "code",
   "execution_count": 12,
   "metadata": {
    "collapsed": false
   },
   "outputs": [
    {
     "data": {
      "text/html": [
       "<div style=\"max-height:1000px;max-width:1500px;overflow:auto;\">\n",
       "<table border=\"1\" class=\"dataframe\">\n",
       "  <thead>\n",
       "    <tr style=\"text-align: right;\">\n",
       "      <th></th>\n",
       "      <th>Authors</th>\n",
       "      <th>Title</th>\n",
       "      <th>Publication</th>\n",
       "      <th>Volume</th>\n",
       "      <th>Number</th>\n",
       "      <th>Pages</th>\n",
       "      <th>Year</th>\n",
       "      <th>Publisher</th>\n",
       "      <th>Institution_Authors</th>\n",
       "      <th>Institution_Groups</th>\n",
       "      <th>DOI</th>\n",
       "      <th>ISSN</th>\n",
       "      <th>DOI_Journal</th>\n",
       "    </tr>\n",
       "  </thead>\n",
       "  <tbody>\n",
       "    <tr>\n",
       "      <th>0</th>\n",
       "      <td> Sierra, D Aristizabal; Kubo, Jisuke; Suematsu, Daijiro; Restrepo, D; Zapata, Oscar; </td>\n",
       "      <td> Radiative seesaw model: Warm dark matter, collider signatures, and lepton flavor violating signals</td>\n",
       "      <td>                              Physical Review D</td>\n",
       "      <td>   79</td>\n",
       "      <td>  1</td>\n",
       "      <td> 13011</td>\n",
       "      <td> 2009</td>\n",
       "      <td>            APS</td>\n",
       "      <td> Óscar Alberto Zapata Noreña</td>\n",
       "      <td> GFIF</td>\n",
       "      <td>    http://dx.doi.org/10.1103/physrevd.79.013011</td>\n",
       "      <td> 1550-7998;1550-2368</td>\n",
       "      <td>                              Physical Review D</td>\n",
       "    </tr>\n",
       "    <tr>\n",
       "      <th>1</th>\n",
       "      <td>                           Restrepo, Diego; Taoso, Marco; Valle, JWF; Zapata, Oscar; </td>\n",
       "      <td>                         Gravitino dark matter and neutrino masses with bilinear R-parity violation</td>\n",
       "      <td>                              Physical Review D</td>\n",
       "      <td>   85</td>\n",
       "      <td>  2</td>\n",
       "      <td> 23523</td>\n",
       "      <td> 2012</td>\n",
       "      <td>            APS</td>\n",
       "      <td> Óscar Alberto Zapata Noreña</td>\n",
       "      <td> GFIF</td>\n",
       "      <td>    http://dx.doi.org/10.1103/physrevd.85.023523</td>\n",
       "      <td> 1550-7998;1550-2368</td>\n",
       "      <td>                              Physical Review D</td>\n",
       "    </tr>\n",
       "    <tr>\n",
       "      <th>2</th>\n",
       "      <td>                   Choi, Ki-Young; Restrepo, Diego; Yaguna, Carlos E; Zapata, Oscar; </td>\n",
       "      <td>                        Indirect detection of gravitino dark matter including its three-body decays</td>\n",
       "      <td> Journal of Cosmology and Astroparticle Physics</td>\n",
       "      <td> 2010</td>\n",
       "      <td> 10</td>\n",
       "      <td>    33</td>\n",
       "      <td> 2010</td>\n",
       "      <td> IOP Publishing</td>\n",
       "      <td> Óscar Alberto Zapata Noreña</td>\n",
       "      <td> GFIF</td>\n",
       "      <td> http://dx.doi.org/10.1088/1475-7516/2010/10/033</td>\n",
       "      <td>           1475-7516</td>\n",
       "      <td> Journal of Cosmology and Astroparticle Physics</td>\n",
       "    </tr>\n",
       "  </tbody>\n",
       "</table>\n",
       "</div>"
      ],
      "text/plain": [
       "                                                                                Authors  \\\n",
       "0  Sierra, D Aristizabal; Kubo, Jisuke; Suematsu, Daijiro; Restrepo, D; Zapata, Oscar;    \n",
       "1                            Restrepo, Diego; Taoso, Marco; Valle, JWF; Zapata, Oscar;    \n",
       "2                    Choi, Ki-Young; Restrepo, Diego; Yaguna, Carlos E; Zapata, Oscar;    \n",
       "\n",
       "                                                                                                Title  \\\n",
       "0  Radiative seesaw model: Warm dark matter, collider signatures, and lepton flavor violating signals   \n",
       "1                          Gravitino dark matter and neutrino masses with bilinear R-parity violation   \n",
       "2                         Indirect detection of gravitino dark matter including its three-body decays   \n",
       "\n",
       "                                      Publication  Volume  Number  Pages  \\\n",
       "0                               Physical Review D      79       1  13011   \n",
       "1                               Physical Review D      85       2  23523   \n",
       "2  Journal of Cosmology and Astroparticle Physics    2010      10     33   \n",
       "\n",
       "   Year       Publisher          Institution_Authors Institution_Groups  \\\n",
       "0  2009             APS  Óscar Alberto Zapata Noreña               GFIF   \n",
       "1  2012             APS  Óscar Alberto Zapata Noreña               GFIF   \n",
       "2  2010  IOP Publishing  Óscar Alberto Zapata Noreña               GFIF   \n",
       "\n",
       "                                               DOI                 ISSN  \\\n",
       "0     http://dx.doi.org/10.1103/physrevd.79.013011  1550-7998;1550-2368   \n",
       "1     http://dx.doi.org/10.1103/physrevd.85.023523  1550-7998;1550-2368   \n",
       "2  http://dx.doi.org/10.1088/1475-7516/2010/10/033            1475-7516   \n",
       "\n",
       "                                      DOI_Journal  \n",
       "0                               Physical Review D  \n",
       "1                               Physical Review D  \n",
       "2  Journal of Cosmology and Astroparticle Physics  "
      ]
     },
     "execution_count": 12,
     "metadata": {},
     "output_type": "execute_result"
    }
   ],
   "source": [
    "arts.articles"
   ]
  },
  {
   "cell_type": "code",
   "execution_count": 52,
   "metadata": {
    "collapsed": false
   },
   "outputs": [
    {
     "data": {
      "text/plain": [
       "DOI                                                                                                                                                                                              10.1103/physrevd.85.023523\n",
       "ISSN                                                                                                                                                                                                 [1550-7998, 1550-2368]\n",
       "URL                                                                                                                                                                            http://dx.doi.org/10.1103/physrevd.85.023523\n",
       "article-number                                                                                                                                                                                                       023523\n",
       "author              [{'affiliation': [], 'family': 'Restrepo', 'given': 'Diego'}, {'affiliation': [], 'family': 'Taoso', 'given': 'Marco'}, {'affiliation': [], 'family': 'Valle', 'given': 'J. W. F.'}, {'affiliation':...\n",
       "container-title                                                                                                                                                                           [Physical Review D, Phys. Rev. D]\n",
       "created                                                                                                                    {'timestamp': 1327353600000, 'date-time': '2012-01-23T21:20:00Z', 'date-parts': [[2012, 1, 23]]}\n",
       "deposited                                                                                                                  {'timestamp': 1427349864000, 'date-time': '2015-03-26T06:04:24Z', 'date-parts': [[2015, 3, 26]]}\n",
       "indexed                                                                                                                   {'timestamp': 1450648745825, 'date-time': '2015-12-20T21:59:05Z', 'date-parts': [[2015, 12, 20]]}\n",
       "issue                                                                                                                                                                                                                     2\n",
       "issued                                                                                                                                                                                      {'date-parts': [[2012, 1, 23]]}\n",
       "license             [{'start': {'timestamp': 1327276800000, 'date-time': '2012-01-23T00:00:00Z', 'date-parts': [[2012, 1, 23]]}, 'content-version': 'vor', 'URL': 'http://link.aps.org/licenses/aps-default-license', 'd...\n",
       "link                                                    [{'URL': 'http://link.aps.org/article/10.1103/PhysRevD.85.023523', 'content-version': 'vor', 'intended-application': 'syndication', 'content-type': 'unspecified'}]\n",
       "member                                                                                                                                                                                     http://id.crossref.org/member/16\n",
       "prefix                                                                                                                                                                                http://id.crossref.org/prefix/10.1103\n",
       "published-online                                                                                                                                                                            {'date-parts': [[2012, 1, 23]]}\n",
       "publisher                                                                                                                                                                                   American Physical Society (APS)\n",
       "reference-count                                                                                                                                                                                                          67\n",
       "score                                                                                                                                                                                                                     1\n",
       "source                                                                                                                                                                                                             CrossRef\n",
       "subject                                                                                                                                                                                   [Nuclear and High Energy Physics]\n",
       "subtitle                                                                                                                                                                                                                 []\n",
       "title                                                                                                                                     [ Gravitino dark matter and neutrino masses with bilinear  R  -parity violation ]\n",
       "type                                                                                                                                                                                                        journal-article\n",
       "volume                                                                                                                                                                                                                   85\n",
       "page                                                                                                                                                                                                                       \n",
       "Name: 1, dtype: object"
      ]
     },
     "execution_count": 52,
     "metadata": {},
     "output_type": "execute_result"
    }
   ],
   "source": [
    "rr=fulldoi.ix[1]\n",
    "rr"
   ]
  },
  {
   "cell_type": "code",
   "execution_count": 63,
   "metadata": {
    "collapsed": false
   },
   "outputs": [
    {
     "data": {
      "text/plain": [
       "['1550-7998', '1550-2368']"
      ]
     },
     "execution_count": 63,
     "metadata": {},
     "output_type": "execute_result"
    }
   ],
   "source": [
    "rr.ISSN"
   ]
  },
  {
   "cell_type": "code",
   "execution_count": 51,
   "metadata": {
    "collapsed": false
   },
   "outputs": [
    {
     "data": {
      "text/plain": [
       "'1475-7516'"
      ]
     },
     "execution_count": 51,
     "metadata": {},
     "output_type": "execute_result"
    }
   ],
   "source": [
    "issn"
   ]
  },
  {
   "cell_type": "code",
   "execution_count": 42,
   "metadata": {
    "collapsed": false
   },
   "outputs": [
    {
     "data": {
      "text/plain": [
       "'1550-7998;1550-2368'"
      ]
     },
     "execution_count": 42,
     "metadata": {},
     "output_type": "execute_result"
    }
   ],
   "source": [
    "issn"
   ]
  },
  {
   "cell_type": "code",
   "execution_count": null,
   "metadata": {
    "collapsed": true
   },
   "outputs": [],
   "source": []
  }
 ],
 "metadata": {
  "kernelspec": {
   "display_name": "Python 3",
   "language": "python",
   "name": "python3"
  },
  "language_info": {
   "codemirror_mode": {
    "name": "ipython",
    "version": 3
   },
   "file_extension": ".py",
   "mimetype": "text/x-python",
   "name": "python",
   "nbconvert_exporter": "python",
   "pygments_lexer": "ipython3",
   "version": "3.4.2"
  }
 },
 "nbformat": 4,
 "nbformat_minor": 0
}
